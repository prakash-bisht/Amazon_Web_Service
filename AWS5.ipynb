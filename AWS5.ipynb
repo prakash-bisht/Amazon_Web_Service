{
 "cells": [
  {
   "cell_type": "code",
   "execution_count": 2,
   "metadata": {},
   "outputs": [
    {
     "name": "stdout",
     "output_type": "stream",
     "text": [
      "/opt/conda/lib/python3.7/site-packages/secretstorage/dhcrypto.py:16: CryptographyDeprecationWarning: int_from_bytes is deprecated, use int.from_bytes instead\n",
      "  from cryptography.utils import int_from_bytes\n",
      "/opt/conda/lib/python3.7/site-packages/secretstorage/util.py:25: CryptographyDeprecationWarning: int_from_bytes is deprecated, use int.from_bytes instead\n",
      "  from cryptography.utils import int_from_bytes\n",
      "\u001b[33mWARNING: Running pip as the 'root' user can result in broken permissions and conflicting behaviour with the system package manager. It is recommended to use a virtual environment instead: https://pip.pypa.io/warnings/venv\u001b[0m\n",
      "Collecting package metadata (current_repodata.json): ...working... done\n",
      "Solving environment: ...working... done\n",
      "\n",
      "## Package Plan ##\n",
      "\n",
      "  environment location: /opt/conda\n",
      "\n",
      "  added / updated specs:\n",
      "    - pytorch==1.6.0\n",
      "\n",
      "\n",
      "The following packages will be downloaded:\n",
      "\n",
      "    package                    |            build\n",
      "    ---------------------------|-----------------\n",
      "    ca-certificates-2021.7.5   |       h06a4308_1         113 KB\n",
      "    certifi-2021.5.30          |   py37h06a4308_0         139 KB\n",
      "    cudatoolkit-10.2.89        |       hfd86e86_1       365.1 MB\n",
      "    ninja-1.10.2               |       hff7bd54_1         1.4 MB\n",
      "    pytorch-1.6.0              |py3.7_cuda10.2.89_cudnn7.6.5_0       537.7 MB  pytorch\n",
      "    ------------------------------------------------------------\n",
      "                                           Total:       904.5 MB\n",
      "\n",
      "The following NEW packages will be INSTALLED:\n",
      "\n",
      "  cudatoolkit        pkgs/main/linux-64::cudatoolkit-10.2.89-hfd86e86_1\n",
      "  ninja              pkgs/main/linux-64::ninja-1.10.2-hff7bd54_1\n",
      "  pytorch            pytorch/linux-64::pytorch-1.6.0-py3.7_cuda10.2.89_cudnn7.6.5_0\n",
      "\n",
      "The following packages will be UPDATED:\n",
      "\n",
      "  ca-certificates    conda-forge::ca-certificates-2021.5.3~ --> pkgs/main::ca-certificates-2021.7.5-h06a4308_1\n",
      "\n",
      "The following packages will be SUPERSEDED by a higher-priority channel:\n",
      "\n",
      "  certifi            conda-forge::certifi-2021.5.30-py37h8~ --> pkgs/main::certifi-2021.5.30-py37h06a4308_0\n",
      "\n",
      "\n",
      "Preparing transaction: ...working... done\n",
      "Verifying transaction: ...working... done\n",
      "Executing transaction: ...working... done\n",
      "/opt/conda/lib/python3.7/site-packages/secretstorage/dhcrypto.py:16: CryptographyDeprecationWarning: int_from_bytes is deprecated, use int.from_bytes instead\n",
      "  from cryptography.utils import int_from_bytes\n",
      "/opt/conda/lib/python3.7/site-packages/secretstorage/util.py:25: CryptographyDeprecationWarning: int_from_bytes is deprecated, use int.from_bytes instead\n",
      "  from cryptography.utils import int_from_bytes\n",
      "\u001b[33mWARNING: Running pip as the 'root' user can result in broken permissions and conflicting behaviour with the system package manager. It is recommended to use a virtual environment instead: https://pip.pypa.io/warnings/venv\u001b[0m\n"
     ]
    }
   ],
   "source": [
    "!pip install --disable-pip-version-check -q sagemaker==2.35.0\n",
    "!conda install -q -y pytorch==1.6.0 -c pytorch\n",
    "!pip install --disable-pip-version-check -q transformers==3.5.1"
   ]
  },
  {
   "cell_type": "code",
   "execution_count": 2,
   "metadata": {},
   "outputs": [],
   "source": [
    "import boto3 \n",
    "import botocore \n",
    "import sagemaker \n",
    "config = botocore.config.Config(user_agent_extra='dlai-pds/c2/w1')\n",
    "sm = boto3.client(service_name='sagemaker',config=config)\n",
    "featurestore_runtime = boto3.client(service_name='sagemaker-featurestore-runtime',config=config)\n",
    "sess = sagemaker.Session(sagemaker_client=sm,sagemaker_featurestore_runtime_client=featurestore_runtime)\n",
    "bucket = sess.default_bucket()\n",
    "role = sagemaker.get_execution_role()\n",
    "region = sess.boto_region_name"
   ]
  },
  {
   "cell_type": "code",
   "execution_count": 3,
   "metadata": {},
   "outputs": [
    {
     "name": "stdout",
     "output_type": "stream",
     "text": [
      "s3://dlai-practical-data-science/data/raw/\n"
     ]
    }
   ],
   "source": [
    "raw_input_data_s3_uri = 's3://dlai-practical-data-science/data/raw/'\n",
    "print(raw_input_data_s3_uri)"
   ]
  },
  {
   "cell_type": "code",
   "execution_count": 4,
   "metadata": {},
   "outputs": [
    {
     "name": "stdout",
     "output_type": "stream",
     "text": [
      "2021-04-30 02:21:06    8457214 womens_clothing_ecommerce_reviews.csv\n"
     ]
    }
   ],
   "source": [
    "!aws s3 ls $raw_input_data_s3_uri"
   ]
  },
  {
   "cell_type": "code",
   "execution_count": 5,
   "metadata": {},
   "outputs": [
    {
     "data": {
      "text/plain": [
       "'To configure a Feature Store you need to setup a Feature Group.\\nThis is the main resource containing all of the metadata related to the data stored in the Feature Store.\\nA Feature Group should contain a list of Feature Definitions. \\nA Feature Definition consists of a name and the data type. \\nThe Feature Group also contains an online store configuration and an offline store configuration controlling where the data is stored.\\nEnabling the online store allows quick access to the latest value for a record via the GetRecord API. \\nThe offline store allows storage of the data in your S3 bucket. We will be using the offline store in this lab.'"
      ]
     },
     "execution_count": 5,
     "metadata": {},
     "output_type": "execute_result"
    }
   ],
   "source": [
    "'''To configure a Feature Store you need to setup a Feature Group.\n",
    "This is the main resource containing all of the metadata related to the data stored in the Feature Store.\n",
    "A Feature Group should contain a list of Feature Definitions. \n",
    "A Feature Definition consists of a name and the data type. \n",
    "The Feature Group also contains an online store configuration and an offline store configuration controlling where the data is stored.\n",
    "Enabling the online store allows quick access to the latest value for a record via the GetRecord API. \n",
    "The offline store allows storage of the data in your S3 bucket. We will be using the offline store in this lab.'''"
   ]
  },
  {
   "cell_type": "code",
   "execution_count": 6,
   "metadata": {},
   "outputs": [
    {
     "name": "stdout",
     "output_type": "stream",
     "text": [
      "Feature group name: reviews-feature-group-1633687483\n",
      "Feature store offline prefix in S3: reviews-feature-store-1633687483\n"
     ]
    }
   ],
   "source": [
    "import time \n",
    "timestamp = int(time.time())\n",
    "feature_group_name = 'reviews-feature-group-' + str(timestamp)\n",
    "feature_store_offline_prefix = 'reviews-feature-store-' + str(timestamp)\n",
    "print('Feature group name: {}'.format(feature_group_name))\n",
    "print('Feature store offline prefix in S3: {}'.format(feature_store_offline_prefix))"
   ]
  },
  {
   "cell_type": "code",
   "execution_count": 7,
   "metadata": {},
   "outputs": [],
   "source": [
    "from sagemaker.feature_store.feature_definition import (FeatureDefinition,FeatureTypeEnum,)\n",
    "feature_definitions = [FeatureDefinition(feature_name=\"review_id\",feature_type=FeatureTypeEnum.STRING),\n",
    "                      FeatureDefinition(feature_name=\"date\",feature_type=FeatureTypeEnum.STRING),\n",
    "                      FeatureDefinition(feature_name=\"sentiment\",feature_type=FeatureTypeEnum.STRING),\n",
    "                      FeatureDefinition(feature_name=\"label_id\",feature_type=FeatureTypeEnum.STRING),\n",
    "                      FeatureDefinition(feature_name=\"input_ids\",feature_type=FeatureTypeEnum.STRING),\n",
    "                      FeatureDefinition(feature_name=\"review_body\",feature_type=FeatureTypeEnum.STRING),\n",
    "                      FeatureDefinition(feature_name=\"split_type\",feature_type=FeatureTypeEnum.STRING)]"
   ]
  },
  {
   "cell_type": "code",
   "execution_count": 8,
   "metadata": {},
   "outputs": [
    {
     "name": "stdout",
     "output_type": "stream",
     "text": [
      "FeatureGroup(name='reviews-feature-group-1633687483', sagemaker_session=<sagemaker.session.Session object at 0x7f4e1df9f6d0>, feature_definitions=[FeatureDefinition(feature_name='review_id', feature_type=<FeatureTypeEnum.STRING: 'String'>), FeatureDefinition(feature_name='date', feature_type=<FeatureTypeEnum.STRING: 'String'>), FeatureDefinition(feature_name='sentiment', feature_type=<FeatureTypeEnum.STRING: 'String'>), FeatureDefinition(feature_name='label_id', feature_type=<FeatureTypeEnum.STRING: 'String'>), FeatureDefinition(feature_name='input_ids', feature_type=<FeatureTypeEnum.STRING: 'String'>), FeatureDefinition(feature_name='review_body', feature_type=<FeatureTypeEnum.STRING: 'String'>), FeatureDefinition(feature_name='split_type', feature_type=<FeatureTypeEnum.STRING: 'String'>)])\n"
     ]
    }
   ],
   "source": [
    "from sagemaker.feature_store.feature_group import FeatureGroup \n",
    "feature_group = FeatureGroup(name=feature_group_name,\n",
    "                            feature_definitions=feature_definitions,\n",
    "                            sagemaker_session=sess)\n",
    "print(feature_group)"
   ]
  },
  {
   "cell_type": "code",
   "execution_count": 9,
   "metadata": {},
   "outputs": [
    {
     "data": {
      "text/plain": [
       "\"Set the transformation parameters including the instance type, instance count, and train/validation/test split percentages. \\nFor the purposes of this lab, you will use a relatively small instance type. \\nPlease refer to this link for additional instance types that may work for your use case outside of this lab.\\nYou can also choose whether you want to balance the dataset or not.\\nIn this case, you will balance the dataset to avoid class imbalance in the target variable, sentiment.\\nAnother important parameter of the model is the max_seq_length,\\nwhich specifies the maximum length of the classified reviews for the RoBERTa model.\\nIf the sentence is shorter than the maximum length parameter, it will be padded. \\nIn another case, when the sentence is longer, it will be truncated from the right side.\\nSince a smaller max_seq_length leads to faster training and lower resource utilization, \\nyou want to find the smallest power-of-2 that captures 100% of our reviews.\\nFor this dataset, the 100th percentile is 115.\\nHowever, it's best to stick with powers-of-2 when using BERT. So let's choose 128 as this is the smallest power-of-2 greater than 115. \\nYou will see below how the shorter sentences will be padded to a maximum length.\""
      ]
     },
     "execution_count": 9,
     "metadata": {},
     "output_type": "execute_result"
    }
   ],
   "source": [
    "'''Set the transformation parameters including the instance type, instance count, and train/validation/test split percentages. \n",
    "For the purposes of this lab, you will use a relatively small instance type. \n",
    "Please refer to this link for additional instance types that may work for your use case outside of this lab.\n",
    "You can also choose whether you want to balance the dataset or not.\n",
    "In this case, you will balance the dataset to avoid class imbalance in the target variable, sentiment.\n",
    "Another important parameter of the model is the max_seq_length,\n",
    "which specifies the maximum length of the classified reviews for the RoBERTa model.\n",
    "If the sentence is shorter than the maximum length parameter, it will be padded. \n",
    "In another case, when the sentence is longer, it will be truncated from the right side.\n",
    "Since a smaller max_seq_length leads to faster training and lower resource utilization, \n",
    "you want to find the smallest power-of-2 that captures 100% of our reviews.\n",
    "For this dataset, the 100th percentile is 115.\n",
    "However, it's best to stick with powers-of-2 when using BERT. So let's choose 128 as this is the smallest power-of-2 greater than 115. \n",
    "You will see below how the shorter sentences will be padded to a maximum length.'''"
   ]
  },
  {
   "cell_type": "code",
   "execution_count": 10,
   "metadata": {},
   "outputs": [],
   "source": [
    "processing_instance_type='ml.m5.xlarge'\n",
    "processing_intance_count=1\n",
    "train_split_percentage=0.90\n",
    "test_split_percentage=0.05\n",
    "validation_split_percentage=0.05\n",
    "balance_dataset=True\n",
    "max_seq_length = 128"
   ]
  },
  {
   "cell_type": "code",
   "execution_count": 11,
   "metadata": {},
   "outputs": [],
   "source": [
    "from sagemaker.sklearn.processing import SKLearnProcessor\n",
    "processor = SKLearnProcessor(\n",
    "framework_version='0.23-1',\n",
    "role=role,\n",
    "instance_type=processing_instance_type,\n",
    "instance_count=processing_intance_count,\n",
    "env={'AWS_DEFAULT_REGION':region},\n",
    "max_runtime_in_seconds=7200)"
   ]
  },
  {
   "cell_type": "code",
   "execution_count": 12,
   "metadata": {},
   "outputs": [
    {
     "name": "stdout",
     "output_type": "stream",
     "text": [
      "##################\n",
      "Updated correctly!\n",
      "##################\n"
     ]
    }
   ],
   "source": [
    "import sys, importlib\n",
    "sys.path.append('src/')\n",
    "import prepare_data\n",
    "if 'prepare_data' in sys.modules:\n",
    "    importlib.reload(prepare_data)\n",
    "input_ids = prepare_data.convert_to_bert_input_ids(\"this product is great!\", max_seq_length)   \n",
    "updated_correctly = False\n",
    "if len(input_ids) != max_seq_length:\n",
    "    print('#######################################################################################################')\n",
    "    print('Please check that the function \\'convert_to_bert_input_ids\\' in the file src/prepare_data.py is complete.')\n",
    "    print('#######################################################################################################')\n",
    "    raise Exception('Please check that the function \\'convert_to_bert_input_ids\\' in the file src/prepare_data.py is complete.')\n",
    "else:\n",
    "    print('##################')\n",
    "    print('Updated correctly!')\n",
    "    print('##################')\n",
    "\n",
    "    updated_correctly = True"
   ]
  },
  {
   "cell_type": "code",
   "execution_count": 13,
   "metadata": {},
   "outputs": [
    {
     "name": "stdout",
     "output_type": "stream",
     "text": [
      "[0, 9226, 1152, 16, 372, 328, 2, 1, 1, 1, 1, 1, 1, 1, 1, 1, 1, 1, 1, 1, 1, 1, 1, 1, 1, 1, 1, 1, 1, 1, 1, 1, 1, 1, 1, 1, 1, 1, 1, 1, 1, 1, 1, 1, 1, 1, 1, 1, 1, 1, 1, 1, 1, 1, 1, 1, 1, 1, 1, 1, 1, 1, 1, 1, 1, 1, 1, 1, 1, 1, 1, 1, 1, 1, 1, 1, 1, 1, 1, 1, 1, 1, 1, 1, 1, 1, 1, 1, 1, 1, 1, 1, 1, 1, 1, 1, 1, 1, 1, 1, 1, 1, 1, 1, 1, 1, 1, 1, 1, 1, 1, 1, 1, 1, 1, 1, 1, 1, 1, 1, 1, 1, 1, 1, 1, 1, 1, 1]\n",
      "Length of the sequence: 128\n"
     ]
    }
   ],
   "source": [
    "input_ids = prepare_data.convert_to_bert_input_ids(\"this product is great!\", max_seq_length)\n",
    "print(input_ids)\n",
    "print('Length of the sequence: {}'.format(len(input_ids)))"
   ]
  },
  {
   "cell_type": "code",
   "execution_count": 15,
   "metadata": {},
   "outputs": [
    {
     "name": "stdout",
     "output_type": "stream",
     "text": [
      "\n",
      "Job Name:  sagemaker-scikit-learn-2021-10-08-10-24-11-373\n",
      "Inputs:  [{'InputName': 'input-1', 'AppManaged': False, 'S3Input': {'S3Uri': 's3://dlai-practical-data-science/data/raw/', 'LocalPath': '/opt/ml/processing/input/data/', 'S3DataType': 'S3Prefix', 'S3InputMode': 'File', 'S3DataDistributionType': 'ShardedByS3Key', 'S3CompressionType': 'None'}}, {'InputName': 'code', 'AppManaged': False, 'S3Input': {'S3Uri': 's3://sagemaker-us-east-1-998345249834/sagemaker-scikit-learn-2021-10-08-10-24-11-373/input/code/prepare_data.py', 'LocalPath': '/opt/ml/processing/input/code', 'S3DataType': 'S3Prefix', 'S3InputMode': 'File', 'S3DataDistributionType': 'FullyReplicated', 'S3CompressionType': 'None'}}]\n",
      "Outputs:  [{'OutputName': 'sentiment-train', 'AppManaged': False, 'S3Output': {'S3Uri': 's3://sagemaker-us-east-1-998345249834/sagemaker-scikit-learn-2021-10-08-10-24-11-373/output/sentiment-train', 'LocalPath': '/opt/ml/processing/output/sentiment/train', 'S3UploadMode': 'EndOfJob'}}, {'OutputName': 'sentiment-validation', 'AppManaged': False, 'S3Output': {'S3Uri': 's3://sagemaker-us-east-1-998345249834/sagemaker-scikit-learn-2021-10-08-10-24-11-373/output/sentiment-validation', 'LocalPath': '/opt/ml/processing/output/sentiment/validation', 'S3UploadMode': 'EndOfJob'}}, {'OutputName': 'sentiment-test', 'AppManaged': False, 'S3Output': {'S3Uri': 's3://sagemaker-us-east-1-998345249834/sagemaker-scikit-learn-2021-10-08-10-24-11-373/output/sentiment-test', 'LocalPath': '/opt/ml/processing/output/sentiment/test', 'S3UploadMode': 'EndOfJob'}}]\n"
     ]
    }
   ],
   "source": [
    "from sagemaker.processing import ProcessingInput,ProcessingOutput\n",
    "if (updated_correctly):\n",
    "    processor.run(code=\"src/prepare_data.py\",\n",
    "                 inputs=[ProcessingInput(source=raw_input_data_s3_uri,\n",
    "                                    destination='/opt/ml/processing/input/data/',\n",
    "                                    s3_data_distribution_type='ShardedByS3Key')],\n",
    "                 outputs=[ProcessingOutput(output_name='sentiment-train',\n",
    "                                     source='/opt/ml/processing/output/sentiment/train',\n",
    "                                     s3_upload_mode='EndOfJob'),\n",
    "                         ProcessingOutput(output_name='sentiment-validation',\n",
    "                                     source='/opt/ml/processing/output/sentiment/validation',\n",
    "                                     s3_upload_mode='EndOfJob'),\n",
    "                        ProcessingOutput(output_name='sentiment-test',\n",
    "                                     source='/opt/ml/processing/output/sentiment/test',\n",
    "                                     s3_upload_mode='EndOfJob')],\n",
    "                 arguments=['--train-split-percentage', str(train_split_percentage),\n",
    "                         '--validation-split-percentage', str(validation_split_percentage),\n",
    "                         '--test-split-percentage', str(test_split_percentage),\n",
    "                         '--balance-dataset', str(balance_dataset),\n",
    "                         '--max-seq-length', str(max_seq_length),                         \n",
    "                         '--feature-store-offline-prefix', str(feature_store_offline_prefix),\n",
    "                         '--feature-group-name', str(feature_group_name)],\n",
    "                 logs=True,\n",
    "                 wait=False)\n",
    "else:\n",
    "    print('#######################################')\n",
    "    print('Please update the code correctly above.')\n",
    "    print('#######################################')"
   ]
  },
  {
   "cell_type": "code",
   "execution_count": 16,
   "metadata": {},
   "outputs": [
    {
     "name": "stdout",
     "output_type": "stream",
     "text": [
      "Processing job name: sagemaker-scikit-learn-2021-10-08-10-24-11-373\n"
     ]
    }
   ],
   "source": [
    "scikit_processing_job_name = processor.jobs[-1].describe()['ProcessingJobName']\n",
    "print('Processing job name: {}'.format(scikit_processing_job_name))"
   ]
  },
  {
   "cell_type": "code",
   "execution_count": 17,
   "metadata": {},
   "outputs": [
    {
     "name": "stdout",
     "output_type": "stream",
     "text": [
      "dict_keys(['ProcessingInputs', 'ProcessingOutputConfig', 'ProcessingJobName', 'ProcessingResources', 'StoppingCondition', 'AppSpecification', 'Environment', 'RoleArn', 'ProcessingJobArn', 'ProcessingJobStatus', 'LastModifiedTime', 'CreationTime', 'ResponseMetadata'])\n"
     ]
    }
   ],
   "source": [
    "print(processor.jobs[-1].describe().keys())"
   ]
  },
  {
   "cell_type": "code",
   "execution_count": 18,
   "metadata": {},
   "outputs": [
    {
     "name": "stdout",
     "output_type": "stream",
     "text": [
      "Processing job status: InProgress\n"
     ]
    }
   ],
   "source": [
    "scikit_processing_job_status = processor.jobs[-1].describe()['ProcessingJobStatus'] \n",
    "print('Processing job status: {}'.format(scikit_processing_job_status))"
   ]
  },
  {
   "cell_type": "code",
   "execution_count": 19,
   "metadata": {},
   "outputs": [
    {
     "data": {
      "text/html": [
       "<b>Review <a target=\"blank\" href=\"https://console.aws.amazon.com/sagemaker/home?region=us-east-1#/processing-jobs/sagemaker-scikit-learn-2021-10-08-10-24-11-373\">processing job</a></b>"
      ],
      "text/plain": [
       "<IPython.core.display.HTML object>"
      ]
     },
     "metadata": {},
     "output_type": "display_data"
    }
   ],
   "source": [
    "from IPython.core.display import display, HTML\n",
    "display(HTML('<b>Review <a target=\"blank\" href=\"https://console.aws.amazon.com/sagemaker/home?region={}#/processing-jobs/{}\">processing job</a></b>'.format(region, scikit_processing_job_name)))"
   ]
  },
  {
   "cell_type": "code",
   "execution_count": 20,
   "metadata": {},
   "outputs": [
    {
     "data": {
      "text/html": [
       "<b>Review <a target=\"blank\" href=\"https://console.aws.amazon.com/cloudwatch/home?region=us-east-1#logStream:group=/aws/sagemaker/ProcessingJobs;prefix=sagemaker-scikit-learn-2021-10-08-10-24-11-373;streamFilter=typeLogStreamPrefix\">CloudWatch logs</a> after about 5 minutes</b>"
      ],
      "text/plain": [
       "<IPython.core.display.HTML object>"
      ]
     },
     "metadata": {},
     "output_type": "display_data"
    }
   ],
   "source": [
    "from IPython.core.display import display, HTML\n",
    "display(HTML('<b>Review <a target=\"blank\" href=\"https://console.aws.amazon.com/cloudwatch/home?region={}#logStream:group=/aws/sagemaker/ProcessingJobs;prefix={};streamFilter=typeLogStreamPrefix\">CloudWatch logs</a> after about 5 minutes</b>'.format(region, scikit_processing_job_name)))"
   ]
  },
  {
   "cell_type": "code",
   "execution_count": 21,
   "metadata": {},
   "outputs": [
    {
     "data": {
      "text/html": [
       "<b>Review <a target=\"blank\" href=\"https://s3.console.aws.amazon.com/s3/buckets/sagemaker-us-east-1-998345249834/sagemaker-scikit-learn-2021-10-08-10-24-11-373/?region=us-east-1&tab=overview\">S3 output data</a> after the processing job has completed</b>"
      ],
      "text/plain": [
       "<IPython.core.display.HTML object>"
      ]
     },
     "metadata": {},
     "output_type": "display_data"
    }
   ],
   "source": [
    "from IPython.core.display import display, HTML\n",
    "display(HTML('<b>Review <a target=\"blank\" href=\"https://s3.console.aws.amazon.com/s3/buckets/{}/{}/?region={}&tab=overview\">S3 output data</a> after the processing job has completed</b>'.format(bucket, scikit_processing_job_name, region)))"
   ]
  },
  {
   "cell_type": "code",
   "execution_count": 22,
   "metadata": {},
   "outputs": [
    {
     "name": "stdout",
     "output_type": "stream",
     "text": [
      ".......................................................................!CPU times: user 265 ms, sys: 38.7 ms, total: 304 ms\n",
      "Wall time: 5min 56s\n"
     ]
    }
   ],
   "source": [
    "%%time\n",
    "running_processor = sagemaker.processing.ProcessingJob.from_processing_name(\n",
    "    processing_job_name=scikit_processing_job_name,\n",
    "    sagemaker_session=sess\n",
    ")\n",
    "running_processor.wait(logs=False)"
   ]
  },
  {
   "cell_type": "code",
   "execution_count": 23,
   "metadata": {},
   "outputs": [
    {
     "name": "stdout",
     "output_type": "stream",
     "text": [
      "s3://sagemaker-us-east-1-998345249834/sagemaker-scikit-learn-2021-10-08-10-24-11-373/output/sentiment-train\n",
      "s3://sagemaker-us-east-1-998345249834/sagemaker-scikit-learn-2021-10-08-10-24-11-373/output/sentiment-validation\n",
      "s3://sagemaker-us-east-1-998345249834/sagemaker-scikit-learn-2021-10-08-10-24-11-373/output/sentiment-test\n"
     ]
    }
   ],
   "source": [
    "processing_job_description = running_processor.describe()\n",
    "output_config = processing_job_description['ProcessingOutputConfig']\n",
    "for output in output_config['Outputs']:\n",
    "    if output['OutputName'] == 'sentiment-train':\n",
    "        processed_train_data_s3_uri = output['S3Output']['S3Uri']\n",
    "    if output['OutputName'] == 'sentiment-validation':\n",
    "        processed_validation_data_s3_uri = output['S3Output']['S3Uri']\n",
    "    if output['OutputName'] == 'sentiment-test':\n",
    "        processed_test_data_s3_uri = output['S3Output']['S3Uri']        \n",
    "print(processed_train_data_s3_uri)\n",
    "print(processed_validation_data_s3_uri)\n",
    "print(processed_test_data_s3_uri)"
   ]
  },
  {
   "cell_type": "code",
   "execution_count": 24,
   "metadata": {},
   "outputs": [
    {
     "name": "stdout",
     "output_type": "stream",
     "text": [
      "2021-10-08 10:38:09    4894856 part-algo-1-womens_clothing_ecommerce_reviews.tsv\n"
     ]
    }
   ],
   "source": [
    "!aws s3 ls $processed_train_data_s3_uri/"
   ]
  },
  {
   "cell_type": "code",
   "execution_count": 25,
   "metadata": {},
   "outputs": [
    {
     "name": "stdout",
     "output_type": "stream",
     "text": [
      "2021-10-08 10:38:09     270532 part-algo-1-womens_clothing_ecommerce_reviews.tsv\n"
     ]
    }
   ],
   "source": [
    "!aws s3 ls $processed_validation_data_s3_uri/"
   ]
  },
  {
   "cell_type": "code",
   "execution_count": 26,
   "metadata": {},
   "outputs": [
    {
     "name": "stdout",
     "output_type": "stream",
     "text": [
      "2021-10-08 10:38:10     269235 part-algo-1-womens_clothing_ecommerce_reviews.tsv\n"
     ]
    }
   ],
   "source": [
    "!aws s3 ls $processed_test_data_s3_uri/"
   ]
  },
  {
   "cell_type": "code",
   "execution_count": 27,
   "metadata": {},
   "outputs": [
    {
     "name": "stdout",
     "output_type": "stream",
     "text": [
      "download: s3://sagemaker-us-east-1-998345249834/sagemaker-scikit-learn-2021-10-08-10-24-11-373/output/sentiment-train/part-algo-1-womens_clothing_ecommerce_reviews.tsv to balanced/sentiment-train/part-algo-1-womens_clothing_ecommerce_reviews.tsv\n",
      "download: s3://sagemaker-us-east-1-998345249834/sagemaker-scikit-learn-2021-10-08-10-24-11-373/output/sentiment-validation/part-algo-1-womens_clothing_ecommerce_reviews.tsv to balanced/sentiment-validation/part-algo-1-womens_clothing_ecommerce_reviews.tsv\n",
      "download: s3://sagemaker-us-east-1-998345249834/sagemaker-scikit-learn-2021-10-08-10-24-11-373/output/sentiment-test/part-algo-1-womens_clothing_ecommerce_reviews.tsv to balanced/sentiment-test/part-algo-1-womens_clothing_ecommerce_reviews.tsv\n"
     ]
    }
   ],
   "source": [
    "!aws s3 cp $processed_train_data_s3_uri/part-algo-1-womens_clothing_ecommerce_reviews.tsv ./balanced/sentiment-train/\n",
    "!aws s3 cp $processed_validation_data_s3_uri/part-algo-1-womens_clothing_ecommerce_reviews.tsv ./balanced/sentiment-validation/\n",
    "!aws s3 cp $processed_test_data_s3_uri/part-algo-1-womens_clothing_ecommerce_reviews.tsv ./balanced/sentiment-test/"
   ]
  },
  {
   "cell_type": "code",
   "execution_count": 28,
   "metadata": {},
   "outputs": [
    {
     "name": "stdout",
     "output_type": "stream",
     "text": [
      "Glue Catalog table name: reviews-feature-group-1633687483-1633689111\n",
      "Running query: \n",
      "    SELECT date,\n",
      "        review_id,\n",
      "        sentiment, \n",
      "        label_id,\n",
      "        input_ids,\n",
      "        review_body\n",
      "    FROM \"reviews-feature-group-1633687483-1633689111\" \n",
      "    WHERE split_type='train' \n",
      "    LIMIT 5\n",
      "\n"
     ]
    }
   ],
   "source": [
    "feature_store_query = feature_group.athena_query()\n",
    "feature_store_table = feature_store_query.table_name\n",
    "query_string = \"\"\"\n",
    "    SELECT date,\n",
    "        review_id,\n",
    "        sentiment, \n",
    "        label_id,\n",
    "        input_ids,\n",
    "        review_body\n",
    "    FROM \"{}\" \n",
    "    WHERE split_type='train' \n",
    "    LIMIT 5\n",
    "\"\"\".format(feature_store_table)\n",
    "print('Glue Catalog table name: {}'.format(feature_store_table))\n",
    "print('Running query: {}'.format(query_string))"
   ]
  },
  {
   "cell_type": "code",
   "execution_count": 30,
   "metadata": {},
   "outputs": [
    {
     "name": "stdout",
     "output_type": "stream",
     "text": [
      "s3://sagemaker-us-east-1-998345249834/query_results/reviews-feature-store-1633687483/\n"
     ]
    }
   ],
   "source": [
    "output_s3_uri = 's3://{}/query_results/{}/'.format(bucket, feature_store_offline_prefix)\n",
    "print(output_s3_uri)"
   ]
  },
  {
   "cell_type": "code",
   "execution_count": 31,
   "metadata": {},
   "outputs": [],
   "source": [
    "feature_store_query.run(\n",
    "    query_string=query_string, \n",
    "    output_location=output_s3_uri \n",
    ")\n",
    "feature_store_query.wait()"
   ]
  },
  {
   "cell_type": "code",
   "execution_count": 32,
   "metadata": {},
   "outputs": [
    {
     "data": {
      "text/html": [
       "<div>\n",
       "<style scoped>\n",
       "    .dataframe tbody tr th:only-of-type {\n",
       "        vertical-align: middle;\n",
       "    }\n",
       "\n",
       "    .dataframe tbody tr th {\n",
       "        vertical-align: top;\n",
       "    }\n",
       "\n",
       "    .dataframe thead th {\n",
       "        text-align: right;\n",
       "    }\n",
       "</style>\n",
       "<table border=\"1\" class=\"dataframe\">\n",
       "  <thead>\n",
       "    <tr style=\"text-align: right;\">\n",
       "      <th></th>\n",
       "      <th>date</th>\n",
       "      <th>review_id</th>\n",
       "      <th>sentiment</th>\n",
       "      <th>label_id</th>\n",
       "      <th>input_ids</th>\n",
       "      <th>review_body</th>\n",
       "    </tr>\n",
       "  </thead>\n",
       "  <tbody>\n",
       "    <tr>\n",
       "      <th>0</th>\n",
       "      <td>2021-10-08T10:32:22Z</td>\n",
       "      <td>14450</td>\n",
       "      <td>-1</td>\n",
       "      <td>0</td>\n",
       "      <td>[0, 100, 2740, 42, 3588, 804, 4, 5, 986, 6173, 58, 6030, 14, 24, 1237, 650, 1437, 1605, 11, 5, 1...</td>\n",
       "      <td>I ordered this dress online. the previous reviews were accurate that it runs small  particularly...</td>\n",
       "    </tr>\n",
       "    <tr>\n",
       "      <th>1</th>\n",
       "      <td>2021-10-08T10:32:22Z</td>\n",
       "      <td>15615</td>\n",
       "      <td>-1</td>\n",
       "      <td>0</td>\n",
       "      <td>[0, 100, 74, 33, 2638, 42, 299, 114, 24, 58, 5, 5933, 7092, 15, 5, 1421, 1437, 53, 24, 21, 10, 3...</td>\n",
       "      <td>I would have loved this top if it were the length pictured on the model  but it was a cropped le...</td>\n",
       "    </tr>\n",
       "    <tr>\n",
       "      <th>2</th>\n",
       "      <td>2021-10-08T10:32:22Z</td>\n",
       "      <td>11213</td>\n",
       "      <td>0</td>\n",
       "      <td>1</td>\n",
       "      <td>[0, 100, 1381, 42, 15, 11, 5, 1400, 11, 5, 3023, 29, 1836, 4, 5, 6184, 16, 5690, 8, 269, 817, 47...</td>\n",
       "      <td>I tried this on in the store in the xs size. the pattern is striking and really makes you think ...</td>\n",
       "    </tr>\n",
       "    <tr>\n",
       "      <th>3</th>\n",
       "      <td>2021-10-08T10:32:22Z</td>\n",
       "      <td>626</td>\n",
       "      <td>-1</td>\n",
       "      <td>0</td>\n",
       "      <td>[0, 100, 524, 27325, 3995, 30, 5, 1280, 9, 1313, 6173, 15, 42, 3588, 328, 77, 939, 829, 24, 1437...</td>\n",
       "      <td>I am floored by the amount of positive reviews on this dress! when i received it  it looked noth...</td>\n",
       "    </tr>\n",
       "    <tr>\n",
       "      <th>4</th>\n",
       "      <td>2021-10-08T10:32:22Z</td>\n",
       "      <td>11243</td>\n",
       "      <td>-1</td>\n",
       "      <td>0</td>\n",
       "      <td>[0, 100, 2740, 42, 9540, 142, 1437, 101, 643, 1437, 939, 21, 551, 30, 63, 27360, 4002, 328, 9574...</td>\n",
       "      <td>I ordered this coat because  like others  i was taken by its feminine beauty! unfortunately  the...</td>\n",
       "    </tr>\n",
       "  </tbody>\n",
       "</table>\n",
       "</div>"
      ],
      "text/plain": [
       "                   date  review_id  sentiment  label_id  \\\n",
       "0  2021-10-08T10:32:22Z      14450         -1         0   \n",
       "1  2021-10-08T10:32:22Z      15615         -1         0   \n",
       "2  2021-10-08T10:32:22Z      11213          0         1   \n",
       "3  2021-10-08T10:32:22Z        626         -1         0   \n",
       "4  2021-10-08T10:32:22Z      11243         -1         0   \n",
       "\n",
       "                                                                                             input_ids  \\\n",
       "0  [0, 100, 2740, 42, 3588, 804, 4, 5, 986, 6173, 58, 6030, 14, 24, 1237, 650, 1437, 1605, 11, 5, 1...   \n",
       "1  [0, 100, 74, 33, 2638, 42, 299, 114, 24, 58, 5, 5933, 7092, 15, 5, 1421, 1437, 53, 24, 21, 10, 3...   \n",
       "2  [0, 100, 1381, 42, 15, 11, 5, 1400, 11, 5, 3023, 29, 1836, 4, 5, 6184, 16, 5690, 8, 269, 817, 47...   \n",
       "3  [0, 100, 524, 27325, 3995, 30, 5, 1280, 9, 1313, 6173, 15, 42, 3588, 328, 77, 939, 829, 24, 1437...   \n",
       "4  [0, 100, 2740, 42, 9540, 142, 1437, 101, 643, 1437, 939, 21, 551, 30, 63, 27360, 4002, 328, 9574...   \n",
       "\n",
       "                                                                                           review_body  \n",
       "0  I ordered this dress online. the previous reviews were accurate that it runs small  particularly...  \n",
       "1  I would have loved this top if it were the length pictured on the model  but it was a cropped le...  \n",
       "2  I tried this on in the store in the xs size. the pattern is striking and really makes you think ...  \n",
       "3  I am floored by the amount of positive reviews on this dress! when i received it  it looked noth...  \n",
       "4  I ordered this coat because  like others  i was taken by its feminine beauty! unfortunately  the...  "
      ]
     },
     "execution_count": 32,
     "metadata": {},
     "output_type": "execute_result"
    }
   ],
   "source": [
    "import pandas as pd\n",
    "pd.set_option(\"max_colwidth\", 100)\n",
    "df_feature_store = feature_store_query.as_dataframe()\n",
    "df_feature_store"
   ]
  },
  {
   "cell_type": "code",
   "execution_count": 33,
   "metadata": {},
   "outputs": [],
   "source": [
    "df_feature_store.to_csv('./feature_store_export.tsv',\n",
    "                        sep='\\t',\n",
    "                        index=False,\n",
    "                        header=True)"
   ]
  },
  {
   "cell_type": "code",
   "execution_count": 34,
   "metadata": {},
   "outputs": [
    {
     "name": "stdout",
     "output_type": "stream",
     "text": [
      "date\treview_id\tsentiment\tlabel_id\tinput_ids\treview_body\n",
      "2021-10-08T10:32:22Z\t14450\t-1\t0\t[0, 100, 2740, 42, 3588, 804, 4, 5, 986, 6173, 58, 6030, 14, 24, 1237, 650, 1437, 1605, 11, 5, 13977, 4, 939, 6329, 3568, 10, 321, 50, 132, 1437, 53, 939, 2740, 5, 204, 4, 24, 2564, 127, 13977, 8, 28097, 53, 21, 2829, 7082, 23, 5, 299, 190, 600, 939, 524, 10, 2631, 438, 4, 939, 6640, 5, 356, 1437, 53, 24, 56, 10, 4683, 147, 5, 39336, 56, 283, 4102, 227, 5, 909, 33953, 420, 5, 7050, 8, 5, 1049, 10199, 4, 31151, 1437, 5, 909, 32657, 58, 2468, 11, 484, 2127, 19, 25816, 11752, 66, 4, 939, 1835, 24, 1320, 4, 2, 1, 1, 1, 1, 1, 1, 1, 1, 1, 1, 1, 1, 1, 1, 1, 1, 1, 1, 1, 1, 1, 1]\tI ordered this dress online. the previous reviews were accurate that it runs small  particularly in the waist. i normally wear a 0 or 2  but i ordered the 4. it fit my waist and hips but was slightly loose at the top even though i am a 34c. i liked the look  but it had a hole where the seams had come apart between the black stripe across the chest and the main fabric. additionally  the black squares were pulled in several places with threads sticking out. i returned it immediately.\n",
      "2021-10-08T10:32:22Z\t15615\t-1\t0\t[0, 100, 74, 33, 2638, 42, 299, 114, 24, 58, 5, 5933, 7092, 15, 5, 1421, 1437, 53, 24, 21, 10, 30197, 5933, 15, 162, 46225, 2, 1, 1, 1, 1, 1, 1, 1, 1, 1, 1, 1, 1, 1, 1, 1, 1, 1, 1, 1, 1, 1, 1, 1, 1, 1, 1, 1, 1, 1, 1, 1, 1, 1, 1, 1, 1, 1, 1, 1, 1, 1, 1, 1, 1, 1, 1, 1, 1, 1, 1, 1, 1, 1, 1, 1, 1, 1, 1, 1, 1, 1, 1, 1, 1, 1, 1, 1, 1, 1, 1, 1, 1, 1, 1, 1, 1, 1, 1, 1, 1, 1, 1, 1, 1, 1, 1, 1, 1, 1, 1, 1, 1, 1, 1, 1, 1, 1, 1, 1, 1, 1]\tI would have loved this top if it were the length pictured on the model  but it was a cropped length on me :(\n",
      "2021-10-08T10:32:22Z\t11213\t0\t1\t[0, 100, 1381, 42, 15, 11, 5, 1400, 11, 5, 3023, 29, 1836, 4, 5, 6184, 16, 5690, 8, 269, 817, 47, 206, 9, 70, 5, 383, 47, 657, 59, 1136, 4, 519, 26, 14, 939, 222, 45, 907, 24, 8, 1153, 351, 75, 3867, 939, 465, 24, 15, 5, 1392, 20004, 423, 4, 24, 16, 269, 55, 9, 10, 181, 261, 11156, 87, 10, 23204, 4, 5, 2564, 16, 182, 81, 10799, 149, 5, 809, 8, 939, 1381, 5, 3023, 29, 1836, 4, 24, 16, 67, 5342, 30197, 15, 162, 25, 939, 524, 6764, 4, 939, 74, 129, 3568, 24, 19, 10, 6399, 12213, 4, 5, 21764, 8, 45, 7391, 7, 5, 4793, 1437, 53, 386, 617, 109, 2, 1, 1, 1, 1, 1, 1, 1, 1]\tI tried this on in the store in the xs size. the pattern is striking and really makes you think of all the things you love about fall. having said that i did not buy it and probably won't unless i find it on the sale rack later. it is really more of a poncho than a sweater. the fit is very oversize through the body and i tried the xs size. it is also fairly cropped on me as i am tall. i would only wear it with a shirt underneath. the sleeves and not attached to the shoulder  but start further do\n",
      "2021-10-08T10:32:22Z\t626\t-1\t0\t[0, 100, 524, 27325, 3995, 30, 5, 1280, 9, 1313, 6173, 15, 42, 3588, 328, 77, 939, 829, 24, 1437, 24, 1415, 1085, 101, 24, 473, 15, 5, 1421, 4, 5, 2576, 1415, 101, 11216, 6255, 8, 21, 2198, 45218, 1329, 4, 114, 47, 33, 932, 1065, 10, 740, 4946, 1437, 5, 299, 1326, 2198, 29747, 24203, 4, 939, 1415, 98, 299, 2016, 11, 42, 3588, 328, 2299, 45, 966, 5, 425, 4, 98, 5779, 4, 2, 1, 1, 1, 1, 1, 1, 1, 1, 1, 1, 1, 1, 1, 1, 1, 1, 1, 1, 1, 1, 1, 1, 1, 1, 1, 1, 1, 1, 1, 1, 1, 1, 1, 1, 1, 1, 1, 1, 1, 1, 1, 1, 1, 1, 1, 1, 1, 1, 1, 1, 1]\tI am floored by the amount of positive reviews on this dress! when i received it  it looked nothing like it does on the model. the bottom looked like dirty sand and was completely wrinkled. if you have anything above a c cup  the top looks completely unflattering. i looked so top heavy in this dress! definitely not worth the price. so disappointed.\n"
     ]
    }
   ],
   "source": [
    "!head -n 5 ./feature_store_export.tsv"
   ]
  },
  {
   "cell_type": "code",
   "execution_count": 35,
   "metadata": {},
   "outputs": [
    {
     "name": "stdout",
     "output_type": "stream",
     "text": [
      "upload: ./feature_store_export.tsv to s3://sagemaker-us-east-1-998345249834/feature_store/feature_store_export.tsv\n"
     ]
    }
   ],
   "source": [
    "!aws s3 cp ./feature_store_export.tsv s3://$bucket/feature_store/feature_store_export.tsv"
   ]
  },
  {
   "cell_type": "code",
   "execution_count": 36,
   "metadata": {},
   "outputs": [
    {
     "name": "stdout",
     "output_type": "stream",
     "text": [
      "2021-10-08 10:54:51       4854 feature_store/feature_store_export.tsv\n"
     ]
    }
   ],
   "source": [
    "!aws s3 ls --recursive s3://$bucket/feature_store/feature_store_export.tsv"
   ]
  },
  {
   "cell_type": "code",
   "execution_count": 37,
   "metadata": {},
   "outputs": [],
   "source": [
    "feature_store_query_2 = feature_group.athena_query()\n",
    "query_string_count_by_sentiment = \"\"\"\n",
    "SELECT sentiment, COUNT(*) AS count_reviews\n",
    "FROM \"{}\"\n",
    "GROUP BY sentiment\n",
    "\"\"\".format(feature_store_table)"
   ]
  },
  {
   "cell_type": "code",
   "execution_count": 38,
   "metadata": {},
   "outputs": [
    {
     "data": {
      "text/html": [
       "<div>\n",
       "<style scoped>\n",
       "    .dataframe tbody tr th:only-of-type {\n",
       "        vertical-align: middle;\n",
       "    }\n",
       "\n",
       "    .dataframe tbody tr th {\n",
       "        vertical-align: top;\n",
       "    }\n",
       "\n",
       "    .dataframe thead th {\n",
       "        text-align: right;\n",
       "    }\n",
       "</style>\n",
       "<table border=\"1\" class=\"dataframe\">\n",
       "  <thead>\n",
       "    <tr style=\"text-align: right;\">\n",
       "      <th></th>\n",
       "      <th>sentiment</th>\n",
       "      <th>count_reviews</th>\n",
       "    </tr>\n",
       "  </thead>\n",
       "  <tbody>\n",
       "    <tr>\n",
       "      <th>0</th>\n",
       "      <td>1</td>\n",
       "      <td>2051</td>\n",
       "    </tr>\n",
       "    <tr>\n",
       "      <th>1</th>\n",
       "      <td>0</td>\n",
       "      <td>2051</td>\n",
       "    </tr>\n",
       "    <tr>\n",
       "      <th>2</th>\n",
       "      <td>-1</td>\n",
       "      <td>2051</td>\n",
       "    </tr>\n",
       "  </tbody>\n",
       "</table>\n",
       "</div>"
      ],
      "text/plain": [
       "   sentiment  count_reviews\n",
       "0          1           2051\n",
       "1          0           2051\n",
       "2         -1           2051"
      ]
     },
     "execution_count": 38,
     "metadata": {},
     "output_type": "execute_result"
    }
   ],
   "source": [
    "feature_store_query_2.run(\n",
    "    query_string=query_string_count_by_sentiment, \n",
    "    output_location=output_s3_uri \n",
    ")\n",
    "feature_store_query_2.wait()\n",
    "df_count_by_sentiment = feature_store_query_2.as_dataframe()\n",
    "df_count_by_sentiment"
   ]
  },
  {
   "cell_type": "code",
   "execution_count": 39,
   "metadata": {},
   "outputs": [
    {
     "data": {
      "text/plain": [
       "<matplotlib.axes._subplots.AxesSubplot at 0x7f4db4a0d750>"
      ]
     },
     "execution_count": 39,
     "metadata": {},
     "output_type": "execute_result"
    },
    {
     "data": {
      "image/png": "[encoded data removed]",
      "text/plain": [
       "<Figure size 432x288 with 1 Axes>"
      ]
     },
     "metadata": {
      "needs_background": "light"
     },
     "output_type": "display_data"
    }
   ],
   "source": [
    "import seaborn as sns\n",
    "sns.barplot(\n",
    "    data=df_count_by_sentiment,\n",
    "    x='sentiment',\n",
    "    y='count_reviews',\n",
    "    color=\"blue\"\n",
    ")"
   ]
  }
 ],
 "metadata": {
  "instance_type": "ml.t3.medium",
  "kernelspec": {
   "display_name": "Python 3 (Data Science)",
   "language": "python",
   "name": "python3__SAGEMAKER_INTERNAL__arn:aws:sagemaker:us-east-1:081325390199:image/datascience-1.0"
  },
  "language_info": {
   "codemirror_mode": {
    "name": "ipython",
    "version": 3
   },
   "file_extension": ".py",
   "mimetype": "text/x-python",
   "name": "python",
   "nbconvert_exporter": "python",
   "pygments_lexer": "ipython3",
   "version": "3.7.10"
  }
 },
 "nbformat": 4,
 "nbformat_minor": 4
}
