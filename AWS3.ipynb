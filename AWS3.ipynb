{
  "nbformat": 4,
  "nbformat_minor": 0,
  "metadata": {
    "instance_type": "ml.t3.medium",
    "kernelspec": {
      "display_name": "Python 3 (Data Science)",
      "language": "python",
      "name": "python3__SAGEMAKER_INTERNAL__arn:aws:sagemaker:us-east-1:081325390199:image/datascience-1.0"
    },
    "language_info": {
      "codemirror_mode": {
        "name": "ipython",
        "version": 3
      },
      "file_extension": ".py",
      "mimetype": "text/x-python",
      "name": "python",
      "nbconvert_exporter": "python",
      "pygments_lexer": "ipython3",
      "version": "3.7.10"
    },
    "colab": {
      "name": "AWS3.ipynb",
      "provenance": [],
      "collapsed_sections": []
    }
  },
  "cells": [
    {
      "cell_type": "code",
      "metadata": {
        "id": "NT8t9rvHR2Gp",
        "outputId": "6e49e4db-d6d4-4bba-cae4-db2b4632c2c3"
      },
      "source": [
        "!pip install --disable-pip-version-check -q sagemaker==2.35.0"
      ],
      "execution_count": null,
      "outputs": [
        {
          "name": "stdout",
          "output_type": "stream",
          "text": [
            "/opt/conda/lib/python3.7/site-packages/secretstorage/dhcrypto.py:16: CryptographyDeprecationWarning: int_from_bytes is deprecated, use int.from_bytes instead\n",
            "  from cryptography.utils import int_from_bytes\n",
            "/opt/conda/lib/python3.7/site-packages/secretstorage/util.py:25: CryptographyDeprecationWarning: int_from_bytes is deprecated, use int.from_bytes instead\n",
            "  from cryptography.utils import int_from_bytes\n",
            "\u001b[33mWARNING: Running pip as root will break packages and permissions. You should install packages reliably by using venv: https://pip.pypa.io/warnings/venv\u001b[0m\n"
          ]
        }
      ]
    },
    {
      "cell_type": "code",
      "metadata": {
        "id": "KyAa_3anR2Gu"
      },
      "source": [
        "import boto3\n",
        "import sagemaker\n",
        "import pandas as pd\n",
        "import numpy as np\n",
        "import time\n",
        "import json\n",
        "sess   = sagemaker.Session()\n",
        "bucket = sess.default_bucket()\n",
        "role = sagemaker.get_execution_role()\n",
        "region = boto3.Session().region_name"
      ],
      "execution_count": null,
      "outputs": []
    },
    {
      "cell_type": "code",
      "metadata": {
        "id": "N8zi8fHXR2Gx"
      },
      "source": [
        "import matplotlib.pyplot as plt\n",
        "%matplotlib inline\n",
        "%config InlineBackend.figure_format='retina'"
      ],
      "execution_count": null,
      "outputs": []
    },
    {
      "cell_type": "code",
      "metadata": {
        "id": "jAfrN8kYR2Gy",
        "outputId": "922c8be7-5f2f-474d-ecba-5312a41de42d"
      },
      "source": [
        "print(sess, bucket, role, region)"
      ],
      "execution_count": null,
      "outputs": [
        {
          "name": "stdout",
          "output_type": "stream",
          "text": [
            "<sagemaker.session.Session object at 0x7f9164469dd0> sagemaker-us-east-1-774375974900 arn:aws:iam::774375974900:role/c21581a406814l826944t1w7743-SageMakerExecutionRole-V1WS98ZC9FBO us-east-1\n"
          ]
        }
      ]
    },
    {
      "cell_type": "code",
      "metadata": {
        "collapsed": true,
        "jupyter": {
          "outputs_hidden": true
        },
        "id": "2vhWc_I7R2G3",
        "outputId": "80ccb595-18c0-4988-c5e6-1c70b1235b37"
      },
      "source": [
        "!aws s3 sync 's3://sagemaker-us-east-1-774375974900' ./"
      ],
      "execution_count": null,
      "outputs": [
        {
          "name": "stdout",
          "output_type": "stream",
          "text": [
            "download: s3://sagemaker-us-east-1-774375974900/C1_W3_Assignment_Learner.ipynb to ./C1_W3_Assignment_Learner.ipynb\n",
            "download: s3://sagemaker-us-east-1-774375974900/autopilot/automl-dm-1625687301/data-processor-models/automl-dm-1625687301-dpp1-1-e7a81b369ae74776979973e2a1b491831bd/output/model.tar.gz to autopilot/automl-dm-1625687301/data-processor-models/automl-dm-1625687301-dpp1-1-e7a81b369ae74776979973e2a1b491831bd/output/model.tar.gz\n",
            "download: s3://sagemaker-us-east-1-774375974900/autopilot/automl-dm-1625687301/documentation/explainability/config/analysis_config.json to autopilot/automl-dm-1625687301/documentation/explainability/config/analysis_config.json\n",
            "download: s3://sagemaker-us-east-1-774375974900/autopilot/automl-dm-1625687301/documentation/explainability/output/automl-dm-1625687301mBS92wfaVVk8-001-bb8b757a/report.ipynb to autopilot/automl-dm-1625687301/documentation/explainability/output/automl-dm-1625687301mBS92wfaVVk8-001-bb8b757a/report.ipynb\n",
            "download: s3://sagemaker-us-east-1-774375974900/autopilot/automl-dm-1625687301/data-processor-models/automl-dm-1625687301-dpp0-1-d660d23f48474a2c9e6d6e9cba0e657b81d/output/model.tar.gz to autopilot/automl-dm-1625687301/data-processor-models/automl-dm-1625687301-dpp0-1-d660d23f48474a2c9e6d6e9cba0e657b81d/output/model.tar.gz\n",
            "download: s3://sagemaker-us-east-1-774375974900/autopilot/automl-dm-1625687301/documentation/explainability/output/automl-dm-1625687301mBS92wfaVVk8-001-bb8b757a/analysis.json to autopilot/automl-dm-1625687301/documentation/explainability/output/automl-dm-1625687301mBS92wfaVVk8-001-bb8b757a/analysis.json\n",
            "download: s3://sagemaker-us-east-1-774375974900/autopilot/automl-dm-1625687301/preprocessed-data/tuning_data/train/chunk_20.csv to autopilot/automl-dm-1625687301/preprocessed-data/tuning_data/train/chunk_20.csv\n",
            "download: s3://sagemaker-us-east-1-774375974900/autopilot/automl-dm-1625687301/documentation/explainability/output/automl-dm-1625687301mBS92wfaVVk8-001-bb8b757a/report.pdf to autopilot/automl-dm-1625687301/documentation/explainability/output/automl-dm-1625687301mBS92wfaVVk8-001-bb8b757a/report.pdf\n",
            "download: s3://sagemaker-us-east-1-774375974900/autopilot/automl-dm-1625687301/preprocessed-data/header/headers.csv to autopilot/automl-dm-1625687301/preprocessed-data/header/headers.csv\n",
            "download: s3://sagemaker-us-east-1-774375974900/autopilot/automl-dm-1625687301/preprocessed-data/tuning_data/train/chunk_21.csv to autopilot/automl-dm-1625687301/preprocessed-data/tuning_data/train/chunk_21.csv\n",
            "download: s3://sagemaker-us-east-1-774375974900/autopilot/automl-dm-1625687301/data-processor-models/automl-dm-1625687301-dpp2-1-ef2aaf3aada5437480ecf57071717c0f4a7/output/model.tar.gz to autopilot/automl-dm-1625687301/data-processor-models/automl-dm-1625687301-dpp2-1-ef2aaf3aada5437480ecf57071717c0f4a7/output/model.tar.gz\n",
            "download: s3://sagemaker-us-east-1-774375974900/autopilot/automl-dm-1625687301/preprocessed-data/tuning_data/train/chunk_24.csv to autopilot/automl-dm-1625687301/preprocessed-data/tuning_data/train/chunk_24.csv\n",
            "download: s3://sagemaker-us-east-1-774375974900/autopilot/automl-dm-1625687301/preprocessed-data/tuning_data/train/chunk_22.csv to autopilot/automl-dm-1625687301/preprocessed-data/tuning_data/train/chunk_22.csv\n",
            "download: s3://sagemaker-us-east-1-774375974900/autopilot/automl-dm-1625687301/documentation/explainability/output/automl-dm-1625687301mBS92wfaVVk8-001-bb8b757a/report.html to autopilot/automl-dm-1625687301/documentation/explainability/output/automl-dm-1625687301mBS92wfaVVk8-001-bb8b757a/report.html\n",
            "download: s3://sagemaker-us-east-1-774375974900/autopilot/automl-dm-1625687301/preprocessed-data/tuning_data/train/chunk_25.csv to autopilot/automl-dm-1625687301/preprocessed-data/tuning_data/train/chunk_25.csv\n",
            "download: s3://sagemaker-us-east-1-774375974900/autopilot/automl-dm-1625687301/preprocessed-data/tuning_data/train/chunk_23.csv to autopilot/automl-dm-1625687301/preprocessed-data/tuning_data/train/chunk_23.csv\n",
            "download: s3://sagemaker-us-east-1-774375974900/autopilot/automl-dm-1625687301/preprocessed-data/explainability_samples/sample.csv to autopilot/automl-dm-1625687301/preprocessed-data/explainability_samples/sample.csv\n",
            "download: s3://sagemaker-us-east-1-774375974900/autopilot/automl-dm-1625687301/preprocessed-data/tuning_data/train/chunk_28.csv to autopilot/automl-dm-1625687301/preprocessed-data/tuning_data/train/chunk_28.csv\n",
            "download: s3://sagemaker-us-east-1-774375974900/autopilot/automl-dm-1625687301/preprocessed-data/tuning_data/train/chunk_26.csv to autopilot/automl-dm-1625687301/preprocessed-data/tuning_data/train/chunk_26.csv\n",
            "download: s3://sagemaker-us-east-1-774375974900/autopilot/automl-dm-1625687301/preprocessed-data/tuning_data/train/chunk_27.csv to autopilot/automl-dm-1625687301/preprocessed-data/tuning_data/train/chunk_27.csv\n",
            "download: s3://sagemaker-us-east-1-774375974900/autopilot/automl-dm-1625687301/preprocessed-data/tuning_data/train/chunk_30.csv to autopilot/automl-dm-1625687301/preprocessed-data/tuning_data/train/chunk_30.csv\n",
            "download: s3://sagemaker-us-east-1-774375974900/autopilot/automl-dm-1625687301/preprocessed-data/tuning_data/train/chunk_36.csv to autopilot/automl-dm-1625687301/preprocessed-data/tuning_data/train/chunk_36.csv\n",
            "download: s3://sagemaker-us-east-1-774375974900/autopilot/automl-dm-1625687301/preprocessed-data/tuning_data/train/chunk_33.csv to autopilot/automl-dm-1625687301/preprocessed-data/tuning_data/train/chunk_33.csv\n",
            "download: s3://sagemaker-us-east-1-774375974900/autopilot/automl-dm-1625687301/preprocessed-data/tuning_data/train/chunk_32.csv to autopilot/automl-dm-1625687301/preprocessed-data/tuning_data/train/chunk_32.csv\n",
            "download: s3://sagemaker-us-east-1-774375974900/autopilot/automl-dm-1625687301/preprocessed-data/tuning_data/train/chunk_34.csv to autopilot/automl-dm-1625687301/preprocessed-data/tuning_data/train/chunk_34.csv\n",
            "download: s3://sagemaker-us-east-1-774375974900/autopilot/automl-dm-1625687301/preprocessed-data/tuning_data/train/chunk_29.csv to autopilot/automl-dm-1625687301/preprocessed-data/tuning_data/train/chunk_29.csv\n",
            "download: s3://sagemaker-us-east-1-774375974900/autopilot/automl-dm-1625687301/preprocessed-data/tuning_data/train/chunk_37.csv to autopilot/automl-dm-1625687301/preprocessed-data/tuning_data/train/chunk_37.csv\n",
            "download: s3://sagemaker-us-east-1-774375974900/autopilot/automl-dm-1625687301/preprocessed-data/tuning_data/train/chunk_31.csv to autopilot/automl-dm-1625687301/preprocessed-data/tuning_data/train/chunk_31.csv\n",
            "download: s3://sagemaker-us-east-1-774375974900/autopilot/automl-dm-1625687301/preprocessed-data/tuning_data/train/chunk_39.csv to autopilot/automl-dm-1625687301/preprocessed-data/tuning_data/train/chunk_39.csv\n",
            "download: s3://sagemaker-us-east-1-774375974900/autopilot/automl-dm-1625687301/preprocessed-data/tuning_data/train/chunk_38.csv to autopilot/automl-dm-1625687301/preprocessed-data/tuning_data/train/chunk_38.csv\n",
            "download: s3://sagemaker-us-east-1-774375974900/autopilot/automl-dm-1625687301/preprocessed-data/tuning_data/train/chunk_35.csv to autopilot/automl-dm-1625687301/preprocessed-data/tuning_data/train/chunk_35.csv\n",
            "download: s3://sagemaker-us-east-1-774375974900/autopilot/automl-dm-1625687301/preprocessed-data/tuning_data/train/chunk_40.csv to autopilot/automl-dm-1625687301/preprocessed-data/tuning_data/train/chunk_40.csv\n",
            "download: s3://sagemaker-us-east-1-774375974900/autopilot/automl-dm-1625687301/preprocessed-data/tuning_data/train/chunk_41.csv to autopilot/automl-dm-1625687301/preprocessed-data/tuning_data/train/chunk_41.csv\n",
            "download: s3://sagemaker-us-east-1-774375974900/autopilot/automl-dm-1625687301/preprocessed-data/tuning_data/train/chunk_46.csv to autopilot/automl-dm-1625687301/preprocessed-data/tuning_data/train/chunk_46.csv\n",
            "download: s3://sagemaker-us-east-1-774375974900/autopilot/automl-dm-1625687301/preprocessed-data/tuning_data/train/chunk_45.csv to autopilot/automl-dm-1625687301/preprocessed-data/tuning_data/train/chunk_45.csv\n",
            "download: s3://sagemaker-us-east-1-774375974900/autopilot/automl-dm-1625687301/preprocessed-data/tuning_data/train/chunk_42.csv to autopilot/automl-dm-1625687301/preprocessed-data/tuning_data/train/chunk_42.csv\n",
            "download: s3://sagemaker-us-east-1-774375974900/autopilot/automl-dm-1625687301/preprocessed-data/tuning_data/train/chunk_43.csv to autopilot/automl-dm-1625687301/preprocessed-data/tuning_data/train/chunk_43.csv\n",
            "download: s3://sagemaker-us-east-1-774375974900/autopilot/automl-dm-1625687301/preprocessed-data/tuning_data/train/chunk_44.csv to autopilot/automl-dm-1625687301/preprocessed-data/tuning_data/train/chunk_44.csv\n",
            "download: s3://sagemaker-us-east-1-774375974900/autopilot/automl-dm-1625687301/preprocessed-data/tuning_data/train/chunk_49.csv to autopilot/automl-dm-1625687301/preprocessed-data/tuning_data/train/chunk_49.csv\n",
            "download: s3://sagemaker-us-east-1-774375974900/autopilot/automl-dm-1625687301/preprocessed-data/tuning_data/train/chunk_48.csv to autopilot/automl-dm-1625687301/preprocessed-data/tuning_data/train/chunk_48.csv\n",
            "download: s3://sagemaker-us-east-1-774375974900/autopilot/automl-dm-1625687301/preprocessed-data/tuning_data/train/chunk_47.csv to autopilot/automl-dm-1625687301/preprocessed-data/tuning_data/train/chunk_47.csv\n",
            "download: s3://sagemaker-us-east-1-774375974900/autopilot/automl-dm-1625687301/preprocessed-data/tuning_data/train/chunk_51.csv to autopilot/automl-dm-1625687301/preprocessed-data/tuning_data/train/chunk_51.csv\n",
            "download: s3://sagemaker-us-east-1-774375974900/autopilot/automl-dm-1625687301/preprocessed-data/tuning_data/train/chunk_53.csv to autopilot/automl-dm-1625687301/preprocessed-data/tuning_data/train/chunk_53.csv\n",
            "download: s3://sagemaker-us-east-1-774375974900/autopilot/automl-dm-1625687301/preprocessed-data/tuning_data/train/chunk_54.csv to autopilot/automl-dm-1625687301/preprocessed-data/tuning_data/train/chunk_54.csv\n",
            "download: s3://sagemaker-us-east-1-774375974900/autopilot/automl-dm-1625687301/preprocessed-data/tuning_data/train/chunk_56.csv to autopilot/automl-dm-1625687301/preprocessed-data/tuning_data/train/chunk_56.csv\n",
            "download: s3://sagemaker-us-east-1-774375974900/autopilot/automl-dm-1625687301/preprocessed-data/tuning_data/train/chunk_52.csv to autopilot/automl-dm-1625687301/preprocessed-data/tuning_data/train/chunk_52.csv\n",
            "download: s3://sagemaker-us-east-1-774375974900/autopilot/automl-dm-1625687301/preprocessed-data/tuning_data/train/chunk_50.csv to autopilot/automl-dm-1625687301/preprocessed-data/tuning_data/train/chunk_50.csv\n",
            "download: s3://sagemaker-us-east-1-774375974900/autopilot/automl-dm-1625687301/preprocessed-data/tuning_data/train/chunk_55.csv to autopilot/automl-dm-1625687301/preprocessed-data/tuning_data/train/chunk_55.csv\n",
            "download: s3://sagemaker-us-east-1-774375974900/autopilot/automl-dm-1625687301/preprocessed-data/tuning_data/train/chunk_59.csv to autopilot/automl-dm-1625687301/preprocessed-data/tuning_data/train/chunk_59.csv\n",
            "download: s3://sagemaker-us-east-1-774375974900/autopilot/automl-dm-1625687301/preprocessed-data/tuning_data/train/chunk_57.csv to autopilot/automl-dm-1625687301/preprocessed-data/tuning_data/train/chunk_57.csv\n",
            "download: s3://sagemaker-us-east-1-774375974900/autopilot/automl-dm-1625687301/preprocessed-data/tuning_data/train/chunk_58.csv to autopilot/automl-dm-1625687301/preprocessed-data/tuning_data/train/chunk_58.csv\n",
            "download: s3://sagemaker-us-east-1-774375974900/autopilot/automl-dm-1625687301/preprocessed-data/tuning_data/train/chunk_63.csv to autopilot/automl-dm-1625687301/preprocessed-data/tuning_data/train/chunk_63.csv\n",
            "download: s3://sagemaker-us-east-1-774375974900/autopilot/automl-dm-1625687301/preprocessed-data/tuning_data/train/chunk_62.csv to autopilot/automl-dm-1625687301/preprocessed-data/tuning_data/train/chunk_62.csv\n",
            "download: s3://sagemaker-us-east-1-774375974900/autopilot/automl-dm-1625687301/preprocessed-data/tuning_data/train/chunk_65.csv to autopilot/automl-dm-1625687301/preprocessed-data/tuning_data/train/chunk_65.csv\n",
            "download: s3://sagemaker-us-east-1-774375974900/autopilot/automl-dm-1625687301/preprocessed-data/tuning_data/train/chunk_60.csv to autopilot/automl-dm-1625687301/preprocessed-data/tuning_data/train/chunk_60.csv\n",
            "download: s3://sagemaker-us-east-1-774375974900/autopilot/automl-dm-1625687301/preprocessed-data/tuning_data/train/chunk_66.csv to autopilot/automl-dm-1625687301/preprocessed-data/tuning_data/train/chunk_66.csv\n",
            "download: s3://sagemaker-us-east-1-774375974900/autopilot/automl-dm-1625687301/preprocessed-data/tuning_data/train/chunk_68.csv to autopilot/automl-dm-1625687301/preprocessed-data/tuning_data/train/chunk_68.csv\n",
            "download: s3://sagemaker-us-east-1-774375974900/autopilot/automl-dm-1625687301/preprocessed-data/tuning_data/train/chunk_64.csv to autopilot/automl-dm-1625687301/preprocessed-data/tuning_data/train/chunk_64.csv\n",
            "download: s3://sagemaker-us-east-1-774375974900/autopilot/automl-dm-1625687301/preprocessed-data/tuning_data/train/chunk_61.csv to autopilot/automl-dm-1625687301/preprocessed-data/tuning_data/train/chunk_61.csv\n",
            "download: s3://sagemaker-us-east-1-774375974900/autopilot/automl-dm-1625687301/preprocessed-data/tuning_data/train/chunk_67.csv to autopilot/automl-dm-1625687301/preprocessed-data/tuning_data/train/chunk_67.csv\n",
            "download: s3://sagemaker-us-east-1-774375974900/autopilot/automl-dm-1625687301/preprocessed-data/tuning_data/train/chunk_72.csv to autopilot/automl-dm-1625687301/preprocessed-data/tuning_data/train/chunk_72.csv\n",
            "download: s3://sagemaker-us-east-1-774375974900/autopilot/automl-dm-1625687301/preprocessed-data/tuning_data/train/chunk_73.csv to autopilot/automl-dm-1625687301/preprocessed-data/tuning_data/train/chunk_73.csv\n",
            "download: s3://sagemaker-us-east-1-774375974900/autopilot/automl-dm-1625687301/preprocessed-data/tuning_data/train/chunk_74.csv to autopilot/automl-dm-1625687301/preprocessed-data/tuning_data/train/chunk_74.csv\n",
            "download: s3://sagemaker-us-east-1-774375974900/autopilot/automl-dm-1625687301/preprocessed-data/tuning_data/train/chunk_69.csv to autopilot/automl-dm-1625687301/preprocessed-data/tuning_data/train/chunk_69.csv\n",
            "download: s3://sagemaker-us-east-1-774375974900/autopilot/automl-dm-1625687301/preprocessed-data/tuning_data/train/chunk_75.csv to autopilot/automl-dm-1625687301/preprocessed-data/tuning_data/train/chunk_75.csv\n",
            "download: s3://sagemaker-us-east-1-774375974900/autopilot/automl-dm-1625687301/preprocessed-data/tuning_data/train/chunk_76.csv to autopilot/automl-dm-1625687301/preprocessed-data/tuning_data/train/chunk_76.csv\n",
            "download: s3://sagemaker-us-east-1-774375974900/autopilot/automl-dm-1625687301/preprocessed-data/tuning_data/train/chunk_70.csv to autopilot/automl-dm-1625687301/preprocessed-data/tuning_data/train/chunk_70.csv\n",
            "download: s3://sagemaker-us-east-1-774375974900/autopilot/automl-dm-1625687301/preprocessed-data/tuning_data/train/chunk_71.csv to autopilot/automl-dm-1625687301/preprocessed-data/tuning_data/train/chunk_71.csv\n",
            "download: s3://sagemaker-us-east-1-774375974900/autopilot/automl-dm-1625687301/preprocessed-data/tuning_data/train/chunk_80.csv to autopilot/automl-dm-1625687301/preprocessed-data/tuning_data/train/chunk_80.csv\n",
            "download: s3://sagemaker-us-east-1-774375974900/autopilot/automl-dm-1625687301/preprocessed-data/tuning_data/train/chunk_79.csv to autopilot/automl-dm-1625687301/preprocessed-data/tuning_data/train/chunk_79.csv\n",
            "download: s3://sagemaker-us-east-1-774375974900/autopilot/automl-dm-1625687301/preprocessed-data/tuning_data/train/chunk_78.csv to autopilot/automl-dm-1625687301/preprocessed-data/tuning_data/train/chunk_78.csv\n",
            "download: s3://sagemaker-us-east-1-774375974900/autopilot/automl-dm-1625687301/preprocessed-data/tuning_data/train/chunk_77.csv to autopilot/automl-dm-1625687301/preprocessed-data/tuning_data/train/chunk_77.csv\n",
            "download: s3://sagemaker-us-east-1-774375974900/autopilot/automl-dm-1625687301/preprocessed-data/tuning_data/train/chunk_84.csv to autopilot/automl-dm-1625687301/preprocessed-data/tuning_data/train/chunk_84.csv\n",
            "download: s3://sagemaker-us-east-1-774375974900/autopilot/automl-dm-1625687301/preprocessed-data/tuning_data/train/chunk_81.csv to autopilot/automl-dm-1625687301/preprocessed-data/tuning_data/train/chunk_81.csv\n",
            "download: s3://sagemaker-us-east-1-774375974900/autopilot/automl-dm-1625687301/preprocessed-data/tuning_data/train/chunk_83.csv to autopilot/automl-dm-1625687301/preprocessed-data/tuning_data/train/chunk_83.csv\n",
            "download: s3://sagemaker-us-east-1-774375974900/autopilot/automl-dm-1625687301/preprocessed-data/tuning_data/train/chunk_82.csv to autopilot/automl-dm-1625687301/preprocessed-data/tuning_data/train/chunk_82.csv\n",
            "download: s3://sagemaker-us-east-1-774375974900/autopilot/automl-dm-1625687301/preprocessed-data/tuning_data/train/chunk_86.csv to autopilot/automl-dm-1625687301/preprocessed-data/tuning_data/train/chunk_86.csv\n",
            "download: s3://sagemaker-us-east-1-774375974900/autopilot/automl-dm-1625687301/preprocessed-data/tuning_data/train/chunk_92.csv to autopilot/automl-dm-1625687301/preprocessed-data/tuning_data/train/chunk_92.csv\n",
            "download: s3://sagemaker-us-east-1-774375974900/autopilot/automl-dm-1625687301/preprocessed-data/tuning_data/train/chunk_85.csv to autopilot/automl-dm-1625687301/preprocessed-data/tuning_data/train/chunk_85.csv\n",
            "download: s3://sagemaker-us-east-1-774375974900/autopilot/automl-dm-1625687301/preprocessed-data/tuning_data/train/chunk_94.csv to autopilot/automl-dm-1625687301/preprocessed-data/tuning_data/train/chunk_94.csv\n",
            "download: s3://sagemaker-us-east-1-774375974900/autopilot/automl-dm-1625687301/preprocessed-data/tuning_data/train/chunk_95.csv to autopilot/automl-dm-1625687301/preprocessed-data/tuning_data/train/chunk_95.csv\n",
            "download: s3://sagemaker-us-east-1-774375974900/autopilot/automl-dm-1625687301/preprocessed-data/tuning_data/train/chunk_90.csv to autopilot/automl-dm-1625687301/preprocessed-data/tuning_data/train/chunk_90.csv\n",
            "download: s3://sagemaker-us-east-1-774375974900/autopilot/automl-dm-1625687301/preprocessed-data/tuning_data/train/chunk_89.csv to autopilot/automl-dm-1625687301/preprocessed-data/tuning_data/train/chunk_89.csv\n",
            "download: s3://sagemaker-us-east-1-774375974900/autopilot/automl-dm-1625687301/preprocessed-data/tuning_data/train/chunk_88.csv to autopilot/automl-dm-1625687301/preprocessed-data/tuning_data/train/chunk_88.csv\n",
            "download: s3://sagemaker-us-east-1-774375974900/autopilot/automl-dm-1625687301/preprocessed-data/tuning_data/train/chunk_93.csv to autopilot/automl-dm-1625687301/preprocessed-data/tuning_data/train/chunk_93.csv\n",
            "download: s3://sagemaker-us-east-1-774375974900/autopilot/automl-dm-1625687301/preprocessed-data/tuning_data/train/chunk_97.csv to autopilot/automl-dm-1625687301/preprocessed-data/tuning_data/train/chunk_97.csv\n",
            "download: s3://sagemaker-us-east-1-774375974900/autopilot/automl-dm-1625687301/preprocessed-data/tuning_data/train/chunk_87.csv to autopilot/automl-dm-1625687301/preprocessed-data/tuning_data/train/chunk_87.csv\n",
            "download: s3://sagemaker-us-east-1-774375974900/autopilot/automl-dm-1625687301/preprocessed-data/tuning_data/train/chunk_91.csv to autopilot/automl-dm-1625687301/preprocessed-data/tuning_data/train/chunk_91.csv\n",
            "download: s3://sagemaker-us-east-1-774375974900/autopilot/automl-dm-1625687301/preprocessed-data/tuning_data/train/chunk_96.csv to autopilot/automl-dm-1625687301/preprocessed-data/tuning_data/train/chunk_96.csv\n",
            "download: s3://sagemaker-us-east-1-774375974900/autopilot/automl-dm-1625687301/preprocessed-data/tuning_data/train/chunk_99.csv to autopilot/automl-dm-1625687301/preprocessed-data/tuning_data/train/chunk_99.csv\n",
            "download: s3://sagemaker-us-east-1-774375974900/autopilot/automl-dm-1625687301/preprocessed-data/tuning_data/train/chunk_98.csv to autopilot/automl-dm-1625687301/preprocessed-data/tuning_data/train/chunk_98.csv\n",
            "download: s3://sagemaker-us-east-1-774375974900/autopilot/automl-dm-1625687301/preprocessed-data/tuning_data/validation/chunk_13.csv to autopilot/automl-dm-1625687301/preprocessed-data/tuning_data/validation/chunk_13.csv\n",
            "download: s3://sagemaker-us-east-1-774375974900/autopilot/automl-dm-1625687301/preprocessed-data/tuning_data/validation/chunk_0.csv to autopilot/automl-dm-1625687301/preprocessed-data/tuning_data/validation/chunk_0.csv\n",
            "download: s3://sagemaker-us-east-1-774375974900/autopilot/automl-dm-1625687301/preprocessed-data/tuning_data/validation/chunk_14.csv to autopilot/automl-dm-1625687301/preprocessed-data/tuning_data/validation/chunk_14.csv\n",
            "download: s3://sagemaker-us-east-1-774375974900/autopilot/automl-dm-1625687301/preprocessed-data/tuning_data/validation/chunk_10.csv to autopilot/automl-dm-1625687301/preprocessed-data/tuning_data/validation/chunk_10.csv\n",
            "download: s3://sagemaker-us-east-1-774375974900/autopilot/automl-dm-1625687301/preprocessed-data/tuning_data/validation/chunk_18.csv to autopilot/automl-dm-1625687301/preprocessed-data/tuning_data/validation/chunk_18.csv\n",
            "download: s3://sagemaker-us-east-1-774375974900/autopilot/automl-dm-1625687301/preprocessed-data/tuning_data/validation/chunk_17.csv to autopilot/automl-dm-1625687301/preprocessed-data/tuning_data/validation/chunk_17.csv\n",
            "download: s3://sagemaker-us-east-1-774375974900/autopilot/automl-dm-1625687301/preprocessed-data/tuning_data/validation/chunk_11.csv to autopilot/automl-dm-1625687301/preprocessed-data/tuning_data/validation/chunk_11.csv\n",
            "download: s3://sagemaker-us-east-1-774375974900/autopilot/automl-dm-1625687301/preprocessed-data/tuning_data/validation/chunk_15.csv to autopilot/automl-dm-1625687301/preprocessed-data/tuning_data/validation/chunk_15.csv\n",
            "download: s3://sagemaker-us-east-1-774375974900/autopilot/automl-dm-1625687301/preprocessed-data/tuning_data/validation/chunk_1.csv to autopilot/automl-dm-1625687301/preprocessed-data/tuning_data/validation/chunk_1.csv\n",
            "download: s3://sagemaker-us-east-1-774375974900/autopilot/automl-dm-1625687301/preprocessed-data/tuning_data/validation/chunk_16.csv to autopilot/automl-dm-1625687301/preprocessed-data/tuning_data/validation/chunk_16.csv\n",
            "download: s3://sagemaker-us-east-1-774375974900/autopilot/automl-dm-1625687301/preprocessed-data/tuning_data/validation/chunk_12.csv to autopilot/automl-dm-1625687301/preprocessed-data/tuning_data/validation/chunk_12.csv\n",
            "download: s3://sagemaker-us-east-1-774375974900/autopilot/automl-dm-1625687301/preprocessed-data/tuning_data/validation/chunk_19.csv to autopilot/automl-dm-1625687301/preprocessed-data/tuning_data/validation/chunk_19.csv\n",
            "download: s3://sagemaker-us-east-1-774375974900/autopilot/automl-dm-1625687301/preprocessed-data/tuning_data/validation/chunk_2.csv to autopilot/automl-dm-1625687301/preprocessed-data/tuning_data/validation/chunk_2.csv\n",
            "download: s3://sagemaker-us-east-1-774375974900/autopilot/automl-dm-1625687301/preprocessed-data/tuning_data/validation/chunk_3.csv to autopilot/automl-dm-1625687301/preprocessed-data/tuning_data/validation/chunk_3.csv\n",
            "download: s3://sagemaker-us-east-1-774375974900/autopilot/automl-dm-1625687301/preprocessed-data/tuning_data/validation/chunk_5.csv to autopilot/automl-dm-1625687301/preprocessed-data/tuning_data/validation/chunk_5.csv\n",
            "download: s3://sagemaker-us-east-1-774375974900/autopilot/automl-dm-1625687301/preprocessed-data/tuning_data/validation/chunk_6.csv to autopilot/automl-dm-1625687301/preprocessed-data/tuning_data/validation/chunk_6.csv\n",
            "download: s3://sagemaker-us-east-1-774375974900/autopilot/automl-dm-1625687301/preprocessed-data/tuning_data/validation/chunk_4.csv to autopilot/automl-dm-1625687301/preprocessed-data/tuning_data/validation/chunk_4.csv\n",
            "download: s3://sagemaker-us-east-1-774375974900/autopilot/automl-dm-1625687301/preprocessed-data/tuning_data/validation/chunk_9.csv to autopilot/automl-dm-1625687301/preprocessed-data/tuning_data/validation/chunk_9.csv\n",
            "download: s3://sagemaker-us-east-1-774375974900/autopilot/automl-dm-1625687301/preprocessed-data/tuning_data/validation/chunk_8.csv to autopilot/automl-dm-1625687301/preprocessed-data/tuning_data/validation/chunk_8.csv\n",
            "download: s3://sagemaker-us-east-1-774375974900/autopilot/automl-dm-1625687301/sagemaker-automl-candidates/automl-dm-1625687301-pr-1-71dca513d01140df943444531031120633cda/generated_module/candidate_data_processors/trainer.py to autopilot/automl-dm-1625687301/sagemaker-automl-candidates/automl-dm-1625687301-pr-1-71dca513d01140df943444531031120633cda/generated_module/candidate_data_processors/trainer.py\n",
            "download: s3://sagemaker-us-east-1-774375974900/autopilot/automl-dm-1625687301/sagemaker-automl-candidates/automl-dm-1625687301-pr-1-71dca513d01140df943444531031120633cda/generated_module/MANIFEST.in to autopilot/automl-dm-1625687301/sagemaker-automl-candidates/automl-dm-1625687301-pr-1-71dca513d01140df943444531031120633cda/generated_module/MANIFEST.in\n",
            "download: s3://sagemaker-us-east-1-774375974900/autopilot/automl-dm-1625687301/sagemaker-automl-candidates/automl-dm-1625687301-pr-1-71dca513d01140df943444531031120633cda/generated_module/README.md to autopilot/automl-dm-1625687301/sagemaker-automl-candidates/automl-dm-1625687301-pr-1-71dca513d01140df943444531031120633cda/generated_module/README.md\n",
            "download: s3://sagemaker-us-east-1-774375974900/autopilot/automl-dm-1625687301/sagemaker-automl-candidates/automl-dm-1625687301-pr-1-71dca513d01140df943444531031120633cda/generated_module/candidate_data_processors/sagemaker_serve.py to autopilot/automl-dm-1625687301/sagemaker-automl-candidates/automl-dm-1625687301-pr-1-71dca513d01140df943444531031120633cda/generated_module/candidate_data_processors/sagemaker_serve.py\n",
            "download: s3://sagemaker-us-east-1-774375974900/autopilot/automl-dm-1625687301/preprocessed-data/tuning_data/validation/chunk_7.csv to autopilot/automl-dm-1625687301/preprocessed-data/tuning_data/validation/chunk_7.csv\n",
            "download: s3://sagemaker-us-east-1-774375974900/autopilot/automl-dm-1625687301/sagemaker-automl-candidates/automl-dm-1625687301-pr-1-71dca513d01140df943444531031120633cda/generated_module/setup.py to autopilot/automl-dm-1625687301/sagemaker-automl-candidates/automl-dm-1625687301-pr-1-71dca513d01140df943444531031120633cda/generated_module/setup.py\n",
            "download: s3://sagemaker-us-east-1-774375974900/autopilot/automl-dm-1625687301/sagemaker-automl-candidates/automl-dm-1625687301-pr-1-71dca513d01140df943444531031120633cda/generated_module/candidate_data_processors/dpp2.py to autopilot/automl-dm-1625687301/sagemaker-automl-candidates/automl-dm-1625687301-pr-1-71dca513d01140df943444531031120633cda/generated_module/candidate_data_processors/dpp2.py\n",
            "download: s3://sagemaker-us-east-1-774375974900/autopilot/automl-dm-1625687301/sagemaker-automl-candidates/automl-dm-1625687301-pr-1-71dca513d01140df943444531031120633cda/generated_module/candidate_data_processors/dpp0.py to autopilot/automl-dm-1625687301/sagemaker-automl-candidates/automl-dm-1625687301-pr-1-71dca513d01140df943444531031120633cda/generated_module/candidate_data_processors/dpp0.py\n",
            "download: s3://sagemaker-us-east-1-774375974900/autopilot/automl-dm-1625687301/sagemaker-automl-candidates/automl-dm-1625687301-pr-1-71dca513d01140df943444531031120633cda/notebooks/sagemaker_automl/config.py to autopilot/automl-dm-1625687301/sagemaker-automl-candidates/automl-dm-1625687301-pr-1-71dca513d01140df943444531031120633cda/notebooks/sagemaker_automl/config.py\n",
            "download: s3://sagemaker-us-east-1-774375974900/autopilot/automl-dm-1625687301/sagemaker-automl-candidates/automl-dm-1625687301-pr-1-71dca513d01140df943444531031120633cda/notebooks/SageMakerAutopilotDataExplorationNotebook.ipynb to autopilot/automl-dm-1625687301/sagemaker-automl-candidates/automl-dm-1625687301-pr-1-71dca513d01140df943444531031120633cda/notebooks/SageMakerAutopilotDataExplorationNotebook.ipynb\n",
            "download: s3://sagemaker-us-east-1-774375974900/autopilot/automl-dm-1625687301/sagemaker-automl-candidates/automl-dm-1625687301-pr-1-71dca513d01140df943444531031120633cda/notebooks/SageMakerAutopilotCandidateDefinitionNotebook.ipynb to autopilot/automl-dm-1625687301/sagemaker-automl-candidates/automl-dm-1625687301-pr-1-71dca513d01140df943444531031120633cda/notebooks/SageMakerAutopilotCandidateDefinitionNotebook.ipynb\n",
            "download: s3://sagemaker-us-east-1-774375974900/autopilot/automl-dm-1625687301/sagemaker-automl-candidates/automl-dm-1625687301-pr-1-71dca513d01140df943444531031120633cda/notebooks/sagemaker_automl/__init__.py to autopilot/automl-dm-1625687301/sagemaker-automl-candidates/automl-dm-1625687301-pr-1-71dca513d01140df943444531031120633cda/notebooks/sagemaker_automl/__init__.py\n",
            "download: s3://sagemaker-us-east-1-774375974900/autopilot/automl-dm-1625687301/sagemaker-automl-candidates/automl-dm-1625687301-pr-1-71dca513d01140df943444531031120633cda/notebooks/sagemaker_automl/steps.py to autopilot/automl-dm-1625687301/sagemaker-automl-candidates/automl-dm-1625687301-pr-1-71dca513d01140df943444531031120633cda/notebooks/sagemaker_automl/steps.py\n",
            "download: s3://sagemaker-us-east-1-774375974900/autopilot/automl-dm-1625687301/sagemaker-automl-candidates/automl-dm-1625687301-pr-1-71dca513d01140df943444531031120633cda/notebooks/sagemaker_automl/common.py to autopilot/automl-dm-1625687301/sagemaker-automl-candidates/automl-dm-1625687301-pr-1-71dca513d01140df943444531031120633cda/notebooks/sagemaker_automl/common.py\n",
            "download: s3://sagemaker-us-east-1-774375974900/autopilot/automl-dm-1625687301/sagemaker-automl-candidates/automl-dm-1625687301-pr-1-71dca513d01140df943444531031120633cda/generated_module/candidate_data_processors/dpp1.py to autopilot/automl-dm-1625687301/sagemaker-automl-candidates/automl-dm-1625687301-pr-1-71dca513d01140df943444531031120633cda/generated_module/candidate_data_processors/dpp1.py\n",
            "download: s3://sagemaker-us-east-1-774375974900/autopilot/automl-dm-1625687301/transformed-data/dpp0/rpb/train/chunk_22.csv.out to autopilot/automl-dm-1625687301/transformed-data/dpp0/rpb/train/chunk_22.csv.out\n",
            "download: s3://sagemaker-us-east-1-774375974900/autopilot/automl-dm-1625687301/sagemaker-automl-candidates/automl-dm-1625687301-pr-1-71dca513d01140df943444531031120633cda/notebooks/sagemaker_automl/README.md to autopilot/automl-dm-1625687301/sagemaker-automl-candidates/automl-dm-1625687301-pr-1-71dca513d01140df943444531031120633cda/notebooks/sagemaker_automl/README.md\n",
            "download: s3://sagemaker-us-east-1-774375974900/autopilot/automl-dm-1625687301/transformed-data/dpp0/rpb/train/chunk_21.csv.out to autopilot/automl-dm-1625687301/transformed-data/dpp0/rpb/train/chunk_21.csv.out\n",
            "download: s3://sagemaker-us-east-1-774375974900/autopilot/automl-dm-1625687301/transformed-data/dpp0/rpb/train/chunk_26.csv.out to autopilot/automl-dm-1625687301/transformed-data/dpp0/rpb/train/chunk_26.csv.out\n",
            "download: s3://sagemaker-us-east-1-774375974900/autopilot/automl-dm-1625687301/sagemaker-automl-candidates/automl-dm-1625687301-pr-1-71dca513d01140df943444531031120633cda/notebooks/sagemaker_automl/interactive_runner.py to autopilot/automl-dm-1625687301/sagemaker-automl-candidates/automl-dm-1625687301-pr-1-71dca513d01140df943444531031120633cda/notebooks/sagemaker_automl/interactive_runner.py\n",
            "download: s3://sagemaker-us-east-1-774375974900/autopilot/automl-dm-1625687301/transformed-data/dpp0/rpb/train/chunk_20.csv.out to autopilot/automl-dm-1625687301/transformed-data/dpp0/rpb/train/chunk_20.csv.out\n",
            "download: s3://sagemaker-us-east-1-774375974900/autopilot/automl-dm-1625687301/sagemaker-automl-candidates/automl-dm-1625687301-pr-1-71dca513d01140df943444531031120633cda/notebooks/sagemaker_automl/local_candidate.py to autopilot/automl-dm-1625687301/sagemaker-automl-candidates/automl-dm-1625687301-pr-1-71dca513d01140df943444531031120633cda/notebooks/sagemaker_automl/local_candidate.py\n",
            "download: s3://sagemaker-us-east-1-774375974900/autopilot/automl-dm-1625687301/transformed-data/dpp0/rpb/train/chunk_25.csv.out to autopilot/automl-dm-1625687301/transformed-data/dpp0/rpb/train/chunk_25.csv.out\n",
            "download: s3://sagemaker-us-east-1-774375974900/autopilot/automl-dm-1625687301/transformed-data/dpp0/rpb/train/chunk_28.csv.out to autopilot/automl-dm-1625687301/transformed-data/dpp0/rpb/train/chunk_28.csv.out\n",
            "download: s3://sagemaker-us-east-1-774375974900/autopilot/automl-dm-1625687301/transformed-data/dpp0/rpb/train/chunk_27.csv.out to autopilot/automl-dm-1625687301/transformed-data/dpp0/rpb/train/chunk_27.csv.out\n",
            "download: s3://sagemaker-us-east-1-774375974900/autopilot/automl-dm-1625687301/transformed-data/dpp0/rpb/train/chunk_24.csv.out to autopilot/automl-dm-1625687301/transformed-data/dpp0/rpb/train/chunk_24.csv.out\n",
            "download: s3://sagemaker-us-east-1-774375974900/autopilot/automl-dm-1625687301/transformed-data/dpp0/rpb/train/chunk_32.csv.out to autopilot/automl-dm-1625687301/transformed-data/dpp0/rpb/train/chunk_32.csv.out\n",
            "download: s3://sagemaker-us-east-1-774375974900/autopilot/automl-dm-1625687301/transformed-data/dpp0/rpb/train/chunk_29.csv.out to autopilot/automl-dm-1625687301/transformed-data/dpp0/rpb/train/chunk_29.csv.out\n",
            "download: s3://sagemaker-us-east-1-774375974900/autopilot/automl-dm-1625687301/transformed-data/dpp0/rpb/train/chunk_31.csv.out to autopilot/automl-dm-1625687301/transformed-data/dpp0/rpb/train/chunk_31.csv.out\n",
            "download: s3://sagemaker-us-east-1-774375974900/autopilot/automl-dm-1625687301/transformed-data/dpp0/rpb/train/chunk_30.csv.out to autopilot/automl-dm-1625687301/transformed-data/dpp0/rpb/train/chunk_30.csv.out\n",
            "download: s3://sagemaker-us-east-1-774375974900/autopilot/automl-dm-1625687301/transformed-data/dpp0/rpb/train/chunk_33.csv.out to autopilot/automl-dm-1625687301/transformed-data/dpp0/rpb/train/chunk_33.csv.out\n",
            "download: s3://sagemaker-us-east-1-774375974900/autopilot/automl-dm-1625687301/transformed-data/dpp0/rpb/train/chunk_34.csv.out to autopilot/automl-dm-1625687301/transformed-data/dpp0/rpb/train/chunk_34.csv.out\n",
            "download: s3://sagemaker-us-east-1-774375974900/autopilot/automl-dm-1625687301/transformed-data/dpp0/rpb/train/chunk_23.csv.out to autopilot/automl-dm-1625687301/transformed-data/dpp0/rpb/train/chunk_23.csv.out\n",
            "download: s3://sagemaker-us-east-1-774375974900/autopilot/automl-dm-1625687301/transformed-data/dpp0/rpb/train/chunk_41.csv.out to autopilot/automl-dm-1625687301/transformed-data/dpp0/rpb/train/chunk_41.csv.out\n",
            "download: s3://sagemaker-us-east-1-774375974900/autopilot/automl-dm-1625687301/transformed-data/dpp0/rpb/train/chunk_38.csv.out to autopilot/automl-dm-1625687301/transformed-data/dpp0/rpb/train/chunk_38.csv.out\n",
            "download: s3://sagemaker-us-east-1-774375974900/autopilot/automl-dm-1625687301/transformed-data/dpp0/rpb/train/chunk_36.csv.out to autopilot/automl-dm-1625687301/transformed-data/dpp0/rpb/train/chunk_36.csv.out\n",
            "download: s3://sagemaker-us-east-1-774375974900/autopilot/automl-dm-1625687301/transformed-data/dpp0/rpb/train/chunk_35.csv.out to autopilot/automl-dm-1625687301/transformed-data/dpp0/rpb/train/chunk_35.csv.out\n",
            "download: s3://sagemaker-us-east-1-774375974900/autopilot/automl-dm-1625687301/transformed-data/dpp0/rpb/train/chunk_40.csv.out to autopilot/automl-dm-1625687301/transformed-data/dpp0/rpb/train/chunk_40.csv.out\n",
            "download: s3://sagemaker-us-east-1-774375974900/autopilot/automl-dm-1625687301/transformed-data/dpp0/rpb/train/chunk_42.csv.out to autopilot/automl-dm-1625687301/transformed-data/dpp0/rpb/train/chunk_42.csv.out\n",
            "download: s3://sagemaker-us-east-1-774375974900/autopilot/automl-dm-1625687301/transformed-data/dpp0/rpb/train/chunk_37.csv.out to autopilot/automl-dm-1625687301/transformed-data/dpp0/rpb/train/chunk_37.csv.out\n",
            "download: s3://sagemaker-us-east-1-774375974900/autopilot/automl-dm-1625687301/transformed-data/dpp0/rpb/train/chunk_44.csv.out to autopilot/automl-dm-1625687301/transformed-data/dpp0/rpb/train/chunk_44.csv.out\n",
            "download: s3://sagemaker-us-east-1-774375974900/autopilot/automl-dm-1625687301/transformed-data/dpp0/rpb/train/chunk_47.csv.out to autopilot/automl-dm-1625687301/transformed-data/dpp0/rpb/train/chunk_47.csv.out\n",
            "download: s3://sagemaker-us-east-1-774375974900/autopilot/automl-dm-1625687301/transformed-data/dpp0/rpb/train/chunk_39.csv.out to autopilot/automl-dm-1625687301/transformed-data/dpp0/rpb/train/chunk_39.csv.out\n",
            "download: s3://sagemaker-us-east-1-774375974900/autopilot/automl-dm-1625687301/transformed-data/dpp0/rpb/train/chunk_45.csv.out to autopilot/automl-dm-1625687301/transformed-data/dpp0/rpb/train/chunk_45.csv.out\n",
            "download: s3://sagemaker-us-east-1-774375974900/autopilot/automl-dm-1625687301/transformed-data/dpp0/rpb/train/chunk_43.csv.out to autopilot/automl-dm-1625687301/transformed-data/dpp0/rpb/train/chunk_43.csv.out\n",
            "download: s3://sagemaker-us-east-1-774375974900/autopilot/automl-dm-1625687301/transformed-data/dpp0/rpb/train/chunk_50.csv.out to autopilot/automl-dm-1625687301/transformed-data/dpp0/rpb/train/chunk_50.csv.out\n",
            "download: s3://sagemaker-us-east-1-774375974900/autopilot/automl-dm-1625687301/transformed-data/dpp0/rpb/train/chunk_49.csv.out to autopilot/automl-dm-1625687301/transformed-data/dpp0/rpb/train/chunk_49.csv.out\n",
            "download: s3://sagemaker-us-east-1-774375974900/autopilot/automl-dm-1625687301/transformed-data/dpp0/rpb/train/chunk_46.csv.out to autopilot/automl-dm-1625687301/transformed-data/dpp0/rpb/train/chunk_46.csv.out\n",
            "download: s3://sagemaker-us-east-1-774375974900/autopilot/automl-dm-1625687301/transformed-data/dpp0/rpb/train/chunk_52.csv.out to autopilot/automl-dm-1625687301/transformed-data/dpp0/rpb/train/chunk_52.csv.out\n",
            "download: s3://sagemaker-us-east-1-774375974900/autopilot/automl-dm-1625687301/transformed-data/dpp0/rpb/train/chunk_48.csv.out to autopilot/automl-dm-1625687301/transformed-data/dpp0/rpb/train/chunk_48.csv.out\n",
            "download: s3://sagemaker-us-east-1-774375974900/autopilot/automl-dm-1625687301/transformed-data/dpp0/rpb/train/chunk_51.csv.out to autopilot/automl-dm-1625687301/transformed-data/dpp0/rpb/train/chunk_51.csv.out\n",
            "download: s3://sagemaker-us-east-1-774375974900/autopilot/automl-dm-1625687301/transformed-data/dpp0/rpb/train/chunk_54.csv.out to autopilot/automl-dm-1625687301/transformed-data/dpp0/rpb/train/chunk_54.csv.out\n",
            "download: s3://sagemaker-us-east-1-774375974900/autopilot/automl-dm-1625687301/transformed-data/dpp0/rpb/train/chunk_55.csv.out to autopilot/automl-dm-1625687301/transformed-data/dpp0/rpb/train/chunk_55.csv.out\n",
            "download: s3://sagemaker-us-east-1-774375974900/autopilot/automl-dm-1625687301/transformed-data/dpp0/rpb/train/chunk_53.csv.out to autopilot/automl-dm-1625687301/transformed-data/dpp0/rpb/train/chunk_53.csv.out\n",
            "download: s3://sagemaker-us-east-1-774375974900/autopilot/automl-dm-1625687301/transformed-data/dpp0/rpb/train/chunk_57.csv.out to autopilot/automl-dm-1625687301/transformed-data/dpp0/rpb/train/chunk_57.csv.out\n",
            "download: s3://sagemaker-us-east-1-774375974900/autopilot/automl-dm-1625687301/transformed-data/dpp0/rpb/train/chunk_58.csv.out to autopilot/automl-dm-1625687301/transformed-data/dpp0/rpb/train/chunk_58.csv.out\n",
            "download: s3://sagemaker-us-east-1-774375974900/autopilot/automl-dm-1625687301/transformed-data/dpp0/rpb/train/chunk_61.csv.out to autopilot/automl-dm-1625687301/transformed-data/dpp0/rpb/train/chunk_61.csv.out\n",
            "download: s3://sagemaker-us-east-1-774375974900/autopilot/automl-dm-1625687301/transformed-data/dpp0/rpb/train/chunk_63.csv.out to autopilot/automl-dm-1625687301/transformed-data/dpp0/rpb/train/chunk_63.csv.out\n",
            "download: s3://sagemaker-us-east-1-774375974900/autopilot/automl-dm-1625687301/transformed-data/dpp0/rpb/train/chunk_64.csv.out to autopilot/automl-dm-1625687301/transformed-data/dpp0/rpb/train/chunk_64.csv.out\n",
            "download: s3://sagemaker-us-east-1-774375974900/autopilot/automl-dm-1625687301/transformed-data/dpp0/rpb/train/chunk_59.csv.out to autopilot/automl-dm-1625687301/transformed-data/dpp0/rpb/train/chunk_59.csv.out\n",
            "download: s3://sagemaker-us-east-1-774375974900/autopilot/automl-dm-1625687301/transformed-data/dpp0/rpb/train/chunk_56.csv.out to autopilot/automl-dm-1625687301/transformed-data/dpp0/rpb/train/chunk_56.csv.out\n",
            "download: s3://sagemaker-us-east-1-774375974900/autopilot/automl-dm-1625687301/transformed-data/dpp0/rpb/train/chunk_62.csv.out to autopilot/automl-dm-1625687301/transformed-data/dpp0/rpb/train/chunk_62.csv.out\n",
            "download: s3://sagemaker-us-east-1-774375974900/autopilot/automl-dm-1625687301/transformed-data/dpp0/rpb/train/chunk_65.csv.out to autopilot/automl-dm-1625687301/transformed-data/dpp0/rpb/train/chunk_65.csv.out\n",
            "download: s3://sagemaker-us-east-1-774375974900/autopilot/automl-dm-1625687301/transformed-data/dpp0/rpb/train/chunk_67.csv.out to autopilot/automl-dm-1625687301/transformed-data/dpp0/rpb/train/chunk_67.csv.out\n",
            "download: s3://sagemaker-us-east-1-774375974900/autopilot/automl-dm-1625687301/transformed-data/dpp0/rpb/train/chunk_66.csv.out to autopilot/automl-dm-1625687301/transformed-data/dpp0/rpb/train/chunk_66.csv.out\n",
            "download: s3://sagemaker-us-east-1-774375974900/autopilot/automl-dm-1625687301/transformed-data/dpp0/rpb/train/chunk_60.csv.out to autopilot/automl-dm-1625687301/transformed-data/dpp0/rpb/train/chunk_60.csv.out\n",
            "download: s3://sagemaker-us-east-1-774375974900/autopilot/automl-dm-1625687301/transformed-data/dpp0/rpb/train/chunk_68.csv.out to autopilot/automl-dm-1625687301/transformed-data/dpp0/rpb/train/chunk_68.csv.out\n",
            "download: s3://sagemaker-us-east-1-774375974900/autopilot/automl-dm-1625687301/transformed-data/dpp0/rpb/train/chunk_69.csv.out to autopilot/automl-dm-1625687301/transformed-data/dpp0/rpb/train/chunk_69.csv.out\n",
            "download: s3://sagemaker-us-east-1-774375974900/autopilot/automl-dm-1625687301/transformed-data/dpp0/rpb/train/chunk_71.csv.out to autopilot/automl-dm-1625687301/transformed-data/dpp0/rpb/train/chunk_71.csv.out\n",
            "download: s3://sagemaker-us-east-1-774375974900/autopilot/automl-dm-1625687301/transformed-data/dpp0/rpb/train/chunk_75.csv.out to autopilot/automl-dm-1625687301/transformed-data/dpp0/rpb/train/chunk_75.csv.out\n",
            "download: s3://sagemaker-us-east-1-774375974900/autopilot/automl-dm-1625687301/transformed-data/dpp0/rpb/train/chunk_73.csv.out to autopilot/automl-dm-1625687301/transformed-data/dpp0/rpb/train/chunk_73.csv.out\n",
            "download: s3://sagemaker-us-east-1-774375974900/autopilot/automl-dm-1625687301/transformed-data/dpp0/rpb/train/chunk_74.csv.out to autopilot/automl-dm-1625687301/transformed-data/dpp0/rpb/train/chunk_74.csv.out\n",
            "download: s3://sagemaker-us-east-1-774375974900/autopilot/automl-dm-1625687301/transformed-data/dpp0/rpb/train/chunk_76.csv.out to autopilot/automl-dm-1625687301/transformed-data/dpp0/rpb/train/chunk_76.csv.out\n",
            "download: s3://sagemaker-us-east-1-774375974900/autopilot/automl-dm-1625687301/transformed-data/dpp0/rpb/train/chunk_70.csv.out to autopilot/automl-dm-1625687301/transformed-data/dpp0/rpb/train/chunk_70.csv.out\n",
            "download: s3://sagemaker-us-east-1-774375974900/autopilot/automl-dm-1625687301/transformed-data/dpp0/rpb/train/chunk_77.csv.out to autopilot/automl-dm-1625687301/transformed-data/dpp0/rpb/train/chunk_77.csv.out\n",
            "download: s3://sagemaker-us-east-1-774375974900/autopilot/automl-dm-1625687301/transformed-data/dpp0/rpb/train/chunk_78.csv.out to autopilot/automl-dm-1625687301/transformed-data/dpp0/rpb/train/chunk_78.csv.out\n",
            "download: s3://sagemaker-us-east-1-774375974900/autopilot/automl-dm-1625687301/transformed-data/dpp0/rpb/train/chunk_72.csv.out to autopilot/automl-dm-1625687301/transformed-data/dpp0/rpb/train/chunk_72.csv.out\n",
            "download: s3://sagemaker-us-east-1-774375974900/autopilot/automl-dm-1625687301/transformed-data/dpp0/rpb/train/chunk_80.csv.out to autopilot/automl-dm-1625687301/transformed-data/dpp0/rpb/train/chunk_80.csv.out\n",
            "download: s3://sagemaker-us-east-1-774375974900/autopilot/automl-dm-1625687301/transformed-data/dpp0/rpb/train/chunk_84.csv.out to autopilot/automl-dm-1625687301/transformed-data/dpp0/rpb/train/chunk_84.csv.out\n",
            "download: s3://sagemaker-us-east-1-774375974900/autopilot/automl-dm-1625687301/transformed-data/dpp0/rpb/train/chunk_79.csv.out to autopilot/automl-dm-1625687301/transformed-data/dpp0/rpb/train/chunk_79.csv.out\n",
            "download: s3://sagemaker-us-east-1-774375974900/autopilot/automl-dm-1625687301/transformed-data/dpp0/rpb/train/chunk_81.csv.out to autopilot/automl-dm-1625687301/transformed-data/dpp0/rpb/train/chunk_81.csv.out\n",
            "download: s3://sagemaker-us-east-1-774375974900/autopilot/automl-dm-1625687301/transformed-data/dpp0/rpb/train/chunk_82.csv.out to autopilot/automl-dm-1625687301/transformed-data/dpp0/rpb/train/chunk_82.csv.out\n",
            "download: s3://sagemaker-us-east-1-774375974900/autopilot/automl-dm-1625687301/transformed-data/dpp0/rpb/train/chunk_83.csv.out to autopilot/automl-dm-1625687301/transformed-data/dpp0/rpb/train/chunk_83.csv.out\n",
            "download: s3://sagemaker-us-east-1-774375974900/autopilot/automl-dm-1625687301/transformed-data/dpp0/rpb/train/chunk_85.csv.out to autopilot/automl-dm-1625687301/transformed-data/dpp0/rpb/train/chunk_85.csv.out\n",
            "download: s3://sagemaker-us-east-1-774375974900/autopilot/automl-dm-1625687301/transformed-data/dpp0/rpb/train/chunk_88.csv.out to autopilot/automl-dm-1625687301/transformed-data/dpp0/rpb/train/chunk_88.csv.out\n",
            "download: s3://sagemaker-us-east-1-774375974900/autopilot/automl-dm-1625687301/transformed-data/dpp0/rpb/train/chunk_86.csv.out to autopilot/automl-dm-1625687301/transformed-data/dpp0/rpb/train/chunk_86.csv.out\n",
            "download: s3://sagemaker-us-east-1-774375974900/autopilot/automl-dm-1625687301/transformed-data/dpp0/rpb/train/chunk_91.csv.out to autopilot/automl-dm-1625687301/transformed-data/dpp0/rpb/train/chunk_91.csv.out\n",
            "download: s3://sagemaker-us-east-1-774375974900/autopilot/automl-dm-1625687301/transformed-data/dpp0/rpb/train/chunk_87.csv.out to autopilot/automl-dm-1625687301/transformed-data/dpp0/rpb/train/chunk_87.csv.out\n",
            "download: s3://sagemaker-us-east-1-774375974900/autopilot/automl-dm-1625687301/transformed-data/dpp0/rpb/train/chunk_92.csv.out to autopilot/automl-dm-1625687301/transformed-data/dpp0/rpb/train/chunk_92.csv.out\n",
            "download: s3://sagemaker-us-east-1-774375974900/autopilot/automl-dm-1625687301/transformed-data/dpp0/rpb/train/chunk_89.csv.out to autopilot/automl-dm-1625687301/transformed-data/dpp0/rpb/train/chunk_89.csv.out\n",
            "download: s3://sagemaker-us-east-1-774375974900/autopilot/automl-dm-1625687301/transformed-data/dpp0/rpb/train/chunk_93.csv.out to autopilot/automl-dm-1625687301/transformed-data/dpp0/rpb/train/chunk_93.csv.out\n",
            "download: s3://sagemaker-us-east-1-774375974900/autopilot/automl-dm-1625687301/transformed-data/dpp0/rpb/train/chunk_90.csv.out to autopilot/automl-dm-1625687301/transformed-data/dpp0/rpb/train/chunk_90.csv.out\n",
            "download: s3://sagemaker-us-east-1-774375974900/autopilot/automl-dm-1625687301/transformed-data/dpp0/rpb/train/chunk_96.csv.out to autopilot/automl-dm-1625687301/transformed-data/dpp0/rpb/train/chunk_96.csv.out\n",
            "download: s3://sagemaker-us-east-1-774375974900/autopilot/automl-dm-1625687301/transformed-data/dpp0/rpb/train/chunk_95.csv.out to autopilot/automl-dm-1625687301/transformed-data/dpp0/rpb/train/chunk_95.csv.out\n",
            "download: s3://sagemaker-us-east-1-774375974900/autopilot/automl-dm-1625687301/transformed-data/dpp0/rpb/train/chunk_94.csv.out to autopilot/automl-dm-1625687301/transformed-data/dpp0/rpb/train/chunk_94.csv.out\n",
            "download: s3://sagemaker-us-east-1-774375974900/autopilot/automl-dm-1625687301/transformed-data/dpp0/rpb/train/chunk_97.csv.out to autopilot/automl-dm-1625687301/transformed-data/dpp0/rpb/train/chunk_97.csv.out\n",
            "download: s3://sagemaker-us-east-1-774375974900/autopilot/automl-dm-1625687301/transformed-data/dpp0/rpb/train/chunk_99.csv.out to autopilot/automl-dm-1625687301/transformed-data/dpp0/rpb/train/chunk_99.csv.out\n",
            "download: s3://sagemaker-us-east-1-774375974900/autopilot/automl-dm-1625687301/transformed-data/dpp0/rpb/validation/chunk_0.csv.out to autopilot/automl-dm-1625687301/transformed-data/dpp0/rpb/validation/chunk_0.csv.out\n",
            "download: s3://sagemaker-us-east-1-774375974900/autopilot/automl-dm-1625687301/transformed-data/dpp0/rpb/validation/chunk_13.csv.out to autopilot/automl-dm-1625687301/transformed-data/dpp0/rpb/validation/chunk_13.csv.out\n",
            "download: s3://sagemaker-us-east-1-774375974900/autopilot/automl-dm-1625687301/transformed-data/dpp0/rpb/train/chunk_98.csv.out to autopilot/automl-dm-1625687301/transformed-data/dpp0/rpb/train/chunk_98.csv.out\n",
            "download: s3://sagemaker-us-east-1-774375974900/autopilot/automl-dm-1625687301/transformed-data/dpp0/rpb/validation/chunk_11.csv.out to autopilot/automl-dm-1625687301/transformed-data/dpp0/rpb/validation/chunk_11.csv.out\n",
            "download: s3://sagemaker-us-east-1-774375974900/autopilot/automl-dm-1625687301/transformed-data/dpp0/rpb/validation/chunk_12.csv.out to autopilot/automl-dm-1625687301/transformed-data/dpp0/rpb/validation/chunk_12.csv.out\n",
            "download: s3://sagemaker-us-east-1-774375974900/autopilot/automl-dm-1625687301/transformed-data/dpp0/rpb/validation/chunk_16.csv.out to autopilot/automl-dm-1625687301/transformed-data/dpp0/rpb/validation/chunk_16.csv.out\n",
            "download: s3://sagemaker-us-east-1-774375974900/autopilot/automl-dm-1625687301/transformed-data/dpp0/rpb/validation/chunk_17.csv.out to autopilot/automl-dm-1625687301/transformed-data/dpp0/rpb/validation/chunk_17.csv.out\n",
            "download: s3://sagemaker-us-east-1-774375974900/autopilot/automl-dm-1625687301/transformed-data/dpp0/rpb/validation/chunk_10.csv.out to autopilot/automl-dm-1625687301/transformed-data/dpp0/rpb/validation/chunk_10.csv.out\n",
            "download: s3://sagemaker-us-east-1-774375974900/autopilot/automl-dm-1625687301/transformed-data/dpp0/rpb/validation/chunk_2.csv.out to autopilot/automl-dm-1625687301/transformed-data/dpp0/rpb/validation/chunk_2.csv.out\n",
            "download: s3://sagemaker-us-east-1-774375974900/autopilot/automl-dm-1625687301/transformed-data/dpp0/rpb/validation/chunk_15.csv.out to autopilot/automl-dm-1625687301/transformed-data/dpp0/rpb/validation/chunk_15.csv.out\n",
            "download: s3://sagemaker-us-east-1-774375974900/autopilot/automl-dm-1625687301/transformed-data/dpp0/rpb/validation/chunk_1.csv.out to autopilot/automl-dm-1625687301/transformed-data/dpp0/rpb/validation/chunk_1.csv.out\n",
            "download: s3://sagemaker-us-east-1-774375974900/autopilot/automl-dm-1625687301/transformed-data/dpp0/rpb/validation/chunk_18.csv.out to autopilot/automl-dm-1625687301/transformed-data/dpp0/rpb/validation/chunk_18.csv.out\n",
            "download: s3://sagemaker-us-east-1-774375974900/autopilot/automl-dm-1625687301/transformed-data/dpp0/rpb/validation/chunk_14.csv.out to autopilot/automl-dm-1625687301/transformed-data/dpp0/rpb/validation/chunk_14.csv.out\n",
            "download: s3://sagemaker-us-east-1-774375974900/autopilot/automl-dm-1625687301/transformed-data/dpp0/rpb/validation/chunk_8.csv.out to autopilot/automl-dm-1625687301/transformed-data/dpp0/rpb/validation/chunk_8.csv.out\n",
            "download: s3://sagemaker-us-east-1-774375974900/autopilot/automl-dm-1625687301/transformed-data/dpp0/rpb/validation/chunk_3.csv.out to autopilot/automl-dm-1625687301/transformed-data/dpp0/rpb/validation/chunk_3.csv.out\n",
            "download: s3://sagemaker-us-east-1-774375974900/autopilot/automl-dm-1625687301/transformed-data/dpp0/rpb/validation/chunk_19.csv.out to autopilot/automl-dm-1625687301/transformed-data/dpp0/rpb/validation/chunk_19.csv.out\n",
            "download: s3://sagemaker-us-east-1-774375974900/autopilot/automl-dm-1625687301/transformed-data/dpp0/rpb/validation/chunk_4.csv.out to autopilot/automl-dm-1625687301/transformed-data/dpp0/rpb/validation/chunk_4.csv.out\n",
            "download: s3://sagemaker-us-east-1-774375974900/autopilot/automl-dm-1625687301/transformed-data/dpp0/rpb/validation/chunk_5.csv.out to autopilot/automl-dm-1625687301/transformed-data/dpp0/rpb/validation/chunk_5.csv.out\n",
            "download: s3://sagemaker-us-east-1-774375974900/autopilot/automl-dm-1625687301/transformed-data/dpp0/rpb/validation/chunk_7.csv.out to autopilot/automl-dm-1625687301/transformed-data/dpp0/rpb/validation/chunk_7.csv.out\n",
            "download: s3://sagemaker-us-east-1-774375974900/autopilot/automl-dm-1625687301/transformed-data/dpp0/rpb/validation/chunk_6.csv.out to autopilot/automl-dm-1625687301/transformed-data/dpp0/rpb/validation/chunk_6.csv.out\n",
            "download: s3://sagemaker-us-east-1-774375974900/autopilot/automl-dm-1625687301/transformed-data/dpp0/rpb/validation/chunk_9.csv.out to autopilot/automl-dm-1625687301/transformed-data/dpp0/rpb/validation/chunk_9.csv.out\n",
            "download: s3://sagemaker-us-east-1-774375974900/autopilot/automl-dm-1625687301/transformed-data/dpp1/csv/train/chunk_25.csv.out to autopilot/automl-dm-1625687301/transformed-data/dpp1/csv/train/chunk_25.csv.out\n",
            "download: s3://sagemaker-us-east-1-774375974900/autopilot/automl-dm-1625687301/transformed-data/dpp1/csv/train/chunk_21.csv.out to autopilot/automl-dm-1625687301/transformed-data/dpp1/csv/train/chunk_21.csv.out\n",
            "download: s3://sagemaker-us-east-1-774375974900/autopilot/automl-dm-1625687301/transformed-data/dpp1/csv/train/chunk_22.csv.out to autopilot/automl-dm-1625687301/transformed-data/dpp1/csv/train/chunk_22.csv.out\n",
            "download: s3://sagemaker-us-east-1-774375974900/autopilot/automl-dm-1625687301/transformed-data/dpp1/csv/train/chunk_26.csv.out to autopilot/automl-dm-1625687301/transformed-data/dpp1/csv/train/chunk_26.csv.out\n",
            "download: s3://sagemaker-us-east-1-774375974900/autopilot/automl-dm-1625687301/transformed-data/dpp1/csv/train/chunk_20.csv.out to autopilot/automl-dm-1625687301/transformed-data/dpp1/csv/train/chunk_20.csv.out\n",
            "download: s3://sagemaker-us-east-1-774375974900/autopilot/automl-dm-1625687301/transformed-data/dpp1/csv/train/chunk_24.csv.out to autopilot/automl-dm-1625687301/transformed-data/dpp1/csv/train/chunk_24.csv.out\n",
            "download: s3://sagemaker-us-east-1-774375974900/autopilot/automl-dm-1625687301/transformed-data/dpp1/csv/train/chunk_27.csv.out to autopilot/automl-dm-1625687301/transformed-data/dpp1/csv/train/chunk_27.csv.out\n",
            "download: s3://sagemaker-us-east-1-774375974900/autopilot/automl-dm-1625687301/transformed-data/dpp1/csv/train/chunk_23.csv.out to autopilot/automl-dm-1625687301/transformed-data/dpp1/csv/train/chunk_23.csv.out\n",
            "download: s3://sagemaker-us-east-1-774375974900/autopilot/automl-dm-1625687301/transformed-data/dpp1/csv/train/chunk_33.csv.out to autopilot/automl-dm-1625687301/transformed-data/dpp1/csv/train/chunk_33.csv.out\n",
            "download: s3://sagemaker-us-east-1-774375974900/autopilot/automl-dm-1625687301/transformed-data/dpp1/csv/train/chunk_31.csv.out to autopilot/automl-dm-1625687301/transformed-data/dpp1/csv/train/chunk_31.csv.out\n",
            "download: s3://sagemaker-us-east-1-774375974900/autopilot/automl-dm-1625687301/transformed-data/dpp1/csv/train/chunk_28.csv.out to autopilot/automl-dm-1625687301/transformed-data/dpp1/csv/train/chunk_28.csv.out\n",
            "download: s3://sagemaker-us-east-1-774375974900/autopilot/automl-dm-1625687301/transformed-data/dpp1/csv/train/chunk_36.csv.out to autopilot/automl-dm-1625687301/transformed-data/dpp1/csv/train/chunk_36.csv.out\n",
            "download: s3://sagemaker-us-east-1-774375974900/autopilot/automl-dm-1625687301/transformed-data/dpp1/csv/train/chunk_29.csv.out to autopilot/automl-dm-1625687301/transformed-data/dpp1/csv/train/chunk_29.csv.out\n",
            "download: s3://sagemaker-us-east-1-774375974900/autopilot/automl-dm-1625687301/transformed-data/dpp1/csv/train/chunk_35.csv.out to autopilot/automl-dm-1625687301/transformed-data/dpp1/csv/train/chunk_35.csv.out\n",
            "download: s3://sagemaker-us-east-1-774375974900/autopilot/automl-dm-1625687301/transformed-data/dpp1/csv/train/chunk_30.csv.out to autopilot/automl-dm-1625687301/transformed-data/dpp1/csv/train/chunk_30.csv.out\n",
            "download: s3://sagemaker-us-east-1-774375974900/autopilot/automl-dm-1625687301/transformed-data/dpp1/csv/train/chunk_37.csv.out to autopilot/automl-dm-1625687301/transformed-data/dpp1/csv/train/chunk_37.csv.out\n",
            "download: s3://sagemaker-us-east-1-774375974900/autopilot/automl-dm-1625687301/transformed-data/dpp1/csv/train/chunk_34.csv.out to autopilot/automl-dm-1625687301/transformed-data/dpp1/csv/train/chunk_34.csv.out\n",
            "download: s3://sagemaker-us-east-1-774375974900/autopilot/automl-dm-1625687301/transformed-data/dpp1/csv/train/chunk_39.csv.out to autopilot/automl-dm-1625687301/transformed-data/dpp1/csv/train/chunk_39.csv.out\n",
            "download: s3://sagemaker-us-east-1-774375974900/autopilot/automl-dm-1625687301/transformed-data/dpp1/csv/train/chunk_40.csv.out to autopilot/automl-dm-1625687301/transformed-data/dpp1/csv/train/chunk_40.csv.out\n",
            "download: s3://sagemaker-us-east-1-774375974900/autopilot/automl-dm-1625687301/transformed-data/dpp1/csv/train/chunk_42.csv.out to autopilot/automl-dm-1625687301/transformed-data/dpp1/csv/train/chunk_42.csv.out\n",
            "download: s3://sagemaker-us-east-1-774375974900/autopilot/automl-dm-1625687301/transformed-data/dpp1/csv/train/chunk_38.csv.out to autopilot/automl-dm-1625687301/transformed-data/dpp1/csv/train/chunk_38.csv.out\n",
            "download: s3://sagemaker-us-east-1-774375974900/autopilot/automl-dm-1625687301/transformed-data/dpp1/csv/train/chunk_32.csv.out to autopilot/automl-dm-1625687301/transformed-data/dpp1/csv/train/chunk_32.csv.out\n",
            "download: s3://sagemaker-us-east-1-774375974900/autopilot/automl-dm-1625687301/transformed-data/dpp1/csv/train/chunk_41.csv.out to autopilot/automl-dm-1625687301/transformed-data/dpp1/csv/train/chunk_41.csv.out\n",
            "download: s3://sagemaker-us-east-1-774375974900/autopilot/automl-dm-1625687301/transformed-data/dpp1/csv/train/chunk_44.csv.out to autopilot/automl-dm-1625687301/transformed-data/dpp1/csv/train/chunk_44.csv.out\n",
            "download: s3://sagemaker-us-east-1-774375974900/autopilot/automl-dm-1625687301/transformed-data/dpp1/csv/train/chunk_43.csv.out to autopilot/automl-dm-1625687301/transformed-data/dpp1/csv/train/chunk_43.csv.out\n",
            "download: s3://sagemaker-us-east-1-774375974900/autopilot/automl-dm-1625687301/transformed-data/dpp1/csv/train/chunk_47.csv.out to autopilot/automl-dm-1625687301/transformed-data/dpp1/csv/train/chunk_47.csv.out\n",
            "download: s3://sagemaker-us-east-1-774375974900/autopilot/automl-dm-1625687301/transformed-data/dpp1/csv/train/chunk_45.csv.out to autopilot/automl-dm-1625687301/transformed-data/dpp1/csv/train/chunk_45.csv.out\n",
            "download: s3://sagemaker-us-east-1-774375974900/autopilot/automl-dm-1625687301/transformed-data/dpp1/csv/train/chunk_46.csv.out to autopilot/automl-dm-1625687301/transformed-data/dpp1/csv/train/chunk_46.csv.out\n",
            "download: s3://sagemaker-us-east-1-774375974900/autopilot/automl-dm-1625687301/transformed-data/dpp1/csv/train/chunk_50.csv.out to autopilot/automl-dm-1625687301/transformed-data/dpp1/csv/train/chunk_50.csv.out\n",
            "download: s3://sagemaker-us-east-1-774375974900/autopilot/automl-dm-1625687301/transformed-data/dpp1/csv/train/chunk_54.csv.out to autopilot/automl-dm-1625687301/transformed-data/dpp1/csv/train/chunk_54.csv.out\n",
            "download: s3://sagemaker-us-east-1-774375974900/autopilot/automl-dm-1625687301/transformed-data/dpp1/csv/train/chunk_48.csv.out to autopilot/automl-dm-1625687301/transformed-data/dpp1/csv/train/chunk_48.csv.out\n",
            "download: s3://sagemaker-us-east-1-774375974900/autopilot/automl-dm-1625687301/transformed-data/dpp1/csv/train/chunk_49.csv.out to autopilot/automl-dm-1625687301/transformed-data/dpp1/csv/train/chunk_49.csv.out\n",
            "download: s3://sagemaker-us-east-1-774375974900/autopilot/automl-dm-1625687301/transformed-data/dpp1/csv/train/chunk_52.csv.out to autopilot/automl-dm-1625687301/transformed-data/dpp1/csv/train/chunk_52.csv.out\n",
            "download: s3://sagemaker-us-east-1-774375974900/autopilot/automl-dm-1625687301/transformed-data/dpp1/csv/train/chunk_51.csv.out to autopilot/automl-dm-1625687301/transformed-data/dpp1/csv/train/chunk_51.csv.out\n",
            "download: s3://sagemaker-us-east-1-774375974900/autopilot/automl-dm-1625687301/transformed-data/dpp1/csv/train/chunk_55.csv.out to autopilot/automl-dm-1625687301/transformed-data/dpp1/csv/train/chunk_55.csv.out\n",
            "download: s3://sagemaker-us-east-1-774375974900/autopilot/automl-dm-1625687301/transformed-data/dpp1/csv/train/chunk_53.csv.out to autopilot/automl-dm-1625687301/transformed-data/dpp1/csv/train/chunk_53.csv.out\n",
            "download: s3://sagemaker-us-east-1-774375974900/autopilot/automl-dm-1625687301/transformed-data/dpp1/csv/train/chunk_57.csv.out to autopilot/automl-dm-1625687301/transformed-data/dpp1/csv/train/chunk_57.csv.out\n",
            "download: s3://sagemaker-us-east-1-774375974900/autopilot/automl-dm-1625687301/transformed-data/dpp1/csv/train/chunk_59.csv.out to autopilot/automl-dm-1625687301/transformed-data/dpp1/csv/train/chunk_59.csv.out\n",
            "download: s3://sagemaker-us-east-1-774375974900/autopilot/automl-dm-1625687301/transformed-data/dpp1/csv/train/chunk_56.csv.out to autopilot/automl-dm-1625687301/transformed-data/dpp1/csv/train/chunk_56.csv.out\n",
            "download: s3://sagemaker-us-east-1-774375974900/autopilot/automl-dm-1625687301/transformed-data/dpp1/csv/train/chunk_62.csv.out to autopilot/automl-dm-1625687301/transformed-data/dpp1/csv/train/chunk_62.csv.out\n",
            "download: s3://sagemaker-us-east-1-774375974900/autopilot/automl-dm-1625687301/transformed-data/dpp1/csv/train/chunk_60.csv.out to autopilot/automl-dm-1625687301/transformed-data/dpp1/csv/train/chunk_60.csv.out\n",
            "download: s3://sagemaker-us-east-1-774375974900/autopilot/automl-dm-1625687301/transformed-data/dpp1/csv/train/chunk_61.csv.out to autopilot/automl-dm-1625687301/transformed-data/dpp1/csv/train/chunk_61.csv.out\n",
            "download: s3://sagemaker-us-east-1-774375974900/autopilot/automl-dm-1625687301/transformed-data/dpp1/csv/train/chunk_64.csv.out to autopilot/automl-dm-1625687301/transformed-data/dpp1/csv/train/chunk_64.csv.out\n",
            "download: s3://sagemaker-us-east-1-774375974900/autopilot/automl-dm-1625687301/transformed-data/dpp1/csv/train/chunk_66.csv.out to autopilot/automl-dm-1625687301/transformed-data/dpp1/csv/train/chunk_66.csv.out\n",
            "download: s3://sagemaker-us-east-1-774375974900/autopilot/automl-dm-1625687301/transformed-data/dpp1/csv/train/chunk_58.csv.out to autopilot/automl-dm-1625687301/transformed-data/dpp1/csv/train/chunk_58.csv.out\n",
            "download: s3://sagemaker-us-east-1-774375974900/autopilot/automl-dm-1625687301/transformed-data/dpp1/csv/train/chunk_63.csv.out to autopilot/automl-dm-1625687301/transformed-data/dpp1/csv/train/chunk_63.csv.out\n",
            "download: s3://sagemaker-us-east-1-774375974900/autopilot/automl-dm-1625687301/transformed-data/dpp1/csv/train/chunk_65.csv.out to autopilot/automl-dm-1625687301/transformed-data/dpp1/csv/train/chunk_65.csv.out\n",
            "download: s3://sagemaker-us-east-1-774375974900/autopilot/automl-dm-1625687301/transformed-data/dpp1/csv/train/chunk_69.csv.out to autopilot/automl-dm-1625687301/transformed-data/dpp1/csv/train/chunk_69.csv.out\n",
            "download: s3://sagemaker-us-east-1-774375974900/autopilot/automl-dm-1625687301/transformed-data/dpp1/csv/train/chunk_70.csv.out to autopilot/automl-dm-1625687301/transformed-data/dpp1/csv/train/chunk_70.csv.out\n",
            "download: s3://sagemaker-us-east-1-774375974900/autopilot/automl-dm-1625687301/transformed-data/dpp1/csv/train/chunk_71.csv.out to autopilot/automl-dm-1625687301/transformed-data/dpp1/csv/train/chunk_71.csv.out\n",
            "download: s3://sagemaker-us-east-1-774375974900/autopilot/automl-dm-1625687301/transformed-data/dpp1/csv/train/chunk_68.csv.out to autopilot/automl-dm-1625687301/transformed-data/dpp1/csv/train/chunk_68.csv.out\n",
            "download: s3://sagemaker-us-east-1-774375974900/autopilot/automl-dm-1625687301/transformed-data/dpp1/csv/train/chunk_75.csv.out to autopilot/automl-dm-1625687301/transformed-data/dpp1/csv/train/chunk_75.csv.out\n",
            "download: s3://sagemaker-us-east-1-774375974900/autopilot/automl-dm-1625687301/transformed-data/dpp1/csv/train/chunk_67.csv.out to autopilot/automl-dm-1625687301/transformed-data/dpp1/csv/train/chunk_67.csv.out\n",
            "download: s3://sagemaker-us-east-1-774375974900/autopilot/automl-dm-1625687301/transformed-data/dpp1/csv/train/chunk_80.csv.out to autopilot/automl-dm-1625687301/transformed-data/dpp1/csv/train/chunk_80.csv.out\n",
            "download: s3://sagemaker-us-east-1-774375974900/autopilot/automl-dm-1625687301/transformed-data/dpp1/csv/train/chunk_73.csv.out to autopilot/automl-dm-1625687301/transformed-data/dpp1/csv/train/chunk_73.csv.out\n",
            "download: s3://sagemaker-us-east-1-774375974900/autopilot/automl-dm-1625687301/transformed-data/dpp1/csv/train/chunk_72.csv.out to autopilot/automl-dm-1625687301/transformed-data/dpp1/csv/train/chunk_72.csv.out\n",
            "download: s3://sagemaker-us-east-1-774375974900/autopilot/automl-dm-1625687301/transformed-data/dpp1/csv/train/chunk_74.csv.out to autopilot/automl-dm-1625687301/transformed-data/dpp1/csv/train/chunk_74.csv.out\n",
            "download: s3://sagemaker-us-east-1-774375974900/autopilot/automl-dm-1625687301/transformed-data/dpp1/csv/train/chunk_78.csv.out to autopilot/automl-dm-1625687301/transformed-data/dpp1/csv/train/chunk_78.csv.out\n",
            "download: s3://sagemaker-us-east-1-774375974900/autopilot/automl-dm-1625687301/transformed-data/dpp1/csv/train/chunk_79.csv.out to autopilot/automl-dm-1625687301/transformed-data/dpp1/csv/train/chunk_79.csv.out\n",
            "download: s3://sagemaker-us-east-1-774375974900/autopilot/automl-dm-1625687301/transformed-data/dpp1/csv/train/chunk_76.csv.out to autopilot/automl-dm-1625687301/transformed-data/dpp1/csv/train/chunk_76.csv.out\n",
            "download: s3://sagemaker-us-east-1-774375974900/autopilot/automl-dm-1625687301/transformed-data/dpp1/csv/train/chunk_81.csv.out to autopilot/automl-dm-1625687301/transformed-data/dpp1/csv/train/chunk_81.csv.out\n",
            "download: s3://sagemaker-us-east-1-774375974900/autopilot/automl-dm-1625687301/transformed-data/dpp1/csv/train/chunk_82.csv.out to autopilot/automl-dm-1625687301/transformed-data/dpp1/csv/train/chunk_82.csv.out\n",
            "download: s3://sagemaker-us-east-1-774375974900/autopilot/automl-dm-1625687301/transformed-data/dpp1/csv/train/chunk_77.csv.out to autopilot/automl-dm-1625687301/transformed-data/dpp1/csv/train/chunk_77.csv.out\n",
            "download: s3://sagemaker-us-east-1-774375974900/autopilot/automl-dm-1625687301/transformed-data/dpp1/csv/train/chunk_84.csv.out to autopilot/automl-dm-1625687301/transformed-data/dpp1/csv/train/chunk_84.csv.out\n",
            "download: s3://sagemaker-us-east-1-774375974900/autopilot/automl-dm-1625687301/transformed-data/dpp1/csv/train/chunk_86.csv.out to autopilot/automl-dm-1625687301/transformed-data/dpp1/csv/train/chunk_86.csv.out\n",
            "download: s3://sagemaker-us-east-1-774375974900/autopilot/automl-dm-1625687301/transformed-data/dpp1/csv/train/chunk_88.csv.out to autopilot/automl-dm-1625687301/transformed-data/dpp1/csv/train/chunk_88.csv.out\n",
            "download: s3://sagemaker-us-east-1-774375974900/autopilot/automl-dm-1625687301/transformed-data/dpp1/csv/train/chunk_83.csv.out to autopilot/automl-dm-1625687301/transformed-data/dpp1/csv/train/chunk_83.csv.out\n",
            "download: s3://sagemaker-us-east-1-774375974900/autopilot/automl-dm-1625687301/transformed-data/dpp1/csv/train/chunk_89.csv.out to autopilot/automl-dm-1625687301/transformed-data/dpp1/csv/train/chunk_89.csv.out\n",
            "download: s3://sagemaker-us-east-1-774375974900/autopilot/automl-dm-1625687301/transformed-data/dpp1/csv/train/chunk_85.csv.out to autopilot/automl-dm-1625687301/transformed-data/dpp1/csv/train/chunk_85.csv.out\n",
            "download: s3://sagemaker-us-east-1-774375974900/autopilot/automl-dm-1625687301/transformed-data/dpp1/csv/train/chunk_87.csv.out to autopilot/automl-dm-1625687301/transformed-data/dpp1/csv/train/chunk_87.csv.out\n",
            "download: s3://sagemaker-us-east-1-774375974900/autopilot/automl-dm-1625687301/transformed-data/dpp1/csv/train/chunk_91.csv.out to autopilot/automl-dm-1625687301/transformed-data/dpp1/csv/train/chunk_91.csv.out\n",
            "download: s3://sagemaker-us-east-1-774375974900/autopilot/automl-dm-1625687301/transformed-data/dpp1/csv/train/chunk_90.csv.out to autopilot/automl-dm-1625687301/transformed-data/dpp1/csv/train/chunk_90.csv.out\n",
            "download: s3://sagemaker-us-east-1-774375974900/autopilot/automl-dm-1625687301/transformed-data/dpp1/csv/train/chunk_95.csv.out to autopilot/automl-dm-1625687301/transformed-data/dpp1/csv/train/chunk_95.csv.out\n",
            "download: s3://sagemaker-us-east-1-774375974900/autopilot/automl-dm-1625687301/transformed-data/dpp1/csv/train/chunk_92.csv.out to autopilot/automl-dm-1625687301/transformed-data/dpp1/csv/train/chunk_92.csv.out\n",
            "download: s3://sagemaker-us-east-1-774375974900/autopilot/automl-dm-1625687301/transformed-data/dpp1/csv/train/chunk_98.csv.out to autopilot/automl-dm-1625687301/transformed-data/dpp1/csv/train/chunk_98.csv.out\n",
            "download: s3://sagemaker-us-east-1-774375974900/autopilot/automl-dm-1625687301/transformed-data/dpp1/csv/train/chunk_93.csv.out to autopilot/automl-dm-1625687301/transformed-data/dpp1/csv/train/chunk_93.csv.out\n",
            "download: s3://sagemaker-us-east-1-774375974900/autopilot/automl-dm-1625687301/transformed-data/dpp1/csv/train/chunk_94.csv.out to autopilot/automl-dm-1625687301/transformed-data/dpp1/csv/train/chunk_94.csv.out\n",
            "download: s3://sagemaker-us-east-1-774375974900/autopilot/automl-dm-1625687301/transformed-data/dpp1/csv/train/chunk_97.csv.out to autopilot/automl-dm-1625687301/transformed-data/dpp1/csv/train/chunk_97.csv.out\n",
            "download: s3://sagemaker-us-east-1-774375974900/autopilot/automl-dm-1625687301/transformed-data/dpp1/csv/train/chunk_96.csv.out to autopilot/automl-dm-1625687301/transformed-data/dpp1/csv/train/chunk_96.csv.out\n",
            "download: s3://sagemaker-us-east-1-774375974900/autopilot/automl-dm-1625687301/transformed-data/dpp1/csv/validation/chunk_1.csv.out to autopilot/automl-dm-1625687301/transformed-data/dpp1/csv/validation/chunk_1.csv.out\n",
            "download: s3://sagemaker-us-east-1-774375974900/autopilot/automl-dm-1625687301/transformed-data/dpp1/csv/train/chunk_99.csv.out to autopilot/automl-dm-1625687301/transformed-data/dpp1/csv/train/chunk_99.csv.out\n",
            "download: s3://sagemaker-us-east-1-774375974900/autopilot/automl-dm-1625687301/transformed-data/dpp1/csv/validation/chunk_10.csv.out to autopilot/automl-dm-1625687301/transformed-data/dpp1/csv/validation/chunk_10.csv.out\n",
            "download: s3://sagemaker-us-east-1-774375974900/autopilot/automl-dm-1625687301/transformed-data/dpp1/csv/validation/chunk_14.csv.out to autopilot/automl-dm-1625687301/transformed-data/dpp1/csv/validation/chunk_14.csv.out\n",
            "download: s3://sagemaker-us-east-1-774375974900/autopilot/automl-dm-1625687301/transformed-data/dpp1/csv/validation/chunk_15.csv.out to autopilot/automl-dm-1625687301/transformed-data/dpp1/csv/validation/chunk_15.csv.out\n",
            "download: s3://sagemaker-us-east-1-774375974900/autopilot/automl-dm-1625687301/transformed-data/dpp1/csv/validation/chunk_0.csv.out to autopilot/automl-dm-1625687301/transformed-data/dpp1/csv/validation/chunk_0.csv.out\n",
            "download: s3://sagemaker-us-east-1-774375974900/autopilot/automl-dm-1625687301/transformed-data/dpp1/csv/validation/chunk_12.csv.out to autopilot/automl-dm-1625687301/transformed-data/dpp1/csv/validation/chunk_12.csv.out\n",
            "download: s3://sagemaker-us-east-1-774375974900/autopilot/automl-dm-1625687301/transformed-data/dpp1/csv/validation/chunk_11.csv.out to autopilot/automl-dm-1625687301/transformed-data/dpp1/csv/validation/chunk_11.csv.out\n",
            "download: s3://sagemaker-us-east-1-774375974900/autopilot/automl-dm-1625687301/transformed-data/dpp1/csv/validation/chunk_19.csv.out to autopilot/automl-dm-1625687301/transformed-data/dpp1/csv/validation/chunk_19.csv.out\n",
            "download: s3://sagemaker-us-east-1-774375974900/autopilot/automl-dm-1625687301/transformed-data/dpp1/csv/validation/chunk_18.csv.out to autopilot/automl-dm-1625687301/transformed-data/dpp1/csv/validation/chunk_18.csv.out\n",
            "download: s3://sagemaker-us-east-1-774375974900/autopilot/automl-dm-1625687301/transformed-data/dpp1/csv/validation/chunk_16.csv.out to autopilot/automl-dm-1625687301/transformed-data/dpp1/csv/validation/chunk_16.csv.out\n",
            "download: s3://sagemaker-us-east-1-774375974900/autopilot/automl-dm-1625687301/transformed-data/dpp1/csv/validation/chunk_17.csv.out to autopilot/automl-dm-1625687301/transformed-data/dpp1/csv/validation/chunk_17.csv.out\n",
            "download: s3://sagemaker-us-east-1-774375974900/autopilot/automl-dm-1625687301/transformed-data/dpp1/csv/validation/chunk_13.csv.out to autopilot/automl-dm-1625687301/transformed-data/dpp1/csv/validation/chunk_13.csv.out\n",
            "download: s3://sagemaker-us-east-1-774375974900/autopilot/automl-dm-1625687301/transformed-data/dpp1/csv/validation/chunk_4.csv.out to autopilot/automl-dm-1625687301/transformed-data/dpp1/csv/validation/chunk_4.csv.out\n",
            "download: s3://sagemaker-us-east-1-774375974900/autopilot/automl-dm-1625687301/transformed-data/dpp1/csv/validation/chunk_3.csv.out to autopilot/automl-dm-1625687301/transformed-data/dpp1/csv/validation/chunk_3.csv.out\n",
            "download: s3://sagemaker-us-east-1-774375974900/autopilot/automl-dm-1625687301/transformed-data/dpp1/csv/validation/chunk_2.csv.out to autopilot/automl-dm-1625687301/transformed-data/dpp1/csv/validation/chunk_2.csv.out\n",
            "download: s3://sagemaker-us-east-1-774375974900/autopilot/automl-dm-1625687301/transformed-data/dpp1/csv/validation/chunk_9.csv.out to autopilot/automl-dm-1625687301/transformed-data/dpp1/csv/validation/chunk_9.csv.out\n",
            "download: s3://sagemaker-us-east-1-774375974900/autopilot/automl-dm-1625687301/transformed-data/dpp1/csv/validation/chunk_5.csv.out to autopilot/automl-dm-1625687301/transformed-data/dpp1/csv/validation/chunk_5.csv.out\n",
            "download: s3://sagemaker-us-east-1-774375974900/autopilot/automl-dm-1625687301/transformed-data/dpp1/csv/validation/chunk_7.csv.out to autopilot/automl-dm-1625687301/transformed-data/dpp1/csv/validation/chunk_7.csv.out\n",
            "download: s3://sagemaker-us-east-1-774375974900/autopilot/automl-dm-1625687301/transformed-data/dpp1/csv/validation/chunk_8.csv.out to autopilot/automl-dm-1625687301/transformed-data/dpp1/csv/validation/chunk_8.csv.out\n",
            "download: s3://sagemaker-us-east-1-774375974900/autopilot/automl-dm-1625687301/transformed-data/dpp2/rpb/train/chunk_20.csv.out to autopilot/automl-dm-1625687301/transformed-data/dpp2/rpb/train/chunk_20.csv.out\n",
            "download: s3://sagemaker-us-east-1-774375974900/autopilot/automl-dm-1625687301/transformed-data/dpp2/rpb/train/chunk_23.csv.out to autopilot/automl-dm-1625687301/transformed-data/dpp2/rpb/train/chunk_23.csv.out\n",
            "download: s3://sagemaker-us-east-1-774375974900/autopilot/automl-dm-1625687301/transformed-data/dpp1/csv/validation/chunk_6.csv.out to autopilot/automl-dm-1625687301/transformed-data/dpp1/csv/validation/chunk_6.csv.out\n",
            "download: s3://sagemaker-us-east-1-774375974900/autopilot/automl-dm-1625687301/transformed-data/dpp2/rpb/train/chunk_27.csv.out to autopilot/automl-dm-1625687301/transformed-data/dpp2/rpb/train/chunk_27.csv.out\n",
            "download: s3://sagemaker-us-east-1-774375974900/autopilot/automl-dm-1625687301/transformed-data/dpp2/rpb/train/chunk_25.csv.out to autopilot/automl-dm-1625687301/transformed-data/dpp2/rpb/train/chunk_25.csv.out\n",
            "download: s3://sagemaker-us-east-1-774375974900/autopilot/automl-dm-1625687301/transformed-data/dpp2/rpb/train/chunk_22.csv.out to autopilot/automl-dm-1625687301/transformed-data/dpp2/rpb/train/chunk_22.csv.out\n",
            "download: s3://sagemaker-us-east-1-774375974900/autopilot/automl-dm-1625687301/transformed-data/dpp2/rpb/train/chunk_26.csv.out to autopilot/automl-dm-1625687301/transformed-data/dpp2/rpb/train/chunk_26.csv.out\n",
            "download: s3://sagemaker-us-east-1-774375974900/autopilot/automl-dm-1625687301/transformed-data/dpp2/rpb/train/chunk_31.csv.out to autopilot/automl-dm-1625687301/transformed-data/dpp2/rpb/train/chunk_31.csv.out\n",
            "download: s3://sagemaker-us-east-1-774375974900/autopilot/automl-dm-1625687301/transformed-data/dpp2/rpb/train/chunk_28.csv.out to autopilot/automl-dm-1625687301/transformed-data/dpp2/rpb/train/chunk_28.csv.out\n",
            "download: s3://sagemaker-us-east-1-774375974900/autopilot/automl-dm-1625687301/transformed-data/dpp2/rpb/train/chunk_34.csv.out to autopilot/automl-dm-1625687301/transformed-data/dpp2/rpb/train/chunk_34.csv.out\n",
            "download: s3://sagemaker-us-east-1-774375974900/autopilot/automl-dm-1625687301/transformed-data/dpp2/rpb/train/chunk_29.csv.out to autopilot/automl-dm-1625687301/transformed-data/dpp2/rpb/train/chunk_29.csv.out\n",
            "download: s3://sagemaker-us-east-1-774375974900/autopilot/automl-dm-1625687301/transformed-data/dpp2/rpb/train/chunk_30.csv.out to autopilot/automl-dm-1625687301/transformed-data/dpp2/rpb/train/chunk_30.csv.out\n",
            "download: s3://sagemaker-us-east-1-774375974900/autopilot/automl-dm-1625687301/transformed-data/dpp2/rpb/train/chunk_33.csv.out to autopilot/automl-dm-1625687301/transformed-data/dpp2/rpb/train/chunk_33.csv.out\n",
            "download: s3://sagemaker-us-east-1-774375974900/autopilot/automl-dm-1625687301/transformed-data/dpp2/rpb/train/chunk_21.csv.out to autopilot/automl-dm-1625687301/transformed-data/dpp2/rpb/train/chunk_21.csv.out\n",
            "download: s3://sagemaker-us-east-1-774375974900/autopilot/automl-dm-1625687301/transformed-data/dpp2/rpb/train/chunk_35.csv.out to autopilot/automl-dm-1625687301/transformed-data/dpp2/rpb/train/chunk_35.csv.out\n",
            "download: s3://sagemaker-us-east-1-774375974900/autopilot/automl-dm-1625687301/transformed-data/dpp2/rpb/train/chunk_36.csv.out to autopilot/automl-dm-1625687301/transformed-data/dpp2/rpb/train/chunk_36.csv.out\n",
            "download: s3://sagemaker-us-east-1-774375974900/autopilot/automl-dm-1625687301/transformed-data/dpp2/rpb/train/chunk_39.csv.out to autopilot/automl-dm-1625687301/transformed-data/dpp2/rpb/train/chunk_39.csv.out\n",
            "download: s3://sagemaker-us-east-1-774375974900/autopilot/automl-dm-1625687301/transformed-data/dpp2/rpb/train/chunk_41.csv.out to autopilot/automl-dm-1625687301/transformed-data/dpp2/rpb/train/chunk_41.csv.out\n",
            "download: s3://sagemaker-us-east-1-774375974900/autopilot/automl-dm-1625687301/transformed-data/dpp2/rpb/train/chunk_37.csv.out to autopilot/automl-dm-1625687301/transformed-data/dpp2/rpb/train/chunk_37.csv.out\n",
            "download: s3://sagemaker-us-east-1-774375974900/autopilot/automl-dm-1625687301/transformed-data/dpp2/rpb/train/chunk_38.csv.out to autopilot/automl-dm-1625687301/transformed-data/dpp2/rpb/train/chunk_38.csv.out\n",
            "download: s3://sagemaker-us-east-1-774375974900/autopilot/automl-dm-1625687301/transformed-data/dpp2/rpb/train/chunk_40.csv.out to autopilot/automl-dm-1625687301/transformed-data/dpp2/rpb/train/chunk_40.csv.out\n",
            "download: s3://sagemaker-us-east-1-774375974900/autopilot/automl-dm-1625687301/transformed-data/dpp2/rpb/train/chunk_24.csv.out to autopilot/automl-dm-1625687301/transformed-data/dpp2/rpb/train/chunk_24.csv.out\n",
            "download: s3://sagemaker-us-east-1-774375974900/autopilot/automl-dm-1625687301/transformed-data/dpp2/rpb/train/chunk_44.csv.out to autopilot/automl-dm-1625687301/transformed-data/dpp2/rpb/train/chunk_44.csv.out\n",
            "download: s3://sagemaker-us-east-1-774375974900/autopilot/automl-dm-1625687301/transformed-data/dpp2/rpb/train/chunk_42.csv.out to autopilot/automl-dm-1625687301/transformed-data/dpp2/rpb/train/chunk_42.csv.out\n",
            "download: s3://sagemaker-us-east-1-774375974900/autopilot/automl-dm-1625687301/transformed-data/dpp2/rpb/train/chunk_46.csv.out to autopilot/automl-dm-1625687301/transformed-data/dpp2/rpb/train/chunk_46.csv.out\n",
            "download: s3://sagemaker-us-east-1-774375974900/autopilot/automl-dm-1625687301/transformed-data/dpp2/rpb/train/chunk_43.csv.out to autopilot/automl-dm-1625687301/transformed-data/dpp2/rpb/train/chunk_43.csv.out\n",
            "download: s3://sagemaker-us-east-1-774375974900/autopilot/automl-dm-1625687301/transformed-data/dpp2/rpb/train/chunk_47.csv.out to autopilot/automl-dm-1625687301/transformed-data/dpp2/rpb/train/chunk_47.csv.out\n",
            "download: s3://sagemaker-us-east-1-774375974900/autopilot/automl-dm-1625687301/transformed-data/dpp2/rpb/train/chunk_32.csv.out to autopilot/automl-dm-1625687301/transformed-data/dpp2/rpb/train/chunk_32.csv.out\n",
            "download: s3://sagemaker-us-east-1-774375974900/autopilot/automl-dm-1625687301/transformed-data/dpp2/rpb/train/chunk_45.csv.out to autopilot/automl-dm-1625687301/transformed-data/dpp2/rpb/train/chunk_45.csv.out\n",
            "download: s3://sagemaker-us-east-1-774375974900/autopilot/automl-dm-1625687301/transformed-data/dpp2/rpb/train/chunk_49.csv.out to autopilot/automl-dm-1625687301/transformed-data/dpp2/rpb/train/chunk_49.csv.out\n",
            "download: s3://sagemaker-us-east-1-774375974900/autopilot/automl-dm-1625687301/transformed-data/dpp2/rpb/train/chunk_48.csv.out to autopilot/automl-dm-1625687301/transformed-data/dpp2/rpb/train/chunk_48.csv.out\n",
            "download: s3://sagemaker-us-east-1-774375974900/autopilot/automl-dm-1625687301/transformed-data/dpp2/rpb/train/chunk_53.csv.out to autopilot/automl-dm-1625687301/transformed-data/dpp2/rpb/train/chunk_53.csv.out\n",
            "download: s3://sagemaker-us-east-1-774375974900/autopilot/automl-dm-1625687301/transformed-data/dpp2/rpb/train/chunk_52.csv.out to autopilot/automl-dm-1625687301/transformed-data/dpp2/rpb/train/chunk_52.csv.out\n",
            "download: s3://sagemaker-us-east-1-774375974900/autopilot/automl-dm-1625687301/transformed-data/dpp2/rpb/train/chunk_50.csv.out to autopilot/automl-dm-1625687301/transformed-data/dpp2/rpb/train/chunk_50.csv.out\n",
            "download: s3://sagemaker-us-east-1-774375974900/autopilot/automl-dm-1625687301/transformed-data/dpp2/rpb/train/chunk_51.csv.out to autopilot/automl-dm-1625687301/transformed-data/dpp2/rpb/train/chunk_51.csv.out\n",
            "download: s3://sagemaker-us-east-1-774375974900/autopilot/automl-dm-1625687301/transformed-data/dpp2/rpb/train/chunk_54.csv.out to autopilot/automl-dm-1625687301/transformed-data/dpp2/rpb/train/chunk_54.csv.out\n",
            "download: s3://sagemaker-us-east-1-774375974900/autopilot/automl-dm-1625687301/transformed-data/dpp2/rpb/train/chunk_55.csv.out to autopilot/automl-dm-1625687301/transformed-data/dpp2/rpb/train/chunk_55.csv.out\n",
            "download: s3://sagemaker-us-east-1-774375974900/autopilot/automl-dm-1625687301/transformed-data/dpp2/rpb/train/chunk_57.csv.out to autopilot/automl-dm-1625687301/transformed-data/dpp2/rpb/train/chunk_57.csv.out\n",
            "download: s3://sagemaker-us-east-1-774375974900/autopilot/automl-dm-1625687301/transformed-data/dpp2/rpb/train/chunk_58.csv.out to autopilot/automl-dm-1625687301/transformed-data/dpp2/rpb/train/chunk_58.csv.out\n",
            "download: s3://sagemaker-us-east-1-774375974900/autopilot/automl-dm-1625687301/transformed-data/dpp2/rpb/train/chunk_60.csv.out to autopilot/automl-dm-1625687301/transformed-data/dpp2/rpb/train/chunk_60.csv.out\n",
            "download: s3://sagemaker-us-east-1-774375974900/autopilot/automl-dm-1625687301/transformed-data/dpp2/rpb/train/chunk_56.csv.out to autopilot/automl-dm-1625687301/transformed-data/dpp2/rpb/train/chunk_56.csv.out\n",
            "download: s3://sagemaker-us-east-1-774375974900/autopilot/automl-dm-1625687301/transformed-data/dpp2/rpb/train/chunk_59.csv.out to autopilot/automl-dm-1625687301/transformed-data/dpp2/rpb/train/chunk_59.csv.out\n",
            "download: s3://sagemaker-us-east-1-774375974900/autopilot/automl-dm-1625687301/transformed-data/dpp2/rpb/train/chunk_63.csv.out to autopilot/automl-dm-1625687301/transformed-data/dpp2/rpb/train/chunk_63.csv.out\n",
            "download: s3://sagemaker-us-east-1-774375974900/autopilot/automl-dm-1625687301/transformed-data/dpp2/rpb/train/chunk_61.csv.out to autopilot/automl-dm-1625687301/transformed-data/dpp2/rpb/train/chunk_61.csv.out\n",
            "download: s3://sagemaker-us-east-1-774375974900/autopilot/automl-dm-1625687301/transformed-data/dpp2/rpb/train/chunk_62.csv.out to autopilot/automl-dm-1625687301/transformed-data/dpp2/rpb/train/chunk_62.csv.out\n",
            "download: s3://sagemaker-us-east-1-774375974900/autopilot/automl-dm-1625687301/transformed-data/dpp2/rpb/train/chunk_66.csv.out to autopilot/automl-dm-1625687301/transformed-data/dpp2/rpb/train/chunk_66.csv.out\n",
            "download: s3://sagemaker-us-east-1-774375974900/autopilot/automl-dm-1625687301/transformed-data/dpp2/rpb/train/chunk_67.csv.out to autopilot/automl-dm-1625687301/transformed-data/dpp2/rpb/train/chunk_67.csv.out\n",
            "download: s3://sagemaker-us-east-1-774375974900/autopilot/automl-dm-1625687301/transformed-data/dpp2/rpb/train/chunk_65.csv.out to autopilot/automl-dm-1625687301/transformed-data/dpp2/rpb/train/chunk_65.csv.out\n",
            "download: s3://sagemaker-us-east-1-774375974900/autopilot/automl-dm-1625687301/transformed-data/dpp2/rpb/train/chunk_70.csv.out to autopilot/automl-dm-1625687301/transformed-data/dpp2/rpb/train/chunk_70.csv.out\n",
            "download: s3://sagemaker-us-east-1-774375974900/autopilot/automl-dm-1625687301/transformed-data/dpp2/rpb/train/chunk_68.csv.out to autopilot/automl-dm-1625687301/transformed-data/dpp2/rpb/train/chunk_68.csv.out\n",
            "download: s3://sagemaker-us-east-1-774375974900/autopilot/automl-dm-1625687301/transformed-data/dpp2/rpb/train/chunk_69.csv.out to autopilot/automl-dm-1625687301/transformed-data/dpp2/rpb/train/chunk_69.csv.out\n",
            "download: s3://sagemaker-us-east-1-774375974900/autopilot/automl-dm-1625687301/transformed-data/dpp2/rpb/train/chunk_73.csv.out to autopilot/automl-dm-1625687301/transformed-data/dpp2/rpb/train/chunk_73.csv.out\n",
            "download: s3://sagemaker-us-east-1-774375974900/autopilot/automl-dm-1625687301/transformed-data/dpp2/rpb/train/chunk_72.csv.out to autopilot/automl-dm-1625687301/transformed-data/dpp2/rpb/train/chunk_72.csv.out\n",
            "download: s3://sagemaker-us-east-1-774375974900/autopilot/automl-dm-1625687301/transformed-data/dpp2/rpb/train/chunk_64.csv.out to autopilot/automl-dm-1625687301/transformed-data/dpp2/rpb/train/chunk_64.csv.out\n",
            "download: s3://sagemaker-us-east-1-774375974900/autopilot/automl-dm-1625687301/transformed-data/dpp2/rpb/train/chunk_71.csv.out to autopilot/automl-dm-1625687301/transformed-data/dpp2/rpb/train/chunk_71.csv.out\n",
            "download: s3://sagemaker-us-east-1-774375974900/autopilot/automl-dm-1625687301/transformed-data/dpp2/rpb/train/chunk_75.csv.out to autopilot/automl-dm-1625687301/transformed-data/dpp2/rpb/train/chunk_75.csv.out\n",
            "download: s3://sagemaker-us-east-1-774375974900/autopilot/automl-dm-1625687301/transformed-data/dpp2/rpb/train/chunk_76.csv.out to autopilot/automl-dm-1625687301/transformed-data/dpp2/rpb/train/chunk_76.csv.out\n",
            "download: s3://sagemaker-us-east-1-774375974900/autopilot/automl-dm-1625687301/transformed-data/dpp2/rpb/train/chunk_74.csv.out to autopilot/automl-dm-1625687301/transformed-data/dpp2/rpb/train/chunk_74.csv.out\n",
            "download: s3://sagemaker-us-east-1-774375974900/autopilot/automl-dm-1625687301/transformed-data/dpp2/rpb/train/chunk_80.csv.out to autopilot/automl-dm-1625687301/transformed-data/dpp2/rpb/train/chunk_80.csv.out\n",
            "download: s3://sagemaker-us-east-1-774375974900/autopilot/automl-dm-1625687301/transformed-data/dpp2/rpb/train/chunk_77.csv.out to autopilot/automl-dm-1625687301/transformed-data/dpp2/rpb/train/chunk_77.csv.out\n",
            "download: s3://sagemaker-us-east-1-774375974900/autopilot/automl-dm-1625687301/transformed-data/dpp2/rpb/train/chunk_83.csv.out to autopilot/automl-dm-1625687301/transformed-data/dpp2/rpb/train/chunk_83.csv.out\n",
            "download: s3://sagemaker-us-east-1-774375974900/autopilot/automl-dm-1625687301/transformed-data/dpp2/rpb/train/chunk_78.csv.out to autopilot/automl-dm-1625687301/transformed-data/dpp2/rpb/train/chunk_78.csv.out\n",
            "download: s3://sagemaker-us-east-1-774375974900/autopilot/automl-dm-1625687301/transformed-data/dpp2/rpb/train/chunk_79.csv.out to autopilot/automl-dm-1625687301/transformed-data/dpp2/rpb/train/chunk_79.csv.out\n",
            "download: s3://sagemaker-us-east-1-774375974900/autopilot/automl-dm-1625687301/transformed-data/dpp2/rpb/train/chunk_87.csv.out to autopilot/automl-dm-1625687301/transformed-data/dpp2/rpb/train/chunk_87.csv.out\n",
            "download: s3://sagemaker-us-east-1-774375974900/autopilot/automl-dm-1625687301/transformed-data/dpp2/rpb/train/chunk_84.csv.out to autopilot/automl-dm-1625687301/transformed-data/dpp2/rpb/train/chunk_84.csv.out\n",
            "download: s3://sagemaker-us-east-1-774375974900/autopilot/automl-dm-1625687301/transformed-data/dpp2/rpb/train/chunk_89.csv.out to autopilot/automl-dm-1625687301/transformed-data/dpp2/rpb/train/chunk_89.csv.out\n",
            "download: s3://sagemaker-us-east-1-774375974900/autopilot/automl-dm-1625687301/transformed-data/dpp2/rpb/train/chunk_82.csv.out to autopilot/automl-dm-1625687301/transformed-data/dpp2/rpb/train/chunk_82.csv.out\n",
            "download: s3://sagemaker-us-east-1-774375974900/autopilot/automl-dm-1625687301/transformed-data/dpp2/rpb/train/chunk_81.csv.out to autopilot/automl-dm-1625687301/transformed-data/dpp2/rpb/train/chunk_81.csv.out\n",
            "download: s3://sagemaker-us-east-1-774375974900/autopilot/automl-dm-1625687301/transformed-data/dpp2/rpb/train/chunk_86.csv.out to autopilot/automl-dm-1625687301/transformed-data/dpp2/rpb/train/chunk_86.csv.out\n",
            "download: s3://sagemaker-us-east-1-774375974900/autopilot/automl-dm-1625687301/transformed-data/dpp2/rpb/train/chunk_88.csv.out to autopilot/automl-dm-1625687301/transformed-data/dpp2/rpb/train/chunk_88.csv.out\n",
            "download: s3://sagemaker-us-east-1-774375974900/autopilot/automl-dm-1625687301/transformed-data/dpp2/rpb/train/chunk_92.csv.out to autopilot/automl-dm-1625687301/transformed-data/dpp2/rpb/train/chunk_92.csv.out\n",
            "download: s3://sagemaker-us-east-1-774375974900/autopilot/automl-dm-1625687301/transformed-data/dpp2/rpb/train/chunk_85.csv.out to autopilot/automl-dm-1625687301/transformed-data/dpp2/rpb/train/chunk_85.csv.out\n",
            "download: s3://sagemaker-us-east-1-774375974900/autopilot/automl-dm-1625687301/transformed-data/dpp2/rpb/train/chunk_93.csv.out to autopilot/automl-dm-1625687301/transformed-data/dpp2/rpb/train/chunk_93.csv.out\n",
            "download: s3://sagemaker-us-east-1-774375974900/autopilot/automl-dm-1625687301/transformed-data/dpp2/rpb/train/chunk_90.csv.out to autopilot/automl-dm-1625687301/transformed-data/dpp2/rpb/train/chunk_90.csv.out\n",
            "download: s3://sagemaker-us-east-1-774375974900/autopilot/automl-dm-1625687301/transformed-data/dpp2/rpb/train/chunk_96.csv.out to autopilot/automl-dm-1625687301/transformed-data/dpp2/rpb/train/chunk_96.csv.out\n",
            "download: s3://sagemaker-us-east-1-774375974900/autopilot/automl-dm-1625687301/transformed-data/dpp2/rpb/train/chunk_91.csv.out to autopilot/automl-dm-1625687301/transformed-data/dpp2/rpb/train/chunk_91.csv.out\n",
            "download: s3://sagemaker-us-east-1-774375974900/autopilot/automl-dm-1625687301/transformed-data/dpp2/rpb/train/chunk_94.csv.out to autopilot/automl-dm-1625687301/transformed-data/dpp2/rpb/train/chunk_94.csv.out\n",
            "download: s3://sagemaker-us-east-1-774375974900/autopilot/automl-dm-1625687301/transformed-data/dpp2/rpb/train/chunk_98.csv.out to autopilot/automl-dm-1625687301/transformed-data/dpp2/rpb/train/chunk_98.csv.out\n",
            "download: s3://sagemaker-us-east-1-774375974900/autopilot/automl-dm-1625687301/transformed-data/dpp2/rpb/train/chunk_95.csv.out to autopilot/automl-dm-1625687301/transformed-data/dpp2/rpb/train/chunk_95.csv.out\n",
            "download: s3://sagemaker-us-east-1-774375974900/autopilot/automl-dm-1625687301/transformed-data/dpp2/rpb/train/chunk_97.csv.out to autopilot/automl-dm-1625687301/transformed-data/dpp2/rpb/train/chunk_97.csv.out\n",
            "download: s3://sagemaker-us-east-1-774375974900/autopilot/automl-dm-1625687301/transformed-data/dpp2/rpb/validation/chunk_1.csv.out to autopilot/automl-dm-1625687301/transformed-data/dpp2/rpb/validation/chunk_1.csv.out\n",
            "download: s3://sagemaker-us-east-1-774375974900/autopilot/automl-dm-1625687301/transformed-data/dpp2/rpb/validation/chunk_0.csv.out to autopilot/automl-dm-1625687301/transformed-data/dpp2/rpb/validation/chunk_0.csv.out\n",
            "download: s3://sagemaker-us-east-1-774375974900/autopilot/automl-dm-1625687301/transformed-data/dpp2/rpb/train/chunk_99.csv.out to autopilot/automl-dm-1625687301/transformed-data/dpp2/rpb/train/chunk_99.csv.out\n",
            "download: s3://sagemaker-us-east-1-774375974900/autopilot/automl-dm-1625687301/transformed-data/dpp2/rpb/validation/chunk_14.csv.out to autopilot/automl-dm-1625687301/transformed-data/dpp2/rpb/validation/chunk_14.csv.out\n",
            "download: s3://sagemaker-us-east-1-774375974900/autopilot/automl-dm-1625687301/transformed-data/dpp2/rpb/validation/chunk_16.csv.out to autopilot/automl-dm-1625687301/transformed-data/dpp2/rpb/validation/chunk_16.csv.out\n",
            "download: s3://sagemaker-us-east-1-774375974900/autopilot/automl-dm-1625687301/transformed-data/dpp2/rpb/validation/chunk_15.csv.out to autopilot/automl-dm-1625687301/transformed-data/dpp2/rpb/validation/chunk_15.csv.out\n",
            "download: s3://sagemaker-us-east-1-774375974900/autopilot/automl-dm-1625687301/transformed-data/dpp2/rpb/validation/chunk_12.csv.out to autopilot/automl-dm-1625687301/transformed-data/dpp2/rpb/validation/chunk_12.csv.out\n",
            "download: s3://sagemaker-us-east-1-774375974900/autopilot/automl-dm-1625687301/transformed-data/dpp2/rpb/validation/chunk_10.csv.out to autopilot/automl-dm-1625687301/transformed-data/dpp2/rpb/validation/chunk_10.csv.out\n",
            "download: s3://sagemaker-us-east-1-774375974900/autopilot/automl-dm-1625687301/transformed-data/dpp2/rpb/validation/chunk_18.csv.out to autopilot/automl-dm-1625687301/transformed-data/dpp2/rpb/validation/chunk_18.csv.out\n",
            "download: s3://sagemaker-us-east-1-774375974900/autopilot/automl-dm-1625687301/transformed-data/dpp2/rpb/validation/chunk_11.csv.out to autopilot/automl-dm-1625687301/transformed-data/dpp2/rpb/validation/chunk_11.csv.out\n",
            "download: s3://sagemaker-us-east-1-774375974900/autopilot/automl-dm-1625687301/transformed-data/dpp2/rpb/validation/chunk_17.csv.out to autopilot/automl-dm-1625687301/transformed-data/dpp2/rpb/validation/chunk_17.csv.out\n",
            "download: s3://sagemaker-us-east-1-774375974900/autopilot/automl-dm-1625687301/transformed-data/dpp2/rpb/validation/chunk_19.csv.out to autopilot/automl-dm-1625687301/transformed-data/dpp2/rpb/validation/chunk_19.csv.out\n",
            "download: s3://sagemaker-us-east-1-774375974900/autopilot/automl-dm-1625687301/transformed-data/dpp2/rpb/validation/chunk_4.csv.out to autopilot/automl-dm-1625687301/transformed-data/dpp2/rpb/validation/chunk_4.csv.out\n",
            "download: s3://sagemaker-us-east-1-774375974900/autopilot/automl-dm-1625687301/transformed-data/dpp2/rpb/validation/chunk_13.csv.out to autopilot/automl-dm-1625687301/transformed-data/dpp2/rpb/validation/chunk_13.csv.out\n",
            "download: s3://sagemaker-us-east-1-774375974900/autopilot/automl-dm-1625687301/transformed-data/dpp2/rpb/validation/chunk_2.csv.out to autopilot/automl-dm-1625687301/transformed-data/dpp2/rpb/validation/chunk_2.csv.out\n",
            "download: s3://sagemaker-us-east-1-774375974900/autopilot/automl-dm-1625687301/transformed-data/dpp2/rpb/validation/chunk_3.csv.out to autopilot/automl-dm-1625687301/transformed-data/dpp2/rpb/validation/chunk_3.csv.out\n",
            "download: s3://sagemaker-us-east-1-774375974900/autopilot/automl-dm-1625687301/transformed-data/dpp2/rpb/validation/chunk_6.csv.out to autopilot/automl-dm-1625687301/transformed-data/dpp2/rpb/validation/chunk_6.csv.out\n",
            "download: s3://sagemaker-us-east-1-774375974900/autopilot/automl-dm-1625687301/validations/output_validation to autopilot/automl-dm-1625687301/validations/output_validation\n",
            "download: s3://sagemaker-us-east-1-774375974900/autopilot/automl-dm-1625687301/transformed-data/dpp2/rpb/validation/chunk_8.csv.out to autopilot/automl-dm-1625687301/transformed-data/dpp2/rpb/validation/chunk_8.csv.out\n",
            "download: s3://sagemaker-us-east-1-774375974900/autopilot/automl-dm-1625687301/transformed-data/dpp2/rpb/validation/chunk_7.csv.out to autopilot/automl-dm-1625687301/transformed-data/dpp2/rpb/validation/chunk_7.csv.out\n",
            "download: s3://sagemaker-us-east-1-774375974900/autopilot/automl-dm-1625687301/transformed-data/dpp2/rpb/validation/chunk_9.csv.out to autopilot/automl-dm-1625687301/transformed-data/dpp2/rpb/validation/chunk_9.csv.out\n",
            "download: s3://sagemaker-us-east-1-774375974900/autopilot/automl-dm-1625687301/transformed-data/dpp2/rpb/validation/chunk_5.csv.out to autopilot/automl-dm-1625687301/transformed-data/dpp2/rpb/validation/chunk_5.csv.out\n",
            "download: s3://sagemaker-us-east-1-774375974900/autopilot/automl-dm-1625687301/tuning/automl-dm--dpp2-xgb/automl-dm-1625687301mBS92wfaVVk8-001-bb8b757a/output/model.tar.gz to autopilot/automl-dm-1625687301/tuning/automl-dm--dpp2-xgb/automl-dm-1625687301mBS92wfaVVk8-001-bb8b757a/output/model.tar.gz\n",
            "download: s3://sagemaker-us-east-1-774375974900/autopilot/automl-dm-1625687301/tuning/automl-dm--dpp1-xgb/automl-dm-1625687301mBS92wfaVVk8-003-1ac43cb1/output/model.tar.gz to autopilot/automl-dm-1625687301/tuning/automl-dm--dpp1-xgb/automl-dm-1625687301mBS92wfaVVk8-003-1ac43cb1/output/model.tar.gz\n",
            "download: s3://sagemaker-us-east-1-774375974900/autopilot/automl-dm-1625687301/tuning/automl-dm--dpp2-xgb/automl-dm-1625687301mBS92wfaVVk8-002-f4745121/output/model.tar.gz to autopilot/automl-dm-1625687301/tuning/automl-dm--dpp2-xgb/automl-dm-1625687301mBS92wfaVVk8-002-f4745121/output/model.tar.gz\n",
            "download: s3://sagemaker-us-east-1-774375974900/autopilot/data/womens_clothing_ecommerce_reviews_balanced_for_autopilot.csv to autopilot/data/womens_clothing_ecommerce_reviews_balanced_for_autopilot.csv\n"
          ]
        }
      ]
    },
    {
      "cell_type": "code",
      "metadata": {
        "id": "1UAADZdIR2G5",
        "outputId": "8ebe88ed-6cba-4b3e-c69a-7876dac27c4f"
      },
      "source": [
        "!aws s3 cp 's3://dlai-practical-data-science/data/balanced/womens_clothing_ecommerce_reviews_balanced.csv' ./"
      ],
      "execution_count": null,
      "outputs": [
        {
          "name": "stdout",
          "output_type": "stream",
          "text": [
            "download: s3://dlai-practical-data-science/data/balanced/womens_clothing_ecommerce_reviews_balanced.csv to ./womens_clothing_ecommerce_reviews_balanced.csv\n"
          ]
        }
      ]
    },
    {
      "cell_type": "code",
      "metadata": {
        "id": "JAv_efDFR2G8",
        "outputId": "e428f10e-05bf-471f-def8-ed8ff5cbfb2f"
      },
      "source": [
        "path = './womens_clothing_ecommerce_reviews_balanced.csv'\n",
        "df = pd.read_csv(path, delimiter=',')\n",
        "df.head()"
      ],
      "execution_count": null,
      "outputs": [
        {
          "data": {
            "text/html": [
              "<div>\n",
              "<style scoped>\n",
              "    .dataframe tbody tr th:only-of-type {\n",
              "        vertical-align: middle;\n",
              "    }\n",
              "\n",
              "    .dataframe tbody tr th {\n",
              "        vertical-align: top;\n",
              "    }\n",
              "\n",
              "    .dataframe thead th {\n",
              "        text-align: right;\n",
              "    }\n",
              "</style>\n",
              "<table border=\"1\" class=\"dataframe\">\n",
              "  <thead>\n",
              "    <tr style=\"text-align: right;\">\n",
              "      <th></th>\n",
              "      <th>sentiment</th>\n",
              "      <th>review_body</th>\n",
              "      <th>product_category</th>\n",
              "    </tr>\n",
              "  </thead>\n",
              "  <tbody>\n",
              "    <tr>\n",
              "      <th>0</th>\n",
              "      <td>-1</td>\n",
              "      <td>This suit did nothing for me. the top has zero...</td>\n",
              "      <td>Swim</td>\n",
              "    </tr>\n",
              "    <tr>\n",
              "      <th>1</th>\n",
              "      <td>-1</td>\n",
              "      <td>Like other reviewers  i saw this dress on the ...</td>\n",
              "      <td>Dresses</td>\n",
              "    </tr>\n",
              "    <tr>\n",
              "      <th>2</th>\n",
              "      <td>-1</td>\n",
              "      <td>I wish i had read the reviews before purchasin...</td>\n",
              "      <td>Knits</td>\n",
              "    </tr>\n",
              "    <tr>\n",
              "      <th>3</th>\n",
              "      <td>-1</td>\n",
              "      <td>I ordered these pants in my usual size (xl) an...</td>\n",
              "      <td>Legwear</td>\n",
              "    </tr>\n",
              "    <tr>\n",
              "      <th>4</th>\n",
              "      <td>-1</td>\n",
              "      <td>I noticed this top on one of the sales associa...</td>\n",
              "      <td>Knits</td>\n",
              "    </tr>\n",
              "  </tbody>\n",
              "</table>\n",
              "</div>"
            ],
            "text/plain": [
              "   sentiment                                        review_body  \\\n",
              "0         -1  This suit did nothing for me. the top has zero...   \n",
              "1         -1  Like other reviewers  i saw this dress on the ...   \n",
              "2         -1  I wish i had read the reviews before purchasin...   \n",
              "3         -1  I ordered these pants in my usual size (xl) an...   \n",
              "4         -1  I noticed this top on one of the sales associa...   \n",
              "\n",
              "  product_category  \n",
              "0             Swim  \n",
              "1          Dresses  \n",
              "2            Knits  \n",
              "3          Legwear  \n",
              "4            Knits  "
            ]
          },
          "execution_count": 7,
          "metadata": {},
          "output_type": "execute_result"
        }
      ]
    },
    {
      "cell_type": "code",
      "metadata": {
        "id": "H5lkiqnuR2G9"
      },
      "source": [
        "path_autopilot = './womens_clothing_ecommerce_reviews_balanced_for_autopilot.csv'\n",
        "df[['sentiment', 'review_body']].to_csv(path_autopilot, \n",
        "                                        sep=',', \n",
        "                                        index=False)"
      ],
      "execution_count": null,
      "outputs": []
    },
    {
      "cell_type": "code",
      "metadata": {
        "id": "MK-J5EsqR2G_",
        "outputId": "1d9436ae-2f1a-4079-de43-afb40a25512d"
      },
      "source": [
        "autopilot_train_s3_uri = sess.upload_data(bucket=bucket, key_prefix='autopilot/data', path=path_autopilot)\n",
        "autopilot_train_s3_uri"
      ],
      "execution_count": null,
      "outputs": [
        {
          "data": {
            "text/plain": [
              "'s3://sagemaker-us-east-1-774375974900/autopilot/data/womens_clothing_ecommerce_reviews_balanced_for_autopilot.csv'"
            ]
          },
          "execution_count": 9,
          "metadata": {},
          "output_type": "execute_result"
        }
      ]
    },
    {
      "cell_type": "code",
      "metadata": {
        "id": "5iTu_kX9R2HD",
        "outputId": "133bd452-0293-4255-d85a-2e0bf14217ca"
      },
      "source": [
        "!aws s3 ls $autopilot_train_s3_uri"
      ],
      "execution_count": null,
      "outputs": [
        {
          "name": "stdout",
          "output_type": "stream",
          "text": [
            "2021-07-07 19:45:57    2253749 womens_clothing_ecommerce_reviews_balanced_for_autopilot.csv\n"
          ]
        }
      ]
    },
    {
      "cell_type": "code",
      "metadata": {
        "id": "ESmhYsq_R2HE",
        "outputId": "e5eabf86-44b3-4e41-acd2-01ef9a8883de"
      },
      "source": [
        "model_output_s3_uri = 's3://{}/autopilot'.format(bucket)\n",
        "print(model_output_s3_uri)"
      ],
      "execution_count": null,
      "outputs": [
        {
          "name": "stdout",
          "output_type": "stream",
          "text": [
            "s3://sagemaker-us-east-1-774375974900/autopilot\n"
          ]
        }
      ]
    },
    {
      "cell_type": "code",
      "metadata": {
        "id": "ioVn983ZR2HJ"
      },
      "source": [
        "timestamp = int(time.time())\n",
        "auto_ml_job_name = 'automl-dm-{}'.format(timestamp)"
      ],
      "execution_count": null,
      "outputs": []
    },
    {
      "cell_type": "code",
      "metadata": {
        "id": "kL4OLLqsR2HK",
        "outputId": "a143963d-b326-40ad-d49d-bedd06fb1b06"
      },
      "source": [
        "auto_ml_job_name"
      ],
      "execution_count": null,
      "outputs": [
        {
          "data": {
            "text/plain": [
              "'automl-dm-1625687301'"
            ]
          },
          "execution_count": 13,
          "metadata": {},
          "output_type": "execute_result"
        }
      ]
    },
    {
      "cell_type": "code",
      "metadata": {
        "id": "r-DOIE14R2HL"
      },
      "source": [
        "max_candidates = 3\n",
        "automl = sagemaker.automl.automl.AutoML(\n",
        "    target_attribute_name='sentiment', \n",
        "    base_job_name=auto_ml_job_name, \n",
        "    output_path=model_output_s3_uri,\n",
        "    max_candidates=max_candidates,\n",
        "    sagemaker_session=sess,\n",
        "    role=role,\n",
        "    max_runtime_per_training_job_in_seconds=1200,\n",
        "    total_job_runtime_in_seconds=7200\n",
        ")"
      ],
      "execution_count": null,
      "outputs": []
    },
    {
      "cell_type": "code",
      "metadata": {
        "id": "z0K5QHVBR2HM"
      },
      "source": [
        "automl.fit(\n",
        "    autopilot_train_s3_uri, \n",
        "    job_name=auto_ml_job_name, \n",
        "    wait=False, \n",
        "    logs=False\n",
        ")"
      ],
      "execution_count": null,
      "outputs": []
    },
    {
      "cell_type": "code",
      "metadata": {
        "id": "PGSHKsoIR2HN"
      },
      "source": [
        "job_description_response = automl.describe_auto_ml_job(job_name=auto_ml_job_name)"
      ],
      "execution_count": null,
      "outputs": []
    },
    {
      "cell_type": "code",
      "metadata": {
        "id": "fTvSYQAIVnND"
      },
      "source": [
        "'''use two response elements: AutoMLJobStatus and AutoMLJobSecondaryStatus,\n",
        "which correspond to the primary (Completed | InProgress | Failed | Stopped | Stopping) and \n",
        "secondary (AnalyzingData | FeatureEngineering | ModelTuning etc.) job states respectively.'''"
      ],
      "execution_count": null,
      "outputs": []
    },
    {
      "cell_type": "code",
      "metadata": {
        "id": "JdEO4DncR2HO",
        "outputId": "ad309bcf-d92f-4104-cafc-e4b39a222e3a"
      },
      "source": [
        "while 'AutoMLJobStatus' not in job_description_response.keys() and 'AutoMLJobSecondaryStatus' not in job_description_response.keys():\n",
        "    job_description_response = automl.describe_auto_ml_job(job_name=auto_ml_job_name)\n",
        "    print('[INFO] Autopilot job has not yet started. Please wait. ')\n",
        "    print(json.dumps(job_description_response, indent=4, sort_keys=True, default=str))\n",
        "    print('[INFO] Waiting for Autopilot job to start...')\n",
        "    sleep(15)\n",
        "print('[OK] AutoML job started.')"
      ],
      "execution_count": null,
      "outputs": [
        {
          "name": "stdout",
          "output_type": "stream",
          "text": [
            "[OK] AutoML job started.\n"
          ]
        }
      ]
    },
    {
      "cell_type": "code",
      "metadata": {
        "id": "zOsU14isR2HT",
        "outputId": "b700065a-3af6-4db0-becd-3e4878b09fc1"
      },
      "source": [
        "from IPython.core.display import display, HTML\n",
        "display(HTML('<b>Review <a target=\"blank\" href=\"https://console.aws.amazon.com/sagemaker/home?region={}#/processing-jobs/\">processing jobs</a></b>'.format(region)))\n"
      ],
      "execution_count": null,
      "outputs": [
        {
          "data": {
            "text/html": [
              "<b>Review <a target=\"blank\" href=\"https://console.aws.amazon.com/sagemaker/home?region=us-east-1#/processing-jobs/\">processing jobs</a></b>"
            ],
            "text/plain": [
              "<IPython.core.display.HTML object>"
            ]
          },
          "metadata": {},
          "output_type": "display_data"
        }
      ]
    },
    {
      "cell_type": "code",
      "metadata": {
        "scrolled": true,
        "id": "HQ_c1UH4R2HV",
        "outputId": "f17f7111-b102-43ce-bf85-0135d4f484ea"
      },
      "source": [
        "%%time\n",
        "job_status = job_description_response['AutoMLJobStatus']\n",
        "job_sec_status = job_description_response['AutoMLJobSecondaryStatus']\n",
        "if job_status not in ('Stopped', 'Failed'):\n",
        "    while job_status in ('InProgress') and job_sec_status in ('Starting', 'AnalyzingData'):\n",
        "        job_description_response = automl.describe_auto_ml_job(job_name=auto_ml_job_name)\n",
        "        job_status = job_description_response['AutoMLJobStatus']\n",
        "        job_sec_status = job_description_response['AutoMLJobSecondaryStatus']\n",
        "        print(job_status, job_sec_status)\n",
        "        time.sleep(15)\n",
        "    print('[OK] Data analysis phase completed.\\n')    \n",
        "print(json.dumps(job_description_response, indent=4, sort_keys=True, default=str))"
      ],
      "execution_count": null,
      "outputs": [
        {
          "name": "stdout",
          "output_type": "stream",
          "text": [
            "InProgress AnalyzingData\n",
            "InProgress AnalyzingData\n",
            "InProgress AnalyzingData\n",
            "InProgress AnalyzingData\n",
            "InProgress AnalyzingData\n",
            "InProgress AnalyzingData\n",
            "InProgress AnalyzingData\n",
            "InProgress AnalyzingData\n",
            "InProgress AnalyzingData\n",
            "InProgress AnalyzingData\n",
            "InProgress AnalyzingData\n",
            "InProgress AnalyzingData\n",
            "InProgress AnalyzingData\n",
            "InProgress AnalyzingData\n",
            "InProgress AnalyzingData\n",
            "InProgress AnalyzingData\n",
            "InProgress AnalyzingData\n",
            "InProgress AnalyzingData\n",
            "InProgress AnalyzingData\n",
            "InProgress AnalyzingData\n",
            "InProgress FeatureEngineering\n",
            "[OK] Data analysis phase completed.\n",
            "\n",
            "{\n",
            "    \"AutoMLJobArn\": \"arn:aws:sagemaker:us-east-1:774375974900:automl-job/automl-dm-1625687301\",\n",
            "    \"AutoMLJobArtifacts\": {\n",
            "        \"CandidateDefinitionNotebookLocation\": \"s3://sagemaker-us-east-1-774375974900/autopilot/automl-dm-1625687301/sagemaker-automl-candidates/automl-dm-1625687301-pr-1-71dca513d01140df943444531031120633cda/notebooks/SageMakerAutopilotCandidateDefinitionNotebook.ipynb\",\n",
            "        \"DataExplorationNotebookLocation\": \"s3://sagemaker-us-east-1-774375974900/autopilot/automl-dm-1625687301/sagemaker-automl-candidates/automl-dm-1625687301-pr-1-71dca513d01140df943444531031120633cda/notebooks/SageMakerAutopilotDataExplorationNotebook.ipynb\"\n",
            "    },\n",
            "    \"AutoMLJobConfig\": {\n",
            "        \"CompletionCriteria\": {\n",
            "            \"MaxAutoMLJobRuntimeInSeconds\": 7200,\n",
            "            \"MaxCandidates\": 3,\n",
            "            \"MaxRuntimePerTrainingJobInSeconds\": 1200\n",
            "        },\n",
            "        \"SecurityConfig\": {\n",
            "            \"EnableInterContainerTrafficEncryption\": false\n",
            "        }\n",
            "    },\n",
            "    \"AutoMLJobName\": \"automl-dm-1625687301\",\n",
            "    \"AutoMLJobSecondaryStatus\": \"FeatureEngineering\",\n",
            "    \"AutoMLJobStatus\": \"InProgress\",\n",
            "    \"CreationTime\": \"2021-07-07 19:50:59.355000+00:00\",\n",
            "    \"GenerateCandidateDefinitionsOnly\": false,\n",
            "    \"InputDataConfig\": [\n",
            "        {\n",
            "            \"DataSource\": {\n",
            "                \"S3DataSource\": {\n",
            "                    \"S3DataType\": \"S3Prefix\",\n",
            "                    \"S3Uri\": \"s3://sagemaker-us-east-1-774375974900/autopilot/data/womens_clothing_ecommerce_reviews_balanced_for_autopilot.csv\"\n",
            "                }\n",
            "            },\n",
            "            \"TargetAttributeName\": \"sentiment\"\n",
            "        }\n",
            "    ],\n",
            "    \"LastModifiedTime\": \"2021-07-07 20:00:00.081000+00:00\",\n",
            "    \"OutputDataConfig\": {\n",
            "        \"S3OutputPath\": \"s3://sagemaker-us-east-1-774375974900/autopilot\"\n",
            "    },\n",
            "    \"ResolvedAttributes\": {\n",
            "        \"AutoMLJobObjective\": {\n",
            "            \"MetricName\": \"Accuracy\"\n",
            "        },\n",
            "        \"CompletionCriteria\": {\n",
            "            \"MaxAutoMLJobRuntimeInSeconds\": 7200,\n",
            "            \"MaxCandidates\": 3,\n",
            "            \"MaxRuntimePerTrainingJobInSeconds\": 1200\n",
            "        },\n",
            "        \"ProblemType\": \"MulticlassClassification\"\n",
            "    },\n",
            "    \"ResponseMetadata\": {\n",
            "        \"HTTPHeaders\": {\n",
            "            \"content-length\": \"1720\",\n",
            "            \"content-type\": \"application/x-amz-json-1.1\",\n",
            "            \"date\": \"Wed, 07 Jul 2021 20:00:05 GMT\",\n",
            "            \"x-amzn-requestid\": \"40b3788b-61a1-4914-b4ee-1f52f70832d6\"\n",
            "        },\n",
            "        \"HTTPStatusCode\": 200,\n",
            "        \"RequestId\": \"40b3788b-61a1-4914-b4ee-1f52f70832d6\",\n",
            "        \"RetryAttempts\": 0\n",
            "    },\n",
            "    \"RoleArn\": \"arn:aws:iam::774375974900:role/c21581a406814l826944t1w7743-SageMakerExecutionRole-V1WS98ZC9FBO\"\n",
            "}\n",
            "CPU times: user 257 ms, sys: 39.3 ms, total: 296 ms\n",
            "Wall time: 5min 17s\n"
          ]
        }
      ]
    },
    {
      "cell_type": "code",
      "metadata": {
        "id": "690o2APtR2HX",
        "outputId": "62111bee-1ea0-4222-bd2c-4a8b620d6ed2"
      },
      "source": [
        "job_description_response = automl.describe_auto_ml_job(job_name=auto_ml_job_name)\n",
        "while 'AutoMLJobArtifacts' not in job_description_response.keys(): \n",
        "    job_description_response = automl.describe_auto_ml_job(job_name=auto_ml_job_name)\n",
        "    print('[INFO] Autopilot job has not yet generated the artifacts. Please wait. ')\n",
        "    print(json.dumps(job_description_response, indent=4, sort_keys=True, default=str))\n",
        "    print('[INFO] Waiting for AutoMLJobArtifacts...')\n",
        "    time.sleep(15)\n",
        "print('[OK] AutoMLJobArtifacts generated.')"
      ],
      "execution_count": null,
      "outputs": [
        {
          "name": "stdout",
          "output_type": "stream",
          "text": [
            "[OK] AutoMLJobArtifacts generated.\n"
          ]
        }
      ]
    },
    {
      "cell_type": "code",
      "metadata": {
        "id": "HTlptxE3R2HY",
        "outputId": "282df407-3161-4b08-ea8e-b220d665ae9b"
      },
      "source": [
        "job_description_response['AutoMLJobArtifacts']"
      ],
      "execution_count": null,
      "outputs": [
        {
          "data": {
            "text/plain": [
              "{'CandidateDefinitionNotebookLocation': 's3://sagemaker-us-east-1-774375974900/autopilot/automl-dm-1625687301/sagemaker-automl-candidates/automl-dm-1625687301-pr-1-71dca513d01140df943444531031120633cda/notebooks/SageMakerAutopilotCandidateDefinitionNotebook.ipynb',\n",
              " 'DataExplorationNotebookLocation': 's3://sagemaker-us-east-1-774375974900/autopilot/automl-dm-1625687301/sagemaker-automl-candidates/automl-dm-1625687301-pr-1-71dca513d01140df943444531031120633cda/notebooks/SageMakerAutopilotDataExplorationNotebook.ipynb'}"
            ]
          },
          "execution_count": 21,
          "metadata": {},
          "output_type": "execute_result"
        }
      ]
    },
    {
      "cell_type": "code",
      "metadata": {
        "id": "QOm7I2xyR2HY",
        "outputId": "50917135-a2e9-45cd-e459-c613eeeaf9e6"
      },
      "source": [
        "job_description_response = automl.describe_auto_ml_job(job_name=auto_ml_job_name) \n",
        "while 'DataExplorationNotebookLocation' not in job_description_response['AutoMLJobArtifacts'].keys(): \n",
        "    job_description_response = automl.describe_auto_ml_job(job_name=auto_ml_job_name) \n",
        "    print('[INFO] Autopilot job has not yet generated the notebooks. Please wait. ')\n",
        "    print(json.dumps(job_description_response, indent=4, sort_keys=True, default=str))\n",
        "    print('[INFO] Waiting for DataExplorationNotebookLocation...')\n",
        "    time.sleep(15)\n",
        "print('[OK] DataExplorationNotebookLocation found.')   "
      ],
      "execution_count": null,
      "outputs": [
        {
          "name": "stdout",
          "output_type": "stream",
          "text": [
            "[OK] DataExplorationNotebookLocation found.\n"
          ]
        }
      ]
    },
    {
      "cell_type": "code",
      "metadata": {
        "id": "WwIkIMnnR2HZ",
        "outputId": "70e0a594-18d3-45ee-e098-13e396a561ea"
      },
      "source": [
        "from IPython.core.display import display, HTML\n",
        "generated_resources = job_description_response['AutoMLJobArtifacts']['DataExplorationNotebookLocation']\n",
        "download_path = generated_resources.rsplit('/notebooks/SageMakerAutopilotDataExplorationNotebook.ipynb')[0]\n",
        "job_id = download_path.rsplit('/', 1)[-1]\n",
        "if not job_id: \n",
        "    print('No AutoMLJobArtifacts found.')\n",
        "else: \n",
        "    display(HTML('<b>Review <a target=\"blank\" href=\"https://s3.console.aws.amazon.com/s3/buckets/{}/autopilot/{}/sagemaker-automl-candidates/{}/\">generated notebooks</a> in S3 bucket</b>'.format(bucket, auto_ml_job_name, job_id)))"
      ],
      "execution_count": null,
      "outputs": [
        {
          "data": {
            "text/html": [
              "<b>Review <a target=\"blank\" href=\"https://s3.console.aws.amazon.com/s3/buckets/sagemaker-us-east-1-774375974900/autopilot/automl-dm-1625687301/sagemaker-automl-candidates/automl-dm-1625687301-pr-1-71dca513d01140df943444531031120633cda/\">generated notebooks</a> in S3 bucket</b>"
            ],
            "text/plain": [
              "<IPython.core.display.HTML object>"
            ]
          },
          "metadata": {},
          "output_type": "display_data"
        }
      ]
    },
    {
      "cell_type": "code",
      "metadata": {
        "scrolled": true,
        "id": "ecfazYGYR2Hb",
        "outputId": "ed584eea-0f3c-4ea5-f40f-708cd8a8479c"
      },
      "source": [
        "%%time\n",
        "job_description_response = automl.describe_auto_ml_job(job_name=auto_ml_job_name)\n",
        "job_status = job_description_response['AutoMLJobStatus']\n",
        "job_sec_status = job_description_response['AutoMLJobSecondaryStatus']\n",
        "print(job_status)\n",
        "print(job_sec_status)\n",
        "if job_status not in ('Stopped', 'Failed'):\n",
        "    while job_status in ('InProgress') and job_sec_status in ('FeatureEngineering'): \n",
        "        job_description_response = automl.describe_auto_ml_job(job_name=auto_ml_job_name)\n",
        "        job_status = job_description_response['AutoMLJobStatus']\n",
        "        job_sec_status = job_description_response['AutoMLJobSecondaryStatus']\n",
        "        print(job_status, job_sec_status)\n",
        "        time.sleep(5)\n",
        "    print('[OK] Feature engineering phase completed.\\n')   \n",
        "print(json.dumps(job_description_response, indent=4, sort_keys=True, default=str))"
      ],
      "execution_count": null,
      "outputs": [
        {
          "name": "stdout",
          "output_type": "stream",
          "text": [
            "Completed\n",
            "Completed\n",
            "[OK] Feature engineering phase completed.\n",
            "\n",
            "{\n",
            "    \"AutoMLJobArn\": \"arn:aws:sagemaker:us-east-1:774375974900:automl-job/automl-dm-1625687301\",\n",
            "    \"AutoMLJobArtifacts\": {\n",
            "        \"CandidateDefinitionNotebookLocation\": \"s3://sagemaker-us-east-1-774375974900/autopilot/automl-dm-1625687301/sagemaker-automl-candidates/automl-dm-1625687301-pr-1-71dca513d01140df943444531031120633cda/notebooks/SageMakerAutopilotCandidateDefinitionNotebook.ipynb\",\n",
            "        \"DataExplorationNotebookLocation\": \"s3://sagemaker-us-east-1-774375974900/autopilot/automl-dm-1625687301/sagemaker-automl-candidates/automl-dm-1625687301-pr-1-71dca513d01140df943444531031120633cda/notebooks/SageMakerAutopilotDataExplorationNotebook.ipynb\"\n",
            "    },\n",
            "    \"AutoMLJobConfig\": {\n",
            "        \"CompletionCriteria\": {\n",
            "            \"MaxAutoMLJobRuntimeInSeconds\": 7200,\n",
            "            \"MaxCandidates\": 3,\n",
            "            \"MaxRuntimePerTrainingJobInSeconds\": 1200\n",
            "        },\n",
            "        \"SecurityConfig\": {\n",
            "            \"EnableInterContainerTrafficEncryption\": false\n",
            "        }\n",
            "    },\n",
            "    \"AutoMLJobName\": \"automl-dm-1625687301\",\n",
            "    \"AutoMLJobSecondaryStatus\": \"Completed\",\n",
            "    \"AutoMLJobStatus\": \"Completed\",\n",
            "    \"BestCandidate\": {\n",
            "        \"CandidateName\": \"automl-dm-1625687301mBS92wfaVVk8-001-bb8b757a\",\n",
            "        \"CandidateProperties\": {\n",
            "            \"CandidateArtifactLocations\": {\n",
            "                \"Explainability\": \"s3://sagemaker-us-east-1-774375974900/autopilot/automl-dm-1625687301/documentation/explainability/output\"\n",
            "            }\n",
            "        },\n",
            "        \"CandidateStatus\": \"Completed\",\n",
            "        \"CandidateSteps\": [\n",
            "            {\n",
            "                \"CandidateStepArn\": \"arn:aws:sagemaker:us-east-1:774375974900:processing-job/automl-dm-1625687301-db-1-171ed83849dc417aa1eb46a7a22c91183f227\",\n",
            "                \"CandidateStepName\": \"automl-dm-1625687301-db-1-171ed83849dc417aa1eb46a7a22c91183f227\",\n",
            "                \"CandidateStepType\": \"AWS::SageMaker::ProcessingJob\"\n",
            "            },\n",
            "            {\n",
            "                \"CandidateStepArn\": \"arn:aws:sagemaker:us-east-1:774375974900:training-job/automl-dm-1625687301-dpp2-1-ef2aaf3aada5437480ecf57071717c0f4a7\",\n",
            "                \"CandidateStepName\": \"automl-dm-1625687301-dpp2-1-ef2aaf3aada5437480ecf57071717c0f4a7\",\n",
            "                \"CandidateStepType\": \"AWS::SageMaker::TrainingJob\"\n",
            "            },\n",
            "            {\n",
            "                \"CandidateStepArn\": \"arn:aws:sagemaker:us-east-1:774375974900:transform-job/automl-dm-1625687301-dpp2-rpb-1-c864223ba5fd4f709c989f87709fdf2\",\n",
            "                \"CandidateStepName\": \"automl-dm-1625687301-dpp2-rpb-1-c864223ba5fd4f709c989f87709fdf2\",\n",
            "                \"CandidateStepType\": \"AWS::SageMaker::TransformJob\"\n",
            "            },\n",
            "            {\n",
            "                \"CandidateStepArn\": \"arn:aws:sagemaker:us-east-1:774375974900:training-job/automl-dm-1625687301mbs92wfavvk8-001-bb8b757a\",\n",
            "                \"CandidateStepName\": \"automl-dm-1625687301mBS92wfaVVk8-001-bb8b757a\",\n",
            "                \"CandidateStepType\": \"AWS::SageMaker::TrainingJob\"\n",
            "            }\n",
            "        ],\n",
            "        \"CreationTime\": \"2021-07-07 20:12:22+00:00\",\n",
            "        \"EndTime\": \"2021-07-07 20:14:02+00:00\",\n",
            "        \"FinalAutoMLJobObjectiveMetric\": {\n",
            "            \"MetricName\": \"validation:accuracy\",\n",
            "            \"Value\": 0.5579500198364258\n",
            "        },\n",
            "        \"InferenceContainers\": [\n",
            "            {\n",
            "                \"Environment\": {\n",
            "                    \"AUTOML_SPARSE_ENCODE_RECORDIO_PROTOBUF\": \"1\",\n",
            "                    \"AUTOML_TRANSFORM_MODE\": \"feature-transform\",\n",
            "                    \"SAGEMAKER_DEFAULT_INVOCATIONS_ACCEPT\": \"application/x-recordio-protobuf\",\n",
            "                    \"SAGEMAKER_PROGRAM\": \"sagemaker_serve\",\n",
            "                    \"SAGEMAKER_SUBMIT_DIRECTORY\": \"/opt/ml/model/code\"\n",
            "                },\n",
            "                \"Image\": \"683313688378.dkr.ecr.us-east-1.amazonaws.com/sagemaker-sklearn-automl:2.2.1-1-cpu-py3\",\n",
            "                \"ModelDataUrl\": \"s3://sagemaker-us-east-1-774375974900/autopilot/automl-dm-1625687301/data-processor-models/automl-dm-1625687301-dpp2-1-ef2aaf3aada5437480ecf57071717c0f4a7/output/model.tar.gz\"\n",
            "            },\n",
            "            {\n",
            "                \"Environment\": {\n",
            "                    \"MAX_CONTENT_LENGTH\": \"20971520\",\n",
            "                    \"SAGEMAKER_DEFAULT_INVOCATIONS_ACCEPT\": \"text/csv\",\n",
            "                    \"SAGEMAKER_INFERENCE_OUTPUT\": \"predicted_label\",\n",
            "                    \"SAGEMAKER_INFERENCE_SUPPORTED\": \"predicted_label,probability,probabilities\"\n",
            "                },\n",
            "                \"Image\": \"683313688378.dkr.ecr.us-east-1.amazonaws.com/sagemaker-xgboost:1.2-2-cpu-py3\",\n",
            "                \"ModelDataUrl\": \"s3://sagemaker-us-east-1-774375974900/autopilot/automl-dm-1625687301/tuning/automl-dm--dpp2-xgb/automl-dm-1625687301mBS92wfaVVk8-001-bb8b757a/output/model.tar.gz\"\n",
            "            },\n",
            "            {\n",
            "                \"Environment\": {\n",
            "                    \"AUTOML_TRANSFORM_MODE\": \"inverse-label-transform\",\n",
            "                    \"SAGEMAKER_DEFAULT_INVOCATIONS_ACCEPT\": \"text/csv\",\n",
            "                    \"SAGEMAKER_INFERENCE_INPUT\": \"predicted_label\",\n",
            "                    \"SAGEMAKER_INFERENCE_OUTPUT\": \"predicted_label\",\n",
            "                    \"SAGEMAKER_INFERENCE_SUPPORTED\": \"predicted_label,probability,labels,probabilities\",\n",
            "                    \"SAGEMAKER_PROGRAM\": \"sagemaker_serve\",\n",
            "                    \"SAGEMAKER_SUBMIT_DIRECTORY\": \"/opt/ml/model/code\"\n",
            "                },\n",
            "                \"Image\": \"683313688378.dkr.ecr.us-east-1.amazonaws.com/sagemaker-sklearn-automl:2.2.1-1-cpu-py3\",\n",
            "                \"ModelDataUrl\": \"s3://sagemaker-us-east-1-774375974900/autopilot/automl-dm-1625687301/data-processor-models/automl-dm-1625687301-dpp2-1-ef2aaf3aada5437480ecf57071717c0f4a7/output/model.tar.gz\"\n",
            "            }\n",
            "        ],\n",
            "        \"LastModifiedTime\": \"2021-07-07 20:14:58.320000+00:00\",\n",
            "        \"ObjectiveStatus\": \"Succeeded\"\n",
            "    },\n",
            "    \"CreationTime\": \"2021-07-07 19:50:59.355000+00:00\",\n",
            "    \"EndTime\": \"2021-07-07 20:23:19.473000+00:00\",\n",
            "    \"GenerateCandidateDefinitionsOnly\": false,\n",
            "    \"InputDataConfig\": [\n",
            "        {\n",
            "            \"DataSource\": {\n",
            "                \"S3DataSource\": {\n",
            "                    \"S3DataType\": \"S3Prefix\",\n",
            "                    \"S3Uri\": \"s3://sagemaker-us-east-1-774375974900/autopilot/data/womens_clothing_ecommerce_reviews_balanced_for_autopilot.csv\"\n",
            "                }\n",
            "            },\n",
            "            \"TargetAttributeName\": \"sentiment\"\n",
            "        }\n",
            "    ],\n",
            "    \"LastModifiedTime\": \"2021-07-07 20:23:19.526000+00:00\",\n",
            "    \"OutputDataConfig\": {\n",
            "        \"S3OutputPath\": \"s3://sagemaker-us-east-1-774375974900/autopilot\"\n",
            "    },\n",
            "    \"ResolvedAttributes\": {\n",
            "        \"AutoMLJobObjective\": {\n",
            "            \"MetricName\": \"Accuracy\"\n",
            "        },\n",
            "        \"CompletionCriteria\": {\n",
            "            \"MaxAutoMLJobRuntimeInSeconds\": 7200,\n",
            "            \"MaxCandidates\": 3,\n",
            "            \"MaxRuntimePerTrainingJobInSeconds\": 1200\n",
            "        },\n",
            "        \"ProblemType\": \"MulticlassClassification\"\n",
            "    },\n",
            "    \"ResponseMetadata\": {\n",
            "        \"HTTPHeaders\": {\n",
            "            \"content-length\": \"5078\",\n",
            "            \"content-type\": \"application/x-amz-json-1.1\",\n",
            "            \"date\": \"Wed, 07 Jul 2021 20:45:20 GMT\",\n",
            "            \"x-amzn-requestid\": \"4606c40d-ba12-4b0c-b03c-ef6ab7bf0644\"\n",
            "        },\n",
            "        \"HTTPStatusCode\": 200,\n",
            "        \"RequestId\": \"4606c40d-ba12-4b0c-b03c-ef6ab7bf0644\",\n",
            "        \"RetryAttempts\": 0\n",
            "    },\n",
            "    \"RoleArn\": \"arn:aws:iam::774375974900:role/c21581a406814l826944t1w7743-SageMakerExecutionRole-V1WS98ZC9FBO\"\n",
            "}\n",
            "CPU times: user 19.1 ms, sys: 3.5 ms, total: 22.6 ms\n",
            "Wall time: 123 ms\n"
          ]
        }
      ]
    },
    {
      "cell_type": "code",
      "metadata": {
        "id": "rS03EzAzR2Hb",
        "outputId": "0759ac0d-2c16-48ce-f8fc-a7aa35ce8f09"
      },
      "source": [
        "from IPython.core.display import display, HTML\n",
        "display(HTML('<b>Review <a target=\"blank\" href=\"https://console.aws.amazon.com/sagemaker/home?region={}#/hyper-tuning-jobs/\">hyper-parameter tuning jobs</a></b>'.format(region)))\n"
      ],
      "execution_count": null,
      "outputs": [
        {
          "data": {
            "text/html": [
              "<b>Review <a target=\"blank\" href=\"https://console.aws.amazon.com/sagemaker/home?region=us-east-1#/hyper-tuning-jobs/\">hyper-parameter tuning jobs</a></b>"
            ],
            "text/plain": [
              "<IPython.core.display.HTML object>"
            ]
          },
          "metadata": {},
          "output_type": "display_data"
        }
      ]
    },
    {
      "cell_type": "code",
      "metadata": {
        "scrolled": true,
        "id": "AyAyNS4HR2Hd",
        "outputId": "491afa52-31ed-4463-9daa-4838de901716"
      },
      "source": [
        "%%time\n",
        "job_description_response = automl.describe_auto_ml_job(job_name=auto_ml_job_name)\n",
        "job_status = job_description_response['AutoMLJobStatus']\n",
        "job_sec_status = job_description_response['AutoMLJobSecondaryStatus']\n",
        "print(job_status)\n",
        "print(job_sec_status)\n",
        "if job_status not in ('Stopped', 'Failed'):\n",
        "    while job_status in ('InProgress') and job_sec_status in ('ModelTuning'):\n",
        "        job_description_response = automl.describe_auto_ml_job(job_name=auto_ml_job_name)\n",
        "        job_status = job_description_response['AutoMLJobStatus']\n",
        "        job_sec_status = job_description_response['AutoMLJobSecondaryStatus']\n",
        "        print(job_status, job_sec_status)\n",
        "        time.sleep(5)\n",
        "    print('[OK] Model tuning phase completed.\\n')   \n",
        "print(json.dumps(job_description_response, indent=4, sort_keys=True, default=str))"
      ],
      "execution_count": null,
      "outputs": [
        {
          "name": "stdout",
          "output_type": "stream",
          "text": [
            "InProgress\n",
            "GeneratingExplainabilityReport\n",
            "[OK] Model tuning phase completed.\n",
            "\n",
            "{\n",
            "    \"AutoMLJobArn\": \"arn:aws:sagemaker:us-east-1:774375974900:automl-job/automl-dm-1625687301\",\n",
            "    \"AutoMLJobArtifacts\": {\n",
            "        \"CandidateDefinitionNotebookLocation\": \"s3://sagemaker-us-east-1-774375974900/autopilot/automl-dm-1625687301/sagemaker-automl-candidates/automl-dm-1625687301-pr-1-71dca513d01140df943444531031120633cda/notebooks/SageMakerAutopilotCandidateDefinitionNotebook.ipynb\",\n",
            "        \"DataExplorationNotebookLocation\": \"s3://sagemaker-us-east-1-774375974900/autopilot/automl-dm-1625687301/sagemaker-automl-candidates/automl-dm-1625687301-pr-1-71dca513d01140df943444531031120633cda/notebooks/SageMakerAutopilotDataExplorationNotebook.ipynb\"\n",
            "    },\n",
            "    \"AutoMLJobConfig\": {\n",
            "        \"CompletionCriteria\": {\n",
            "            \"MaxAutoMLJobRuntimeInSeconds\": 7200,\n",
            "            \"MaxCandidates\": 3,\n",
            "            \"MaxRuntimePerTrainingJobInSeconds\": 1200\n",
            "        },\n",
            "        \"SecurityConfig\": {\n",
            "            \"EnableInterContainerTrafficEncryption\": false\n",
            "        }\n",
            "    },\n",
            "    \"AutoMLJobName\": \"automl-dm-1625687301\",\n",
            "    \"AutoMLJobSecondaryStatus\": \"GeneratingExplainabilityReport\",\n",
            "    \"AutoMLJobStatus\": \"InProgress\",\n",
            "    \"BestCandidate\": {\n",
            "        \"CandidateName\": \"automl-dm-1625687301mBS92wfaVVk8-001-bb8b757a\",\n",
            "        \"CandidateStatus\": \"Completed\",\n",
            "        \"CandidateSteps\": [\n",
            "            {\n",
            "                \"CandidateStepArn\": \"arn:aws:sagemaker:us-east-1:774375974900:processing-job/automl-dm-1625687301-db-1-171ed83849dc417aa1eb46a7a22c91183f227\",\n",
            "                \"CandidateStepName\": \"automl-dm-1625687301-db-1-171ed83849dc417aa1eb46a7a22c91183f227\",\n",
            "                \"CandidateStepType\": \"AWS::SageMaker::ProcessingJob\"\n",
            "            },\n",
            "            {\n",
            "                \"CandidateStepArn\": \"arn:aws:sagemaker:us-east-1:774375974900:training-job/automl-dm-1625687301-dpp2-1-ef2aaf3aada5437480ecf57071717c0f4a7\",\n",
            "                \"CandidateStepName\": \"automl-dm-1625687301-dpp2-1-ef2aaf3aada5437480ecf57071717c0f4a7\",\n",
            "                \"CandidateStepType\": \"AWS::SageMaker::TrainingJob\"\n",
            "            },\n",
            "            {\n",
            "                \"CandidateStepArn\": \"arn:aws:sagemaker:us-east-1:774375974900:transform-job/automl-dm-1625687301-dpp2-rpb-1-c864223ba5fd4f709c989f87709fdf2\",\n",
            "                \"CandidateStepName\": \"automl-dm-1625687301-dpp2-rpb-1-c864223ba5fd4f709c989f87709fdf2\",\n",
            "                \"CandidateStepType\": \"AWS::SageMaker::TransformJob\"\n",
            "            },\n",
            "            {\n",
            "                \"CandidateStepArn\": \"arn:aws:sagemaker:us-east-1:774375974900:training-job/automl-dm-1625687301mbs92wfavvk8-001-bb8b757a\",\n",
            "                \"CandidateStepName\": \"automl-dm-1625687301mBS92wfaVVk8-001-bb8b757a\",\n",
            "                \"CandidateStepType\": \"AWS::SageMaker::TrainingJob\"\n",
            "            }\n",
            "        ],\n",
            "        \"CreationTime\": \"2021-07-07 20:12:22+00:00\",\n",
            "        \"EndTime\": \"2021-07-07 20:14:02+00:00\",\n",
            "        \"FinalAutoMLJobObjectiveMetric\": {\n",
            "            \"MetricName\": \"validation:accuracy\",\n",
            "            \"Value\": 0.5579500198364258\n",
            "        },\n",
            "        \"InferenceContainers\": [\n",
            "            {\n",
            "                \"Environment\": {\n",
            "                    \"AUTOML_SPARSE_ENCODE_RECORDIO_PROTOBUF\": \"1\",\n",
            "                    \"AUTOML_TRANSFORM_MODE\": \"feature-transform\",\n",
            "                    \"SAGEMAKER_DEFAULT_INVOCATIONS_ACCEPT\": \"application/x-recordio-protobuf\",\n",
            "                    \"SAGEMAKER_PROGRAM\": \"sagemaker_serve\",\n",
            "                    \"SAGEMAKER_SUBMIT_DIRECTORY\": \"/opt/ml/model/code\"\n",
            "                },\n",
            "                \"Image\": \"683313688378.dkr.ecr.us-east-1.amazonaws.com/sagemaker-sklearn-automl:2.2.1-1-cpu-py3\",\n",
            "                \"ModelDataUrl\": \"s3://sagemaker-us-east-1-774375974900/autopilot/automl-dm-1625687301/data-processor-models/automl-dm-1625687301-dpp2-1-ef2aaf3aada5437480ecf57071717c0f4a7/output/model.tar.gz\"\n",
            "            },\n",
            "            {\n",
            "                \"Environment\": {\n",
            "                    \"MAX_CONTENT_LENGTH\": \"20971520\",\n",
            "                    \"SAGEMAKER_DEFAULT_INVOCATIONS_ACCEPT\": \"text/csv\",\n",
            "                    \"SAGEMAKER_INFERENCE_OUTPUT\": \"predicted_label\",\n",
            "                    \"SAGEMAKER_INFERENCE_SUPPORTED\": \"predicted_label,probability,probabilities\"\n",
            "                },\n",
            "                \"Image\": \"683313688378.dkr.ecr.us-east-1.amazonaws.com/sagemaker-xgboost:1.2-2-cpu-py3\",\n",
            "                \"ModelDataUrl\": \"s3://sagemaker-us-east-1-774375974900/autopilot/automl-dm-1625687301/tuning/automl-dm--dpp2-xgb/automl-dm-1625687301mBS92wfaVVk8-001-bb8b757a/output/model.tar.gz\"\n",
            "            },\n",
            "            {\n",
            "                \"Environment\": {\n",
            "                    \"AUTOML_TRANSFORM_MODE\": \"inverse-label-transform\",\n",
            "                    \"SAGEMAKER_DEFAULT_INVOCATIONS_ACCEPT\": \"text/csv\",\n",
            "                    \"SAGEMAKER_INFERENCE_INPUT\": \"predicted_label\",\n",
            "                    \"SAGEMAKER_INFERENCE_OUTPUT\": \"predicted_label\",\n",
            "                    \"SAGEMAKER_INFERENCE_SUPPORTED\": \"predicted_label,probability,labels,probabilities\",\n",
            "                    \"SAGEMAKER_PROGRAM\": \"sagemaker_serve\",\n",
            "                    \"SAGEMAKER_SUBMIT_DIRECTORY\": \"/opt/ml/model/code\"\n",
            "                },\n",
            "                \"Image\": \"683313688378.dkr.ecr.us-east-1.amazonaws.com/sagemaker-sklearn-automl:2.2.1-1-cpu-py3\",\n",
            "                \"ModelDataUrl\": \"s3://sagemaker-us-east-1-774375974900/autopilot/automl-dm-1625687301/data-processor-models/automl-dm-1625687301-dpp2-1-ef2aaf3aada5437480ecf57071717c0f4a7/output/model.tar.gz\"\n",
            "            }\n",
            "        ],\n",
            "        \"LastModifiedTime\": \"2021-07-07 20:14:58.320000+00:00\",\n",
            "        \"ObjectiveStatus\": \"Succeeded\"\n",
            "    },\n",
            "    \"CreationTime\": \"2021-07-07 19:50:59.355000+00:00\",\n",
            "    \"GenerateCandidateDefinitionsOnly\": false,\n",
            "    \"InputDataConfig\": [\n",
            "        {\n",
            "            \"DataSource\": {\n",
            "                \"S3DataSource\": {\n",
            "                    \"S3DataType\": \"S3Prefix\",\n",
            "                    \"S3Uri\": \"s3://sagemaker-us-east-1-774375974900/autopilot/data/womens_clothing_ecommerce_reviews_balanced_for_autopilot.csv\"\n",
            "                }\n",
            "            },\n",
            "            \"TargetAttributeName\": \"sentiment\"\n",
            "        }\n",
            "    ],\n",
            "    \"LastModifiedTime\": \"2021-07-07 20:17:06.861000+00:00\",\n",
            "    \"OutputDataConfig\": {\n",
            "        \"S3OutputPath\": \"s3://sagemaker-us-east-1-774375974900/autopilot\"\n",
            "    },\n",
            "    \"ResolvedAttributes\": {\n",
            "        \"AutoMLJobObjective\": {\n",
            "            \"MetricName\": \"Accuracy\"\n",
            "        },\n",
            "        \"CompletionCriteria\": {\n",
            "            \"MaxAutoMLJobRuntimeInSeconds\": 7200,\n",
            "            \"MaxCandidates\": 3,\n",
            "            \"MaxRuntimePerTrainingJobInSeconds\": 1200\n",
            "        },\n",
            "        \"ProblemType\": \"MulticlassClassification\"\n",
            "    },\n",
            "    \"ResponseMetadata\": {\n",
            "        \"HTTPHeaders\": {\n",
            "            \"content-length\": \"4894\",\n",
            "            \"content-type\": \"application/x-amz-json-1.1\",\n",
            "            \"date\": \"Wed, 07 Jul 2021 20:17:14 GMT\",\n",
            "            \"x-amzn-requestid\": \"4ee2664d-2c1e-44bc-a263-d7e970b56291\"\n",
            "        },\n",
            "        \"HTTPStatusCode\": 200,\n",
            "        \"RequestId\": \"4ee2664d-2c1e-44bc-a263-d7e970b56291\",\n",
            "        \"RetryAttempts\": 0\n",
            "    },\n",
            "    \"RoleArn\": \"arn:aws:iam::774375974900:role/c21581a406814l826944t1w7743-SageMakerExecutionRole-V1WS98ZC9FBO\"\n",
            "}\n",
            "CPU times: user 20.3 ms, sys: 1.98 ms, total: 22.3 ms\n",
            "Wall time: 131 ms\n"
          ]
        }
      ]
    },
    {
      "cell_type": "code",
      "metadata": {
        "id": "4Ih4tD-gR2He",
        "outputId": "4cf7cd8f-56cd-4b32-a469-04ef790ee137"
      },
      "source": [
        "%%time\n",
        "from pprint import pprint\n",
        "job_description_response = automl.describe_auto_ml_job(job_name=auto_ml_job_name)\n",
        "pprint(job_description_response)\n",
        "job_status = job_description_response['AutoMLJobStatus']\n",
        "job_sec_status = job_description_response['AutoMLJobSecondaryStatus']\n",
        "print('Job status:  {}'.format(job_status))\n",
        "print('Secondary job status:  {}'.format(job_sec_status))\n",
        "if job_status not in ('Stopped', 'Failed'):\n",
        "    while job_status not in ('Completed'):\n",
        "        job_description_response = automl.describe_auto_ml_job(job_name=auto_ml_job_name)\n",
        "        job_status = job_description_response['AutoMLJobStatus']\n",
        "        job_sec_status = job_description_response['AutoMLJobSecondaryStatus']\n",
        "        print('Job status:  {}'.format(job_status))\n",
        "        print('Secondary job status:  {}'.format(job_sec_status))        \n",
        "        time.sleep(10)\n",
        "    print('[OK] Autopilot job completed.\\n')\n",
        "else:\n",
        "    print('Job status: {}'.format(job_status))\n",
        "    print('Secondary job status: {}'.format(job_status))"
      ],
      "execution_count": null,
      "outputs": [
        {
          "name": "stdout",
          "output_type": "stream",
          "text": [
            "{'AutoMLJobArn': 'arn:aws:sagemaker:us-east-1:774375974900:automl-job/automl-dm-1625687301',\n",
            " 'AutoMLJobArtifacts': {'CandidateDefinitionNotebookLocation': 's3://sagemaker-us-east-1-774375974900/autopilot/automl-dm-1625687301/sagemaker-automl-candidates/automl-dm-1625687301-pr-1-71dca513d01140df943444531031120633cda/notebooks/SageMakerAutopilotCandidateDefinitionNotebook.ipynb',\n",
            "                        'DataExplorationNotebookLocation': 's3://sagemaker-us-east-1-774375974900/autopilot/automl-dm-1625687301/sagemaker-automl-candidates/automl-dm-1625687301-pr-1-71dca513d01140df943444531031120633cda/notebooks/SageMakerAutopilotDataExplorationNotebook.ipynb'},\n",
            " 'AutoMLJobConfig': {'CompletionCriteria': {'MaxAutoMLJobRuntimeInSeconds': 7200,\n",
            "                                            'MaxCandidates': 3,\n",
            "                                            'MaxRuntimePerTrainingJobInSeconds': 1200},\n",
            "                     'SecurityConfig': {'EnableInterContainerTrafficEncryption': False}},\n",
            " 'AutoMLJobName': 'automl-dm-1625687301',\n",
            " 'AutoMLJobSecondaryStatus': 'GeneratingExplainabilityReport',\n",
            " 'AutoMLJobStatus': 'InProgress',\n",
            " 'BestCandidate': {'CandidateName': 'automl-dm-1625687301mBS92wfaVVk8-001-bb8b757a',\n",
            "                   'CandidateStatus': 'Completed',\n",
            "                   'CandidateSteps': [{'CandidateStepArn': 'arn:aws:sagemaker:us-east-1:774375974900:processing-job/automl-dm-1625687301-db-1-171ed83849dc417aa1eb46a7a22c91183f227',\n",
            "                                       'CandidateStepName': 'automl-dm-1625687301-db-1-171ed83849dc417aa1eb46a7a22c91183f227',\n",
            "                                       'CandidateStepType': 'AWS::SageMaker::ProcessingJob'},\n",
            "                                      {'CandidateStepArn': 'arn:aws:sagemaker:us-east-1:774375974900:training-job/automl-dm-1625687301-dpp2-1-ef2aaf3aada5437480ecf57071717c0f4a7',\n",
            "                                       'CandidateStepName': 'automl-dm-1625687301-dpp2-1-ef2aaf3aada5437480ecf57071717c0f4a7',\n",
            "                                       'CandidateStepType': 'AWS::SageMaker::TrainingJob'},\n",
            "                                      {'CandidateStepArn': 'arn:aws:sagemaker:us-east-1:774375974900:transform-job/automl-dm-1625687301-dpp2-rpb-1-c864223ba5fd4f709c989f87709fdf2',\n",
            "                                       'CandidateStepName': 'automl-dm-1625687301-dpp2-rpb-1-c864223ba5fd4f709c989f87709fdf2',\n",
            "                                       'CandidateStepType': 'AWS::SageMaker::TransformJob'},\n",
            "                                      {'CandidateStepArn': 'arn:aws:sagemaker:us-east-1:774375974900:training-job/automl-dm-1625687301mbs92wfavvk8-001-bb8b757a',\n",
            "                                       'CandidateStepName': 'automl-dm-1625687301mBS92wfaVVk8-001-bb8b757a',\n",
            "                                       'CandidateStepType': 'AWS::SageMaker::TrainingJob'}],\n",
            "                   'CreationTime': datetime.datetime(2021, 7, 7, 20, 12, 22, tzinfo=tzlocal()),\n",
            "                   'EndTime': datetime.datetime(2021, 7, 7, 20, 14, 2, tzinfo=tzlocal()),\n",
            "                   'FinalAutoMLJobObjectiveMetric': {'MetricName': 'validation:accuracy',\n",
            "                                                     'Value': 0.5579500198364258},\n",
            "                   'InferenceContainers': [{'Environment': {'AUTOML_SPARSE_ENCODE_RECORDIO_PROTOBUF': '1',\n",
            "                                                            'AUTOML_TRANSFORM_MODE': 'feature-transform',\n",
            "                                                            'SAGEMAKER_DEFAULT_INVOCATIONS_ACCEPT': 'application/x-recordio-protobuf',\n",
            "                                                            'SAGEMAKER_PROGRAM': 'sagemaker_serve',\n",
            "                                                            'SAGEMAKER_SUBMIT_DIRECTORY': '/opt/ml/model/code'},\n",
            "                                            'Image': '683313688378.dkr.ecr.us-east-1.amazonaws.com/sagemaker-sklearn-automl:2.2.1-1-cpu-py3',\n",
            "                                            'ModelDataUrl': 's3://sagemaker-us-east-1-774375974900/autopilot/automl-dm-1625687301/data-processor-models/automl-dm-1625687301-dpp2-1-ef2aaf3aada5437480ecf57071717c0f4a7/output/model.tar.gz'},\n",
            "                                           {'Environment': {'MAX_CONTENT_LENGTH': '20971520',\n",
            "                                                            'SAGEMAKER_DEFAULT_INVOCATIONS_ACCEPT': 'text/csv',\n",
            "                                                            'SAGEMAKER_INFERENCE_OUTPUT': 'predicted_label',\n",
            "                                                            'SAGEMAKER_INFERENCE_SUPPORTED': 'predicted_label,probability,probabilities'},\n",
            "                                            'Image': '683313688378.dkr.ecr.us-east-1.amazonaws.com/sagemaker-xgboost:1.2-2-cpu-py3',\n",
            "                                            'ModelDataUrl': 's3://sagemaker-us-east-1-774375974900/autopilot/automl-dm-1625687301/tuning/automl-dm--dpp2-xgb/automl-dm-1625687301mBS92wfaVVk8-001-bb8b757a/output/model.tar.gz'},\n",
            "                                           {'Environment': {'AUTOML_TRANSFORM_MODE': 'inverse-label-transform',\n",
            "                                                            'SAGEMAKER_DEFAULT_INVOCATIONS_ACCEPT': 'text/csv',\n",
            "                                                            'SAGEMAKER_INFERENCE_INPUT': 'predicted_label',\n",
            "                                                            'SAGEMAKER_INFERENCE_OUTPUT': 'predicted_label',\n",
            "                                                            'SAGEMAKER_INFERENCE_SUPPORTED': 'predicted_label,probability,labels,probabilities',\n",
            "                                                            'SAGEMAKER_PROGRAM': 'sagemaker_serve',\n",
            "                                                            'SAGEMAKER_SUBMIT_DIRECTORY': '/opt/ml/model/code'},\n",
            "                                            'Image': '683313688378.dkr.ecr.us-east-1.amazonaws.com/sagemaker-sklearn-automl:2.2.1-1-cpu-py3',\n",
            "                                            'ModelDataUrl': 's3://sagemaker-us-east-1-774375974900/autopilot/automl-dm-1625687301/data-processor-models/automl-dm-1625687301-dpp2-1-ef2aaf3aada5437480ecf57071717c0f4a7/output/model.tar.gz'}],\n",
            "                   'LastModifiedTime': datetime.datetime(2021, 7, 7, 20, 14, 58, 320000, tzinfo=tzlocal()),\n",
            "                   'ObjectiveStatus': 'Succeeded'},\n",
            " 'CreationTime': datetime.datetime(2021, 7, 7, 19, 50, 59, 355000, tzinfo=tzlocal()),\n",
            " 'GenerateCandidateDefinitionsOnly': False,\n",
            " 'InputDataConfig': [{'DataSource': {'S3DataSource': {'S3DataType': 'S3Prefix',\n",
            "                                                      'S3Uri': 's3://sagemaker-us-east-1-774375974900/autopilot/data/womens_clothing_ecommerce_reviews_balanced_for_autopilot.csv'}},\n",
            "                      'TargetAttributeName': 'sentiment'}],\n",
            " 'LastModifiedTime': datetime.datetime(2021, 7, 7, 20, 17, 24, 933000, tzinfo=tzlocal()),\n",
            " 'OutputDataConfig': {'S3OutputPath': 's3://sagemaker-us-east-1-774375974900/autopilot'},\n",
            " 'ResolvedAttributes': {'AutoMLJobObjective': {'MetricName': 'Accuracy'},\n",
            "                        'CompletionCriteria': {'MaxAutoMLJobRuntimeInSeconds': 7200,\n",
            "                                               'MaxCandidates': 3,\n",
            "                                               'MaxRuntimePerTrainingJobInSeconds': 1200},\n",
            "                        'ProblemType': 'MulticlassClassification'},\n",
            " 'ResponseMetadata': {'HTTPHeaders': {'content-length': '4894',\n",
            "                                      'content-type': 'application/x-amz-json-1.1',\n",
            "                                      'date': 'Wed, 07 Jul 2021 20:17:36 GMT',\n",
            "                                      'x-amzn-requestid': '697ea87a-b6f6-426a-b094-207be780768d'},\n",
            "                      'HTTPStatusCode': 200,\n",
            "                      'RequestId': '697ea87a-b6f6-426a-b094-207be780768d',\n",
            "                      'RetryAttempts': 0},\n",
            " 'RoleArn': 'arn:aws:iam::774375974900:role/c21581a406814l826944t1w7743-SageMakerExecutionRole-V1WS98ZC9FBO'}\n",
            "Job status:  InProgress\n",
            "Secondary job status:  GeneratingExplainabilityReport\n",
            "Job status:  InProgress\n",
            "Secondary job status:  GeneratingExplainabilityReport\n",
            "Job status:  InProgress\n",
            "Secondary job status:  GeneratingExplainabilityReport\n",
            "Job status:  InProgress\n",
            "Secondary job status:  GeneratingExplainabilityReport\n",
            "Job status:  InProgress\n",
            "Secondary job status:  GeneratingExplainabilityReport\n",
            "Job status:  InProgress\n",
            "Secondary job status:  GeneratingExplainabilityReport\n",
            "Job status:  InProgress\n",
            "Secondary job status:  GeneratingExplainabilityReport\n",
            "Job status:  InProgress\n",
            "Secondary job status:  GeneratingExplainabilityReport\n",
            "Job status:  InProgress\n",
            "Secondary job status:  GeneratingExplainabilityReport\n",
            "Job status:  InProgress\n",
            "Secondary job status:  GeneratingExplainabilityReport\n",
            "Job status:  InProgress\n",
            "Secondary job status:  GeneratingExplainabilityReport\n",
            "Job status:  InProgress\n",
            "Secondary job status:  GeneratingExplainabilityReport\n",
            "Job status:  InProgress\n",
            "Secondary job status:  GeneratingExplainabilityReport\n",
            "Job status:  InProgress\n",
            "Secondary job status:  GeneratingExplainabilityReport\n",
            "Job status:  InProgress\n",
            "Secondary job status:  GeneratingExplainabilityReport\n",
            "Job status:  InProgress\n",
            "Secondary job status:  GeneratingExplainabilityReport\n",
            "Job status:  InProgress\n",
            "Secondary job status:  GeneratingExplainabilityReport\n",
            "Job status:  InProgress\n",
            "Secondary job status:  GeneratingExplainabilityReport\n",
            "Job status:  InProgress\n",
            "Secondary job status:  GeneratingExplainabilityReport\n",
            "Job status:  InProgress\n",
            "Secondary job status:  GeneratingExplainabilityReport\n",
            "Job status:  InProgress\n",
            "Secondary job status:  GeneratingExplainabilityReport\n",
            "Job status:  InProgress\n",
            "Secondary job status:  GeneratingExplainabilityReport\n",
            "Job status:  InProgress\n",
            "Secondary job status:  GeneratingExplainabilityReport\n",
            "Job status:  InProgress\n",
            "Secondary job status:  GeneratingExplainabilityReport\n",
            "Job status:  InProgress\n",
            "Secondary job status:  GeneratingExplainabilityReport\n",
            "Job status:  InProgress\n",
            "Secondary job status:  GeneratingExplainabilityReport\n",
            "Job status:  InProgress\n",
            "Secondary job status:  GeneratingExplainabilityReport\n",
            "Job status:  InProgress\n",
            "Secondary job status:  GeneratingExplainabilityReport\n",
            "Job status:  InProgress\n",
            "Secondary job status:  GeneratingExplainabilityReport\n",
            "Job status:  InProgress\n",
            "Secondary job status:  GeneratingExplainabilityReport\n",
            "Job status:  InProgress\n",
            "Secondary job status:  GeneratingExplainabilityReport\n",
            "Job status:  InProgress\n",
            "Secondary job status:  GeneratingExplainabilityReport\n",
            "Job status:  InProgress\n",
            "Secondary job status:  GeneratingExplainabilityReport\n",
            "Job status:  InProgress\n",
            "Secondary job status:  GeneratingExplainabilityReport\n",
            "Job status:  InProgress\n",
            "Secondary job status:  GeneratingExplainabilityReport\n",
            "Job status:  Completed\n",
            "Secondary job status:  Completed\n",
            "[OK] Autopilot job completed.\n",
            "\n",
            "CPU times: user 496 ms, sys: 40 ms, total: 536 ms\n",
            "Wall time: 5min 53s\n"
          ]
        }
      ]
    },
    {
      "cell_type": "code",
      "metadata": {
        "id": "jQqXy2qzR2Hg"
      },
      "source": [
        "candidates = automl.list_candidates(\n",
        "    job_name=auto_ml_job_name\n",
        "    sort_by='FinalObjectiveMetricValue'\n",
        ")"
      ],
      "execution_count": null,
      "outputs": []
    },
    {
      "cell_type": "code",
      "metadata": {
        "id": "WwytZs0sR2Hg",
        "outputId": "ca007f03-ac32-4c9b-dbbd-c3f39afb9f09"
      },
      "source": [
        "while candidates == []:\n",
        "    candidates = automl.list_candidates(job_name=auto_ml_job_name)\n",
        "    print('[INFO] Autopilot job is generating the candidates. Please wait.')\n",
        "    time.sleep(10)\n",
        "print('[OK] Candidates generated.') "
      ],
      "execution_count": null,
      "outputs": [
        {
          "name": "stdout",
          "output_type": "stream",
          "text": [
            "[OK] Candidates generated.\n"
          ]
        }
      ]
    },
    {
      "cell_type": "code",
      "metadata": {
        "id": "_w8lhVEUR2Hq",
        "outputId": "53d388a9-4f71-4006-bcb0-acdcd4fb1676"
      },
      "source": [
        "print(candidates[0].keys())"
      ],
      "execution_count": null,
      "outputs": [
        {
          "name": "stdout",
          "output_type": "stream",
          "text": [
            "dict_keys(['CandidateName', 'FinalAutoMLJobObjectiveMetric', 'ObjectiveStatus', 'CandidateSteps', 'CandidateStatus', 'InferenceContainers', 'CreationTime', 'EndTime', 'LastModifiedTime'])\n"
          ]
        }
      ]
    },
    {
      "cell_type": "code",
      "metadata": {
        "id": "l8H8Mh-FR2Hq",
        "outputId": "1a5f5224-455b-4182-92b2-cf0908848929"
      },
      "source": [
        "print(candidates[0].values())"
      ],
      "execution_count": null,
      "outputs": [
        {
          "name": "stdout",
          "output_type": "stream",
          "text": [
            "dict_values(['automl-dm-1625687301mBS92wfaVVk8-003-1ac43cb1', {'MetricName': 'validation:accuracy', 'Value': 0.4006099998950958}, 'Succeeded', [{'CandidateStepType': 'AWS::SageMaker::ProcessingJob', 'CandidateStepArn': 'arn:aws:sagemaker:us-east-1:774375974900:processing-job/automl-dm-1625687301-db-1-171ed83849dc417aa1eb46a7a22c91183f227', 'CandidateStepName': 'automl-dm-1625687301-db-1-171ed83849dc417aa1eb46a7a22c91183f227'}, {'CandidateStepType': 'AWS::SageMaker::TrainingJob', 'CandidateStepArn': 'arn:aws:sagemaker:us-east-1:774375974900:training-job/automl-dm-1625687301-dpp1-1-e7a81b369ae74776979973e2a1b491831bd', 'CandidateStepName': 'automl-dm-1625687301-dpp1-1-e7a81b369ae74776979973e2a1b491831bd'}, {'CandidateStepType': 'AWS::SageMaker::TransformJob', 'CandidateStepArn': 'arn:aws:sagemaker:us-east-1:774375974900:transform-job/automl-dm-1625687301-dpp1-csv-1-992aee68b2cc412681330948cb5505f', 'CandidateStepName': 'automl-dm-1625687301-dpp1-csv-1-992aee68b2cc412681330948cb5505f'}, {'CandidateStepType': 'AWS::SageMaker::TrainingJob', 'CandidateStepArn': 'arn:aws:sagemaker:us-east-1:774375974900:training-job/automl-dm-1625687301mbs92wfavvk8-003-1ac43cb1', 'CandidateStepName': 'automl-dm-1625687301mBS92wfaVVk8-003-1ac43cb1'}], 'Completed', [{'Image': '683313688378.dkr.ecr.us-east-1.amazonaws.com/sagemaker-sklearn-automl:2.2.1-1-cpu-py3', 'ModelDataUrl': 's3://sagemaker-us-east-1-774375974900/autopilot/automl-dm-1625687301/data-processor-models/automl-dm-1625687301-dpp1-1-e7a81b369ae74776979973e2a1b491831bd/output/model.tar.gz', 'Environment': {'AUTOML_TRANSFORM_MODE': 'feature-transform', 'SAGEMAKER_DEFAULT_INVOCATIONS_ACCEPT': 'application/x-recordio-protobuf', 'SAGEMAKER_PROGRAM': 'sagemaker_serve', 'SAGEMAKER_SUBMIT_DIRECTORY': '/opt/ml/model/code'}}, {'Image': '683313688378.dkr.ecr.us-east-1.amazonaws.com/sagemaker-xgboost:1.2-2-cpu-py3', 'ModelDataUrl': 's3://sagemaker-us-east-1-774375974900/autopilot/automl-dm-1625687301/tuning/automl-dm--dpp1-xgb/automl-dm-1625687301mBS92wfaVVk8-003-1ac43cb1/output/model.tar.gz', 'Environment': {'MAX_CONTENT_LENGTH': '20971520', 'SAGEMAKER_DEFAULT_INVOCATIONS_ACCEPT': 'text/csv', 'SAGEMAKER_INFERENCE_OUTPUT': 'predicted_label', 'SAGEMAKER_INFERENCE_SUPPORTED': 'predicted_label,probability,probabilities'}}, {'Image': '683313688378.dkr.ecr.us-east-1.amazonaws.com/sagemaker-sklearn-automl:2.2.1-1-cpu-py3', 'ModelDataUrl': 's3://sagemaker-us-east-1-774375974900/autopilot/automl-dm-1625687301/data-processor-models/automl-dm-1625687301-dpp1-1-e7a81b369ae74776979973e2a1b491831bd/output/model.tar.gz', 'Environment': {'AUTOML_TRANSFORM_MODE': 'inverse-label-transform', 'SAGEMAKER_DEFAULT_INVOCATIONS_ACCEPT': 'text/csv', 'SAGEMAKER_INFERENCE_INPUT': 'predicted_label', 'SAGEMAKER_INFERENCE_OUTPUT': 'predicted_label', 'SAGEMAKER_INFERENCE_SUPPORTED': 'predicted_label,probability,labels,probabilities', 'SAGEMAKER_PROGRAM': 'sagemaker_serve', 'SAGEMAKER_SUBMIT_DIRECTORY': '/opt/ml/model/code'}}], datetime.datetime(2021, 7, 7, 20, 12, 41, tzinfo=tzlocal()), datetime.datetime(2021, 7, 7, 20, 13, 53, tzinfo=tzlocal()), datetime.datetime(2021, 7, 7, 20, 14, 40, 456000, tzinfo=tzlocal())])\n"
          ]
        }
      ]
    },
    {
      "cell_type": "code",
      "metadata": {
        "id": "Q8dTFWmPR2Hr",
        "outputId": "d7717db6-c6c9-49b3-8eb5-f15e53878675"
      },
      "source": [
        "while 'CandidateName' not in candidates[0]:\n",
        "    candidates = automl.list_candidates(job_name=auto_ml_job_name)\n",
        "    print('[INFO] Autopilot job is generating CandidateName. Please wait. ')\n",
        "    sleep(10)\n",
        "\n",
        "print('[OK] CandidateName generated.')"
      ],
      "execution_count": null,
      "outputs": [
        {
          "name": "stdout",
          "output_type": "stream",
          "text": [
            "[OK] CandidateName generated.\n"
          ]
        }
      ]
    },
    {
      "cell_type": "code",
      "metadata": {
        "id": "sivunRyyR2Hr",
        "outputId": "f0a3a7f7-45bf-4566-cc15-8d11b0571f3c"
      },
      "source": [
        "while 'FinalAutoMLJobObjectiveMetric' not in candidates[0]:\n",
        "    candidates = automl.list_candidates(job_name=auto_ml_job_name)\n",
        "    print('[INFO] Autopilot job is generating FinalAutoMLJobObjectiveMetric. Please wait. ')\n",
        "    sleep(10)\n",
        "print('[OK] FinalAutoMLJobObjectiveMetric generated.')"
      ],
      "execution_count": null,
      "outputs": [
        {
          "name": "stdout",
          "output_type": "stream",
          "text": [
            "[OK] FinalAutoMLJobObjectiveMetric generated.\n"
          ]
        }
      ]
    },
    {
      "cell_type": "code",
      "metadata": {
        "scrolled": true,
        "id": "R5_8fMTYR2Hs",
        "outputId": "cfa19f9c-d8b5-496c-f1d0-af5b5dfff315"
      },
      "source": [
        "print(json.dumps(candidates, indent=4, sort_keys=True, default=str))"
      ],
      "execution_count": null,
      "outputs": [
        {
          "name": "stdout",
          "output_type": "stream",
          "text": [
            "[\n",
            "    {\n",
            "        \"CandidateName\": \"automl-dm-1625687301mBS92wfaVVk8-003-1ac43cb1\",\n",
            "        \"CandidateStatus\": \"Completed\",\n",
            "        \"CandidateSteps\": [\n",
            "            {\n",
            "                \"CandidateStepArn\": \"arn:aws:sagemaker:us-east-1:774375974900:processing-job/automl-dm-1625687301-db-1-171ed83849dc417aa1eb46a7a22c91183f227\",\n",
            "                \"CandidateStepName\": \"automl-dm-1625687301-db-1-171ed83849dc417aa1eb46a7a22c91183f227\",\n",
            "                \"CandidateStepType\": \"AWS::SageMaker::ProcessingJob\"\n",
            "            },\n",
            "            {\n",
            "                \"CandidateStepArn\": \"arn:aws:sagemaker:us-east-1:774375974900:training-job/automl-dm-1625687301-dpp1-1-e7a81b369ae74776979973e2a1b491831bd\",\n",
            "                \"CandidateStepName\": \"automl-dm-1625687301-dpp1-1-e7a81b369ae74776979973e2a1b491831bd\",\n",
            "                \"CandidateStepType\": \"AWS::SageMaker::TrainingJob\"\n",
            "            },\n",
            "            {\n",
            "                \"CandidateStepArn\": \"arn:aws:sagemaker:us-east-1:774375974900:transform-job/automl-dm-1625687301-dpp1-csv-1-992aee68b2cc412681330948cb5505f\",\n",
            "                \"CandidateStepName\": \"automl-dm-1625687301-dpp1-csv-1-992aee68b2cc412681330948cb5505f\",\n",
            "                \"CandidateStepType\": \"AWS::SageMaker::TransformJob\"\n",
            "            },\n",
            "            {\n",
            "                \"CandidateStepArn\": \"arn:aws:sagemaker:us-east-1:774375974900:training-job/automl-dm-1625687301mbs92wfavvk8-003-1ac43cb1\",\n",
            "                \"CandidateStepName\": \"automl-dm-1625687301mBS92wfaVVk8-003-1ac43cb1\",\n",
            "                \"CandidateStepType\": \"AWS::SageMaker::TrainingJob\"\n",
            "            }\n",
            "        ],\n",
            "        \"CreationTime\": \"2021-07-07 20:12:41+00:00\",\n",
            "        \"EndTime\": \"2021-07-07 20:13:53+00:00\",\n",
            "        \"FinalAutoMLJobObjectiveMetric\": {\n",
            "            \"MetricName\": \"validation:accuracy\",\n",
            "            \"Value\": 0.4006099998950958\n",
            "        },\n",
            "        \"InferenceContainers\": [\n",
            "            {\n",
            "                \"Environment\": {\n",
            "                    \"AUTOML_TRANSFORM_MODE\": \"feature-transform\",\n",
            "                    \"SAGEMAKER_DEFAULT_INVOCATIONS_ACCEPT\": \"application/x-recordio-protobuf\",\n",
            "                    \"SAGEMAKER_PROGRAM\": \"sagemaker_serve\",\n",
            "                    \"SAGEMAKER_SUBMIT_DIRECTORY\": \"/opt/ml/model/code\"\n",
            "                },\n",
            "                \"Image\": \"683313688378.dkr.ecr.us-east-1.amazonaws.com/sagemaker-sklearn-automl:2.2.1-1-cpu-py3\",\n",
            "                \"ModelDataUrl\": \"s3://sagemaker-us-east-1-774375974900/autopilot/automl-dm-1625687301/data-processor-models/automl-dm-1625687301-dpp1-1-e7a81b369ae74776979973e2a1b491831bd/output/model.tar.gz\"\n",
            "            },\n",
            "            {\n",
            "                \"Environment\": {\n",
            "                    \"MAX_CONTENT_LENGTH\": \"20971520\",\n",
            "                    \"SAGEMAKER_DEFAULT_INVOCATIONS_ACCEPT\": \"text/csv\",\n",
            "                    \"SAGEMAKER_INFERENCE_OUTPUT\": \"predicted_label\",\n",
            "                    \"SAGEMAKER_INFERENCE_SUPPORTED\": \"predicted_label,probability,probabilities\"\n",
            "                },\n",
            "                \"Image\": \"683313688378.dkr.ecr.us-east-1.amazonaws.com/sagemaker-xgboost:1.2-2-cpu-py3\",\n",
            "                \"ModelDataUrl\": \"s3://sagemaker-us-east-1-774375974900/autopilot/automl-dm-1625687301/tuning/automl-dm--dpp1-xgb/automl-dm-1625687301mBS92wfaVVk8-003-1ac43cb1/output/model.tar.gz\"\n",
            "            },\n",
            "            {\n",
            "                \"Environment\": {\n",
            "                    \"AUTOML_TRANSFORM_MODE\": \"inverse-label-transform\",\n",
            "                    \"SAGEMAKER_DEFAULT_INVOCATIONS_ACCEPT\": \"text/csv\",\n",
            "                    \"SAGEMAKER_INFERENCE_INPUT\": \"predicted_label\",\n",
            "                    \"SAGEMAKER_INFERENCE_OUTPUT\": \"predicted_label\",\n",
            "                    \"SAGEMAKER_INFERENCE_SUPPORTED\": \"predicted_label,probability,labels,probabilities\",\n",
            "                    \"SAGEMAKER_PROGRAM\": \"sagemaker_serve\",\n",
            "                    \"SAGEMAKER_SUBMIT_DIRECTORY\": \"/opt/ml/model/code\"\n",
            "                },\n",
            "                \"Image\": \"683313688378.dkr.ecr.us-east-1.amazonaws.com/sagemaker-sklearn-automl:2.2.1-1-cpu-py3\",\n",
            "                \"ModelDataUrl\": \"s3://sagemaker-us-east-1-774375974900/autopilot/automl-dm-1625687301/data-processor-models/automl-dm-1625687301-dpp1-1-e7a81b369ae74776979973e2a1b491831bd/output/model.tar.gz\"\n",
            "            }\n",
            "        ],\n",
            "        \"LastModifiedTime\": \"2021-07-07 20:14:40.456000+00:00\",\n",
            "        \"ObjectiveStatus\": \"Succeeded\"\n",
            "    },\n",
            "    {\n",
            "        \"CandidateName\": \"automl-dm-1625687301mBS92wfaVVk8-002-f4745121\",\n",
            "        \"CandidateStatus\": \"Completed\",\n",
            "        \"CandidateSteps\": [\n",
            "            {\n",
            "                \"CandidateStepArn\": \"arn:aws:sagemaker:us-east-1:774375974900:processing-job/automl-dm-1625687301-db-1-171ed83849dc417aa1eb46a7a22c91183f227\",\n",
            "                \"CandidateStepName\": \"automl-dm-1625687301-db-1-171ed83849dc417aa1eb46a7a22c91183f227\",\n",
            "                \"CandidateStepType\": \"AWS::SageMaker::ProcessingJob\"\n",
            "            },\n",
            "            {\n",
            "                \"CandidateStepArn\": \"arn:aws:sagemaker:us-east-1:774375974900:training-job/automl-dm-1625687301-dpp2-1-ef2aaf3aada5437480ecf57071717c0f4a7\",\n",
            "                \"CandidateStepName\": \"automl-dm-1625687301-dpp2-1-ef2aaf3aada5437480ecf57071717c0f4a7\",\n",
            "                \"CandidateStepType\": \"AWS::SageMaker::TrainingJob\"\n",
            "            },\n",
            "            {\n",
            "                \"CandidateStepArn\": \"arn:aws:sagemaker:us-east-1:774375974900:transform-job/automl-dm-1625687301-dpp2-rpb-1-c864223ba5fd4f709c989f87709fdf2\",\n",
            "                \"CandidateStepName\": \"automl-dm-1625687301-dpp2-rpb-1-c864223ba5fd4f709c989f87709fdf2\",\n",
            "                \"CandidateStepType\": \"AWS::SageMaker::TransformJob\"\n",
            "            },\n",
            "            {\n",
            "                \"CandidateStepArn\": \"arn:aws:sagemaker:us-east-1:774375974900:training-job/automl-dm-1625687301mbs92wfavvk8-002-f4745121\",\n",
            "                \"CandidateStepName\": \"automl-dm-1625687301mBS92wfaVVk8-002-f4745121\",\n",
            "                \"CandidateStepType\": \"AWS::SageMaker::TrainingJob\"\n",
            "            }\n",
            "        ],\n",
            "        \"CreationTime\": \"2021-07-07 20:12:23+00:00\",\n",
            "        \"EndTime\": \"2021-07-07 20:13:35+00:00\",\n",
            "        \"FinalAutoMLJobObjectiveMetric\": {\n",
            "            \"MetricName\": \"validation:accuracy\",\n",
            "            \"Value\": 0.5248900055885315\n",
            "        },\n",
            "        \"InferenceContainers\": [\n",
            "            {\n",
            "                \"Environment\": {\n",
            "                    \"AUTOML_SPARSE_ENCODE_RECORDIO_PROTOBUF\": \"1\",\n",
            "                    \"AUTOML_TRANSFORM_MODE\": \"feature-transform\",\n",
            "                    \"SAGEMAKER_DEFAULT_INVOCATIONS_ACCEPT\": \"application/x-recordio-protobuf\",\n",
            "                    \"SAGEMAKER_PROGRAM\": \"sagemaker_serve\",\n",
            "                    \"SAGEMAKER_SUBMIT_DIRECTORY\": \"/opt/ml/model/code\"\n",
            "                },\n",
            "                \"Image\": \"683313688378.dkr.ecr.us-east-1.amazonaws.com/sagemaker-sklearn-automl:2.2.1-1-cpu-py3\",\n",
            "                \"ModelDataUrl\": \"s3://sagemaker-us-east-1-774375974900/autopilot/automl-dm-1625687301/data-processor-models/automl-dm-1625687301-dpp2-1-ef2aaf3aada5437480ecf57071717c0f4a7/output/model.tar.gz\"\n",
            "            },\n",
            "            {\n",
            "                \"Environment\": {\n",
            "                    \"MAX_CONTENT_LENGTH\": \"20971520\",\n",
            "                    \"SAGEMAKER_DEFAULT_INVOCATIONS_ACCEPT\": \"text/csv\",\n",
            "                    \"SAGEMAKER_INFERENCE_OUTPUT\": \"predicted_label\",\n",
            "                    \"SAGEMAKER_INFERENCE_SUPPORTED\": \"predicted_label,probability,probabilities\"\n",
            "                },\n",
            "                \"Image\": \"683313688378.dkr.ecr.us-east-1.amazonaws.com/sagemaker-xgboost:1.2-2-cpu-py3\",\n",
            "                \"ModelDataUrl\": \"s3://sagemaker-us-east-1-774375974900/autopilot/automl-dm-1625687301/tuning/automl-dm--dpp2-xgb/automl-dm-1625687301mBS92wfaVVk8-002-f4745121/output/model.tar.gz\"\n",
            "            },\n",
            "            {\n",
            "                \"Environment\": {\n",
            "                    \"AUTOML_TRANSFORM_MODE\": \"inverse-label-transform\",\n",
            "                    \"SAGEMAKER_DEFAULT_INVOCATIONS_ACCEPT\": \"text/csv\",\n",
            "                    \"SAGEMAKER_INFERENCE_INPUT\": \"predicted_label\",\n",
            "                    \"SAGEMAKER_INFERENCE_OUTPUT\": \"predicted_label\",\n",
            "                    \"SAGEMAKER_INFERENCE_SUPPORTED\": \"predicted_label,probability,labels,probabilities\",\n",
            "                    \"SAGEMAKER_PROGRAM\": \"sagemaker_serve\",\n",
            "                    \"SAGEMAKER_SUBMIT_DIRECTORY\": \"/opt/ml/model/code\"\n",
            "                },\n",
            "                \"Image\": \"683313688378.dkr.ecr.us-east-1.amazonaws.com/sagemaker-sklearn-automl:2.2.1-1-cpu-py3\",\n",
            "                \"ModelDataUrl\": \"s3://sagemaker-us-east-1-774375974900/autopilot/automl-dm-1625687301/data-processor-models/automl-dm-1625687301-dpp2-1-ef2aaf3aada5437480ecf57071717c0f4a7/output/model.tar.gz\"\n",
            "            }\n",
            "        ],\n",
            "        \"LastModifiedTime\": \"2021-07-07 20:14:58.251000+00:00\",\n",
            "        \"ObjectiveStatus\": \"Succeeded\"\n",
            "    },\n",
            "    {\n",
            "        \"CandidateName\": \"automl-dm-1625687301mBS92wfaVVk8-001-bb8b757a\",\n",
            "        \"CandidateProperties\": {\n",
            "            \"CandidateArtifactLocations\": {\n",
            "                \"Explainability\": \"s3://sagemaker-us-east-1-774375974900/autopilot/automl-dm-1625687301/documentation/explainability/output\"\n",
            "            }\n",
            "        },\n",
            "        \"CandidateStatus\": \"Completed\",\n",
            "        \"CandidateSteps\": [\n",
            "            {\n",
            "                \"CandidateStepArn\": \"arn:aws:sagemaker:us-east-1:774375974900:processing-job/automl-dm-1625687301-db-1-171ed83849dc417aa1eb46a7a22c91183f227\",\n",
            "                \"CandidateStepName\": \"automl-dm-1625687301-db-1-171ed83849dc417aa1eb46a7a22c91183f227\",\n",
            "                \"CandidateStepType\": \"AWS::SageMaker::ProcessingJob\"\n",
            "            },\n",
            "            {\n",
            "                \"CandidateStepArn\": \"arn:aws:sagemaker:us-east-1:774375974900:training-job/automl-dm-1625687301-dpp2-1-ef2aaf3aada5437480ecf57071717c0f4a7\",\n",
            "                \"CandidateStepName\": \"automl-dm-1625687301-dpp2-1-ef2aaf3aada5437480ecf57071717c0f4a7\",\n",
            "                \"CandidateStepType\": \"AWS::SageMaker::TrainingJob\"\n",
            "            },\n",
            "            {\n",
            "                \"CandidateStepArn\": \"arn:aws:sagemaker:us-east-1:774375974900:transform-job/automl-dm-1625687301-dpp2-rpb-1-c864223ba5fd4f709c989f87709fdf2\",\n",
            "                \"CandidateStepName\": \"automl-dm-1625687301-dpp2-rpb-1-c864223ba5fd4f709c989f87709fdf2\",\n",
            "                \"CandidateStepType\": \"AWS::SageMaker::TransformJob\"\n",
            "            },\n",
            "            {\n",
            "                \"CandidateStepArn\": \"arn:aws:sagemaker:us-east-1:774375974900:training-job/automl-dm-1625687301mbs92wfavvk8-001-bb8b757a\",\n",
            "                \"CandidateStepName\": \"automl-dm-1625687301mBS92wfaVVk8-001-bb8b757a\",\n",
            "                \"CandidateStepType\": \"AWS::SageMaker::TrainingJob\"\n",
            "            }\n",
            "        ],\n",
            "        \"CreationTime\": \"2021-07-07 20:12:22+00:00\",\n",
            "        \"EndTime\": \"2021-07-07 20:14:02+00:00\",\n",
            "        \"FinalAutoMLJobObjectiveMetric\": {\n",
            "            \"MetricName\": \"validation:accuracy\",\n",
            "            \"Value\": 0.5579500198364258\n",
            "        },\n",
            "        \"InferenceContainers\": [\n",
            "            {\n",
            "                \"Environment\": {\n",
            "                    \"AUTOML_SPARSE_ENCODE_RECORDIO_PROTOBUF\": \"1\",\n",
            "                    \"AUTOML_TRANSFORM_MODE\": \"feature-transform\",\n",
            "                    \"SAGEMAKER_DEFAULT_INVOCATIONS_ACCEPT\": \"application/x-recordio-protobuf\",\n",
            "                    \"SAGEMAKER_PROGRAM\": \"sagemaker_serve\",\n",
            "                    \"SAGEMAKER_SUBMIT_DIRECTORY\": \"/opt/ml/model/code\"\n",
            "                },\n",
            "                \"Image\": \"683313688378.dkr.ecr.us-east-1.amazonaws.com/sagemaker-sklearn-automl:2.2.1-1-cpu-py3\",\n",
            "                \"ModelDataUrl\": \"s3://sagemaker-us-east-1-774375974900/autopilot/automl-dm-1625687301/data-processor-models/automl-dm-1625687301-dpp2-1-ef2aaf3aada5437480ecf57071717c0f4a7/output/model.tar.gz\"\n",
            "            },\n",
            "            {\n",
            "                \"Environment\": {\n",
            "                    \"MAX_CONTENT_LENGTH\": \"20971520\",\n",
            "                    \"SAGEMAKER_DEFAULT_INVOCATIONS_ACCEPT\": \"text/csv\",\n",
            "                    \"SAGEMAKER_INFERENCE_OUTPUT\": \"predicted_label\",\n",
            "                    \"SAGEMAKER_INFERENCE_SUPPORTED\": \"predicted_label,probability,probabilities\"\n",
            "                },\n",
            "                \"Image\": \"683313688378.dkr.ecr.us-east-1.amazonaws.com/sagemaker-xgboost:1.2-2-cpu-py3\",\n",
            "                \"ModelDataUrl\": \"s3://sagemaker-us-east-1-774375974900/autopilot/automl-dm-1625687301/tuning/automl-dm--dpp2-xgb/automl-dm-1625687301mBS92wfaVVk8-001-bb8b757a/output/model.tar.gz\"\n",
            "            },\n",
            "            {\n",
            "                \"Environment\": {\n",
            "                    \"AUTOML_TRANSFORM_MODE\": \"inverse-label-transform\",\n",
            "                    \"SAGEMAKER_DEFAULT_INVOCATIONS_ACCEPT\": \"text/csv\",\n",
            "                    \"SAGEMAKER_INFERENCE_INPUT\": \"predicted_label\",\n",
            "                    \"SAGEMAKER_INFERENCE_OUTPUT\": \"predicted_label\",\n",
            "                    \"SAGEMAKER_INFERENCE_SUPPORTED\": \"predicted_label,probability,labels,probabilities\",\n",
            "                    \"SAGEMAKER_PROGRAM\": \"sagemaker_serve\",\n",
            "                    \"SAGEMAKER_SUBMIT_DIRECTORY\": \"/opt/ml/model/code\"\n",
            "                },\n",
            "                \"Image\": \"683313688378.dkr.ecr.us-east-1.amazonaws.com/sagemaker-sklearn-automl:2.2.1-1-cpu-py3\",\n",
            "                \"ModelDataUrl\": \"s3://sagemaker-us-east-1-774375974900/autopilot/automl-dm-1625687301/data-processor-models/automl-dm-1625687301-dpp2-1-ef2aaf3aada5437480ecf57071717c0f4a7/output/model.tar.gz\"\n",
            "            }\n",
            "        ],\n",
            "        \"LastModifiedTime\": \"2021-07-07 20:14:58.320000+00:00\",\n",
            "        \"ObjectiveStatus\": \"Succeeded\"\n",
            "    }\n",
            "]\n"
          ]
        }
      ]
    },
    {
      "cell_type": "code",
      "metadata": {
        "id": "EhytnzRGR2Hs",
        "outputId": "3c6bb20b-cfbe-4b5b-ebad-76a0c086f01c"
      },
      "source": [
        "print(\"metric \" + str(candidates[0]['FinalAutoMLJobObjectiveMetric']['MetricName']))\n",
        "for index, candidate in enumerate(candidates):\n",
        "    print(str(index) + \"  \" \n",
        "        + candidate['CandidateName'] + \"  \" \n",
        "        + str(candidate['FinalAutoMLJobObjectiveMetric']['Value']))"
      ],
      "execution_count": null,
      "outputs": [
        {
          "name": "stdout",
          "output_type": "stream",
          "text": [
            "metric validation:accuracy\n",
            "0  automl-dm-1625687301mBS92wfaVVk8-003-1ac43cb1  0.4006099998950958\n",
            "1  automl-dm-1625687301mBS92wfaVVk8-002-f4745121  0.5248900055885315\n",
            "2  automl-dm-1625687301mBS92wfaVVk8-001-bb8b757a  0.5579500198364258\n"
          ]
        }
      ]
    },
    {
      "cell_type": "code",
      "metadata": {
        "id": "w0Hpij9yR2Ht",
        "outputId": "327806e6-2f39-4c08-d9a5-aad5d33cbc9a"
      },
      "source": [
        "candidates = automl.list_candidates(job_name=auto_ml_job_name)\n",
        "if candidates != []:\n",
        "    best_candidate = automl.best_candidate(\n",
        "        job_name=auto_ml_job_name \n",
        "    )\n",
        "    print(json.dumps(best_candidate, indent=4, sort_keys=True, default=str))"
      ],
      "execution_count": null,
      "outputs": [
        {
          "name": "stdout",
          "output_type": "stream",
          "text": [
            "{\n",
            "    \"CandidateName\": \"automl-dm-1625687301mBS92wfaVVk8-001-bb8b757a\",\n",
            "    \"CandidateProperties\": {\n",
            "        \"CandidateArtifactLocations\": {\n",
            "            \"Explainability\": \"s3://sagemaker-us-east-1-774375974900/autopilot/automl-dm-1625687301/documentation/explainability/output\"\n",
            "        }\n",
            "    },\n",
            "    \"CandidateStatus\": \"Completed\",\n",
            "    \"CandidateSteps\": [\n",
            "        {\n",
            "            \"CandidateStepArn\": \"arn:aws:sagemaker:us-east-1:774375974900:processing-job/automl-dm-1625687301-db-1-171ed83849dc417aa1eb46a7a22c91183f227\",\n",
            "            \"CandidateStepName\": \"automl-dm-1625687301-db-1-171ed83849dc417aa1eb46a7a22c91183f227\",\n",
            "            \"CandidateStepType\": \"AWS::SageMaker::ProcessingJob\"\n",
            "        },\n",
            "        {\n",
            "            \"CandidateStepArn\": \"arn:aws:sagemaker:us-east-1:774375974900:training-job/automl-dm-1625687301-dpp2-1-ef2aaf3aada5437480ecf57071717c0f4a7\",\n",
            "            \"CandidateStepName\": \"automl-dm-1625687301-dpp2-1-ef2aaf3aada5437480ecf57071717c0f4a7\",\n",
            "            \"CandidateStepType\": \"AWS::SageMaker::TrainingJob\"\n",
            "        },\n",
            "        {\n",
            "            \"CandidateStepArn\": \"arn:aws:sagemaker:us-east-1:774375974900:transform-job/automl-dm-1625687301-dpp2-rpb-1-c864223ba5fd4f709c989f87709fdf2\",\n",
            "            \"CandidateStepName\": \"automl-dm-1625687301-dpp2-rpb-1-c864223ba5fd4f709c989f87709fdf2\",\n",
            "            \"CandidateStepType\": \"AWS::SageMaker::TransformJob\"\n",
            "        },\n",
            "        {\n",
            "            \"CandidateStepArn\": \"arn:aws:sagemaker:us-east-1:774375974900:training-job/automl-dm-1625687301mbs92wfavvk8-001-bb8b757a\",\n",
            "            \"CandidateStepName\": \"automl-dm-1625687301mBS92wfaVVk8-001-bb8b757a\",\n",
            "            \"CandidateStepType\": \"AWS::SageMaker::TrainingJob\"\n",
            "        }\n",
            "    ],\n",
            "    \"CreationTime\": \"2021-07-07 20:12:22+00:00\",\n",
            "    \"EndTime\": \"2021-07-07 20:14:02+00:00\",\n",
            "    \"FinalAutoMLJobObjectiveMetric\": {\n",
            "        \"MetricName\": \"validation:accuracy\",\n",
            "        \"Value\": 0.5579500198364258\n",
            "    },\n",
            "    \"InferenceContainers\": [\n",
            "        {\n",
            "            \"Environment\": {\n",
            "                \"AUTOML_SPARSE_ENCODE_RECORDIO_PROTOBUF\": \"1\",\n",
            "                \"AUTOML_TRANSFORM_MODE\": \"feature-transform\",\n",
            "                \"SAGEMAKER_DEFAULT_INVOCATIONS_ACCEPT\": \"application/x-recordio-protobuf\",\n",
            "                \"SAGEMAKER_PROGRAM\": \"sagemaker_serve\",\n",
            "                \"SAGEMAKER_SUBMIT_DIRECTORY\": \"/opt/ml/model/code\"\n",
            "            },\n",
            "            \"Image\": \"683313688378.dkr.ecr.us-east-1.amazonaws.com/sagemaker-sklearn-automl:2.2.1-1-cpu-py3\",\n",
            "            \"ModelDataUrl\": \"s3://sagemaker-us-east-1-774375974900/autopilot/automl-dm-1625687301/data-processor-models/automl-dm-1625687301-dpp2-1-ef2aaf3aada5437480ecf57071717c0f4a7/output/model.tar.gz\"\n",
            "        },\n",
            "        {\n",
            "            \"Environment\": {\n",
            "                \"MAX_CONTENT_LENGTH\": \"20971520\",\n",
            "                \"SAGEMAKER_DEFAULT_INVOCATIONS_ACCEPT\": \"text/csv\",\n",
            "                \"SAGEMAKER_INFERENCE_OUTPUT\": \"predicted_label\",\n",
            "                \"SAGEMAKER_INFERENCE_SUPPORTED\": \"predicted_label,probability,probabilities\"\n",
            "            },\n",
            "            \"Image\": \"683313688378.dkr.ecr.us-east-1.amazonaws.com/sagemaker-xgboost:1.2-2-cpu-py3\",\n",
            "            \"ModelDataUrl\": \"s3://sagemaker-us-east-1-774375974900/autopilot/automl-dm-1625687301/tuning/automl-dm--dpp2-xgb/automl-dm-1625687301mBS92wfaVVk8-001-bb8b757a/output/model.tar.gz\"\n",
            "        },\n",
            "        {\n",
            "            \"Environment\": {\n",
            "                \"AUTOML_TRANSFORM_MODE\": \"inverse-label-transform\",\n",
            "                \"SAGEMAKER_DEFAULT_INVOCATIONS_ACCEPT\": \"text/csv\",\n",
            "                \"SAGEMAKER_INFERENCE_INPUT\": \"predicted_label\",\n",
            "                \"SAGEMAKER_INFERENCE_OUTPUT\": \"predicted_label\",\n",
            "                \"SAGEMAKER_INFERENCE_SUPPORTED\": \"predicted_label,probability,labels,probabilities\",\n",
            "                \"SAGEMAKER_PROGRAM\": \"sagemaker_serve\",\n",
            "                \"SAGEMAKER_SUBMIT_DIRECTORY\": \"/opt/ml/model/code\"\n",
            "            },\n",
            "            \"Image\": \"683313688378.dkr.ecr.us-east-1.amazonaws.com/sagemaker-sklearn-automl:2.2.1-1-cpu-py3\",\n",
            "            \"ModelDataUrl\": \"s3://sagemaker-us-east-1-774375974900/autopilot/automl-dm-1625687301/data-processor-models/automl-dm-1625687301-dpp2-1-ef2aaf3aada5437480ecf57071717c0f4a7/output/model.tar.gz\"\n",
            "        }\n",
            "    ],\n",
            "    \"LastModifiedTime\": \"2021-07-07 20:14:58.320000+00:00\",\n",
            "    \"ObjectiveStatus\": \"Succeeded\"\n",
            "}\n"
          ]
        }
      ]
    },
    {
      "cell_type": "code",
      "metadata": {
        "id": "sW44ddc9R2Hu",
        "outputId": "ec23a2d5-b30c-44bd-b8e2-b74805d73774"
      },
      "source": [
        "while 'CandidateName' not in best_candidate:\n",
        "    best_candidate = automl.best_candidate(job_name=auto_ml_job_name)\n",
        "    print('[INFO] Autopilot Job is generating BestCandidate CandidateName. Please wait. ')\n",
        "    print(json.dumps(best_candidate, indent=4, sort_keys=True, default=str))\n",
        "    sleep(10)\n",
        "print('[OK] BestCandidate CandidateName generated.')  "
      ],
      "execution_count": null,
      "outputs": [
        {
          "name": "stdout",
          "output_type": "stream",
          "text": [
            "[OK] BestCandidate CandidateName generated.\n"
          ]
        }
      ]
    },
    {
      "cell_type": "code",
      "metadata": {
        "id": "AwZWOMyWR2Hu",
        "outputId": "c1b4f72f-2816-47dd-8e83-7c6be1791738"
      },
      "source": [
        "while 'FinalAutoMLJobObjectiveMetric' not in best_candidate:\n",
        "    best_candidate = automl.best_candidate(job_name=auto_ml_job_name)\n",
        "    print('[INFO] Autopilot Job is generating BestCandidate FinalAutoMLJobObjectiveMetric. Please wait. ')\n",
        "    print(json.dumps(best_candidate, indent=4, sort_keys=True, default=str))\n",
        "    sleep(10)\n",
        "print('[OK] BestCandidate FinalAutoMLJobObjectiveMetric generated.')  "
      ],
      "execution_count": null,
      "outputs": [
        {
          "name": "stdout",
          "output_type": "stream",
          "text": [
            "[OK] BestCandidate FinalAutoMLJobObjectiveMetric generated.\n"
          ]
        }
      ]
    },
    {
      "cell_type": "code",
      "metadata": {
        "id": "uPMQProiR2Hv",
        "outputId": "23f45028-11ba-47e4-8b57-e4c8d4b1a4b5"
      },
      "source": [
        "best_candidate_identifier = best_candidate['CandidateName']\n",
        "print(\"Candidate name: \" + best_candidate_identifier)\n",
        "print(\"Metric name: \" + best_candidate['FinalAutoMLJobObjectiveMetric']['MetricName'])\n",
        "print(\"Metric value: \" + str(best_candidate['FinalAutoMLJobObjectiveMetric']['Value']))"
      ],
      "execution_count": null,
      "outputs": [
        {
          "name": "stdout",
          "output_type": "stream",
          "text": [
            "Candidate name: automl-dm-1625687301mBS92wfaVVk8-001-bb8b757a\n",
            "Metric name: validation:accuracy\n",
            "Metric value: 0.5579500198364258\n"
          ]
        }
      ]
    },
    {
      "cell_type": "code",
      "metadata": {
        "id": "rCxYZAF8R2Hw",
        "outputId": "b32a7ecf-a22d-4c80-fac2-b3528d18b77c"
      },
      "source": [
        "from IPython.core.display import display, HTML\n",
        "display(\n",
        "    HTML(\n",
        "        '<b>Review all <a target=\"blank\" href=\"https://s3.console.aws.amazon.com/s3/buckets/{}?region={}&prefix=autopilot/{}/\">output in S3</a></b>'.format(\n",
        "            bucket, region, auto_ml_job_name\n",
        "        )\n",
        "    )\n",
        ")"
      ],
      "execution_count": null,
      "outputs": [
        {
          "data": {
            "text/html": [
              "<b>Review all <a target=\"blank\" href=\"https://s3.console.aws.amazon.com/s3/buckets/sagemaker-us-east-1-774375974900?region=us-east-1&prefix=autopilot/automl-dm-1625687301/\">output in S3</a></b>"
            ],
            "text/plain": [
              "<IPython.core.display.HTML object>"
            ]
          },
          "metadata": {},
          "output_type": "display_data"
        }
      ]
    },
    {
      "cell_type": "code",
      "metadata": {
        "id": "aB69Ur0MR2Hx"
      },
      "source": [
        "inference_response_keys = ['predicted_label', 'probability']"
      ],
      "execution_count": null,
      "outputs": []
    },
    {
      "cell_type": "code",
      "metadata": {
        "id": "KcOd4oixR2Hx",
        "outputId": "6a40ba82-3e95-43d0-ca91-b8f50a64b06c"
      },
      "source": [
        "autopilot_model = automl.deploy(\n",
        "    initial_instance_count=1,\n",
        "    instance_type='ml.m5.large',\n",
        "    candidate=best_candidate,\n",
        "    inference_response_keys=inference_response_keys,\n",
        "    predictor_cls=sagemaker.predictor.Predictor,\n",
        "    serializer=sagemaker.serializers.JSONSerializer(),\n",
        "    deserializer=sagemaker.deserializers.JSONDeserializer()\n",
        ")\n",
        "print('\\nEndpoint name:  {}'.format(autopilot_model.endpoint_name))"
      ],
      "execution_count": null,
      "outputs": [
        {
          "name": "stdout",
          "output_type": "stream",
          "text": [
            "-----------------!\n",
            "Endpoint name:  sagemaker-sklearn-automl-2021-07-07-20-33-07-588\n"
          ]
        }
      ]
    },
    {
      "cell_type": "code",
      "metadata": {
        "id": "imYiCoLrR2H1",
        "outputId": "000ff4b0-6966-479d-c2c4-64208e7e77a8"
      },
      "source": [
        "from IPython.core.display import display, HTML\n",
        "display(HTML('<b>Review <a target=\"blank\" href=\"https://console.aws.amazon.com/sagemaker/home?region={}#/endpoints/{}\">SageMaker REST endpoint</a></b>'.format(region, autopilot_model.endpoint_name)))"
      ],
      "execution_count": null,
      "outputs": [
        {
          "data": {
            "text/html": [
              "<b>Review <a target=\"blank\" href=\"https://console.aws.amazon.com/sagemaker/home?region=us-east-1#/endpoints/sagemaker-sklearn-automl-2021-07-07-20-33-07-588\">SageMaker REST endpoint</a></b>"
            ],
            "text/plain": [
              "<IPython.core.display.HTML object>"
            ]
          },
          "metadata": {},
          "output_type": "display_data"
        }
      ]
    },
    {
      "cell_type": "code",
      "metadata": {
        "id": "grOqE8lLR2H2",
        "outputId": "49486cbb-f492-4f49-acf7-f5a920f0c143"
      },
      "source": [
        "sm_runtime = boto3.client('sagemaker-runtime')\n",
        "review_list = ['This product is great!',\n",
        "               'OK, but not great.',\n",
        "               'This is not the right product.']\n",
        "for review in review_list:\n",
        "    review = review.replace(\",\", \"\")\n",
        "    response = sm_runtime.invoke_endpoint(\n",
        "        EndpointName=autopilot_model.endpoint_name,\n",
        "        ContentType='text/csv', \n",
        "        Accept='text/csv', \n",
        "        Body=review \n",
        "        )\n",
        "    response_body=response['Body'].read().decode('utf-8').strip().split(',')\n",
        "    print('Review: ', review, ' Predicated class: {}'.format(response_body[0]))\n",
        "print(\"(-1 = Negative, 0=Neutral, 1=Positive)\")"
      ],
      "execution_count": null,
      "outputs": [
        {
          "name": "stdout",
          "output_type": "stream",
          "text": [
            "Review:  This product is great!  Predicated class: 1\n",
            "Review:  OK but not great.  Predicated class: 1\n",
            "Review:  This is not the right product.  Predicated class: -1\n",
            "(-1 = Negative, 0=Neutral, 1=Positive)\n"
          ]
        }
      ]
    }
  ]
}