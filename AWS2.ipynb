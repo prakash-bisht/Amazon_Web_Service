{
 "cells": [
  {
   "cell_type": "code",
   "execution_count": 1,
   "metadata": {},
   "outputs": [
    {
     "name": "stdout",
     "output_type": "stream",
     "text": [
      "/opt/conda/lib/python3.7/site-packages/secretstorage/dhcrypto.py:16: CryptographyDeprecationWarning: int_from_bytes is deprecated, use int.from_bytes instead\n",
      "  from cryptography.utils import int_from_bytes\n",
      "/opt/conda/lib/python3.7/site-packages/secretstorage/util.py:25: CryptographyDeprecationWarning: int_from_bytes is deprecated, use int.from_bytes instead\n",
      "  from cryptography.utils import int_from_bytes\n",
      "\u001b[33mWARNING: Running pip as the 'root' user can result in broken permissions and conflicting behaviour with the system package manager. It is recommended to use a virtual environment instead: https://pip.pypa.io/warnings/venv\u001b[0m\n"
     ]
    }
   ],
   "source": [
    "!pip install --disable-pip-version-check -q sagemaker==2.35.0"
   ]
  },
  {
   "cell_type": "code",
   "execution_count": 3,
   "metadata": {},
   "outputs": [],
   "source": [
    "import boto3\n",
    "import botocore \n",
    "import sagemaker \n",
    "import numpy as np \n",
    "import pandas as pd \n",
    "config = botocore.config.Config(user_agent_extra=\"dlai-pds/c1/w2\")\n",
    "sm = boto3.client(service_name='sagemaker',config=config)\n",
    "sess = sagemaker.Session(sagemaker_client=sm)\n",
    "bucket = sess.default_bucket()\n",
    "role = sagemaker.get_execution_role()\n",
    "region = sess.boto_region_name "
   ]
  },
  {
   "cell_type": "code",
   "execution_count": 4,
   "metadata": {},
   "outputs": [],
   "source": [
    "import matplotlib.pyplot as plt"
   ]
  },
  {
   "cell_type": "code",
   "execution_count": 5,
   "metadata": {},
   "outputs": [
    {
     "name": "stdout",
     "output_type": "stream",
     "text": [
      "download: s3://dlai-practical-data-science/data/transformed/womens_clothing_ecommerce_reviews_transformed.csv to ./womens_clothing_ecommerce_reviews_transformed.csv\n"
     ]
    }
   ],
   "source": [
    "!aws s3 cp 's3://dlai-practical-data-science/data/transformed/womens_clothing_ecommerce_reviews_transformed.csv' ./"
   ]
  },
  {
   "cell_type": "code",
   "execution_count": 6,
   "metadata": {},
   "outputs": [
    {
     "data": {
      "text/html": [
       "<div>\n",
       "<style scoped>\n",
       "    .dataframe tbody tr th:only-of-type {\n",
       "        vertical-align: middle;\n",
       "    }\n",
       "\n",
       "    .dataframe tbody tr th {\n",
       "        vertical-align: top;\n",
       "    }\n",
       "\n",
       "    .dataframe thead th {\n",
       "        text-align: right;\n",
       "    }\n",
       "</style>\n",
       "<table border=\"1\" class=\"dataframe\">\n",
       "  <thead>\n",
       "    <tr style=\"text-align: right;\">\n",
       "      <th></th>\n",
       "      <th>sentiment</th>\n",
       "      <th>review_body</th>\n",
       "      <th>product_category</th>\n",
       "    </tr>\n",
       "  </thead>\n",
       "  <tbody>\n",
       "    <tr>\n",
       "      <th>0</th>\n",
       "      <td>1</td>\n",
       "      <td>If this product was in petite  i would get the...</td>\n",
       "      <td>Blouses</td>\n",
       "    </tr>\n",
       "    <tr>\n",
       "      <th>1</th>\n",
       "      <td>1</td>\n",
       "      <td>Love this dress!  it's sooo pretty.  i happene...</td>\n",
       "      <td>Dresses</td>\n",
       "    </tr>\n",
       "    <tr>\n",
       "      <th>2</th>\n",
       "      <td>0</td>\n",
       "      <td>I had such high hopes for this dress and reall...</td>\n",
       "      <td>Dresses</td>\n",
       "    </tr>\n",
       "    <tr>\n",
       "      <th>3</th>\n",
       "      <td>1</td>\n",
       "      <td>I love  love  love this jumpsuit. it's fun  fl...</td>\n",
       "      <td>Pants</td>\n",
       "    </tr>\n",
       "    <tr>\n",
       "      <th>4</th>\n",
       "      <td>1</td>\n",
       "      <td>This shirt is very flattering to all due to th...</td>\n",
       "      <td>Blouses</td>\n",
       "    </tr>\n",
       "  </tbody>\n",
       "</table>\n",
       "</div>"
      ],
      "text/plain": [
       "   sentiment                                        review_body  \\\n",
       "0          1  If this product was in petite  i would get the...   \n",
       "1          1  Love this dress!  it's sooo pretty.  i happene...   \n",
       "2          0  I had such high hopes for this dress and reall...   \n",
       "3          1  I love  love  love this jumpsuit. it's fun  fl...   \n",
       "4          1  This shirt is very flattering to all due to th...   \n",
       "\n",
       "  product_category  \n",
       "0          Blouses  \n",
       "1          Dresses  \n",
       "2          Dresses  \n",
       "3            Pants  \n",
       "4          Blouses  "
      ]
     },
     "execution_count": 6,
     "metadata": {},
     "output_type": "execute_result"
    }
   ],
   "source": [
    "path = './womens_clothing_ecommerce_reviews_transformed.csv'\n",
    "df = pd.read_csv(path)\n",
    "df.head()"
   ]
  },
  {
   "cell_type": "code",
   "execution_count": 8,
   "metadata": {},
   "outputs": [
    {
     "data": {
      "text/plain": [
       "<matplotlib.legend.Legend at 0x7f1f8170b5d0>"
      ]
     },
     "execution_count": 8,
     "metadata": {},
     "output_type": "execute_result"
    },
    {
     "data": {
      "image/png": "[encoded data removed]",
      "text/plain": [
       "<Figure size 432x288 with 1 Axes>"
      ]
     },
     "metadata": {
      "needs_background": "light"
     },
     "output_type": "display_data"
    }
   ],
   "source": [
    "import seaborn as sns\n",
    "sns.countplot(data=df, x='sentiment', hue='product_category')\n",
    "plt.legend(loc='upper right',bbox_to_anchor=(1.3, 1.1))"
   ]
  },
  {
   "cell_type": "code",
   "execution_count": 9,
   "metadata": {},
   "outputs": [
    {
     "data": {
      "text/plain": [
       "'s3://sagemaker-us-east-1-050272463904/bias/unbalanced/womens_clothing_ecommerce_reviews_transformed.csv'"
      ]
     },
     "execution_count": 9,
     "metadata": {},
     "output_type": "execute_result"
    }
   ],
   "source": [
    "data_s3_uri_unbalanced = sess.upload_data(bucket=bucket,key_prefix='bias/unbalanced', \n",
    "                               path='./womens_clothing_ecommerce_reviews_transformed.csv')\n",
    "data_s3_uri_unbalanced "
   ]
  },
  {
   "cell_type": "code",
   "execution_count": null,
   "metadata": {},
   "outputs": [],
   "source": [
    "'''\n",
    "s3_data_input_path=..., # S3 object path containing the unbalanced dataset\n",
    "s3_output_path=..., # path to store the output\n",
    "label='...', # target column\n",
    "'''"
   ]
  },
  {
   "cell_type": "code",
   "execution_count": 10,
   "metadata": {},
   "outputs": [],
   "source": [
    "from sagemaker import clarify \n",
    "bias_report_unbalanced_output_path = 's3://{}/bias/generated_bias_report/unbalanced'.format(bucket)\n",
    "data_config_unbalanced = clarify.DataConfig(\n",
    "s3_data_input_path=data_s3_uri_unbalanced,\n",
    "s3_output_path=bias_report_unbalanced_output_path,\n",
    "label='sentiment',\n",
    "headers=df.columns.to_list(),\n",
    "dataset_type='text/csv'\n",
    ")"
   ]
  },
  {
   "cell_type": "code",
   "execution_count": 11,
   "metadata": {},
   "outputs": [],
   "source": [
    "bias_config_unbalanced = clarify.BiasConfig(label_values_or_threshold=[1],\n",
    "                                           facet_name=\"product_category\")"
   ]
  },
  {
   "cell_type": "code",
   "execution_count": 12,
   "metadata": {},
   "outputs": [],
   "source": [
    "clarify_processor_unbalanced = clarify.SageMakerClarifyProcessor(role=role,\n",
    "                                                                instance_count=1,\n",
    "                                                                instance_type='ml.m5.large',\n",
    "                                                                sagemaker_session=sess)"
   ]
  },
  {
   "cell_type": "code",
   "execution_count": null,
   "metadata": {},
   "outputs": [],
   "source": [
    "'''\n",
    "wait=False, # whether the call should wait until the job completes (default: True)\n",
    "logs=False # whether to show the logs produced by the job. Only meaningful when wait is True (default: True)\n",
    "'''"
   ]
  },
  {
   "cell_type": "code",
   "execution_count": 14,
   "metadata": {},
   "outputs": [
    {
     "name": "stdout",
     "output_type": "stream",
     "text": [
      "\n",
      "Job Name:  Clarify-Pretraining-Bias-2021-09-04-12-35-23-259\n",
      "Inputs:  [{'InputName': 'dataset', 'AppManaged': False, 'S3Input': {'S3Uri': 's3://sagemaker-us-east-1-050272463904/bias/unbalanced/womens_clothing_ecommerce_reviews_transformed.csv', 'LocalPath': '/opt/ml/processing/input/data', 'S3DataType': 'S3Prefix', 'S3InputMode': 'File', 'S3DataDistributionType': 'FullyReplicated', 'S3CompressionType': 'None'}}, {'InputName': 'analysis_config', 'AppManaged': False, 'S3Input': {'S3Uri': 's3://sagemaker-us-east-1-050272463904/bias/generated_bias_report/unbalanced/analysis_config.json', 'LocalPath': '/opt/ml/processing/input/config', 'S3DataType': 'S3Prefix', 'S3InputMode': 'File', 'S3DataDistributionType': 'FullyReplicated', 'S3CompressionType': 'None'}}]\n",
      "Outputs:  [{'OutputName': 'analysis_result', 'AppManaged': False, 'S3Output': {'S3Uri': 's3://sagemaker-us-east-1-050272463904/bias/generated_bias_report/unbalanced', 'LocalPath': '/opt/ml/processing/output', 'S3UploadMode': 'EndOfJob'}}]\n"
     ]
    }
   ],
   "source": [
    "clarify_processor_unbalanced.run_pre_training_bias(\n",
    "data_config = data_config_unbalanced,\n",
    "data_bias_config = bias_config_unbalanced,\n",
    "methods=[\"CI\", \"DPL\", \"KL\", \"JS\", \"LP\", \"TVD\", \"KS\"],\n",
    "wait=False,\n",
    "logs=False\n",
    ")"
   ]
  },
  {
   "cell_type": "code",
   "execution_count": 15,
   "metadata": {},
   "outputs": [
    {
     "name": "stdout",
     "output_type": "stream",
     "text": [
      "Clarify-Pretraining-Bias-2021-09-04-12-35-23-259\n"
     ]
    }
   ],
   "source": [
    "run_unbalanced_bias_processing_job_name = clarify_processor_unbalanced.latest_job.job_name\n",
    "print(run_unbalanced_bias_processing_job_name)"
   ]
  },
  {
   "cell_type": "code",
   "execution_count": 16,
   "metadata": {},
   "outputs": [
    {
     "data": {
      "text/html": [
       "<b>Review <a target=\"blank\" href=\"https://console.aws.amazon.com/sagemaker/home?region=us-east-1#/processing-jobs/Clarify-Pretraining-Bias-2021-09-04-12-35-23-259\">processing job</a></b>"
      ],
      "text/plain": [
       "<IPython.core.display.HTML object>"
      ]
     },
     "metadata": {},
     "output_type": "display_data"
    }
   ],
   "source": [
    "from IPython.core.display import display, HTML\n",
    "display(HTML('<b>Review <a target=\"blank\" href=\"https://console.aws.amazon.com/sagemaker/home?region={}#/processing-jobs/{}\">processing job</a></b>'.format(region, run_unbalanced_bias_processing_job_name)))"
   ]
  },
  {
   "cell_type": "code",
   "execution_count": 17,
   "metadata": {},
   "outputs": [
    {
     "data": {
      "text/html": [
       "<b>Review <a target=\"blank\" href=\"https://console.aws.amazon.com/cloudwatch/home?region=us-east-1#logStream:group=/aws/sagemaker/ProcessingJobs;prefix=Clarify-Pretraining-Bias-2021-09-04-12-35-23-259;streamFilter=typeLogStreamPrefix\">CloudWatch logs</a> after about 5 minutes</b>"
      ],
      "text/plain": [
       "<IPython.core.display.HTML object>"
      ]
     },
     "metadata": {},
     "output_type": "display_data"
    }
   ],
   "source": [
    "from IPython.core.display import display, HTML\n",
    "display(HTML('<b>Review <a target=\"blank\" href=\"https://console.aws.amazon.com/cloudwatch/home?region={}#logStream:group=/aws/sagemaker/ProcessingJobs;prefix={};streamFilter=typeLogStreamPrefix\">CloudWatch logs</a> after about 5 minutes</b>'.format(region, run_unbalanced_bias_processing_job_name)))"
   ]
  },
  {
   "cell_type": "code",
   "execution_count": 18,
   "metadata": {},
   "outputs": [],
   "source": [
    "running_processor = sagemaker.processing.ProcessingJob.from_processing_name(processing_job_name=run_unbalanced_bias_processing_job_name,\n",
    "                                                                           sagemaker_session=sess)"
   ]
  },
  {
   "cell_type": "code",
   "execution_count": 19,
   "metadata": {},
   "outputs": [
    {
     "name": "stdout",
     "output_type": "stream",
     "text": [
      "!CPU times: user 18.2 ms, sys: 204 µs, total: 18.4 ms\n",
      "Wall time: 70.6 ms\n"
     ]
    }
   ],
   "source": [
    "%%time\n",
    "running_processor.wait(logs=False)"
   ]
  },
  {
   "cell_type": "code",
   "execution_count": 21,
   "metadata": {},
   "outputs": [
    {
     "name": "stdout",
     "output_type": "stream",
     "text": [
      "2021-09-04 12:40:53      31732 analysis.json\n",
      "2021-09-04 12:35:24        346 analysis_config.json\n",
      "2021-09-04 12:40:53     385665 report.html\n",
      "2021-09-04 12:40:53     121999 report.ipynb\n",
      "2021-09-04 12:40:53     139371 report.pdf\n"
     ]
    }
   ],
   "source": [
    "!aws s3 ls $bias_report_unbalanced_output_path/"
   ]
  },
  {
   "cell_type": "code",
   "execution_count": 23,
   "metadata": {},
   "outputs": [
    {
     "name": "stdout",
     "output_type": "stream",
     "text": [
      "download: s3://sagemaker-us-east-1-050272463904/bias/generated_bias_report/unbalanced/analysis_config.json to generated_bias_report/unbalanced/analysis_config.json\n",
      "download: s3://sagemaker-us-east-1-050272463904/bias/generated_bias_report/unbalanced/analysis.json to generated_bias_report/unbalanced/analysis.json\n",
      "download: s3://sagemaker-us-east-1-050272463904/bias/generated_bias_report/unbalanced/report.ipynb to generated_bias_report/unbalanced/report.ipynb\n",
      "download: s3://sagemaker-us-east-1-050272463904/bias/generated_bias_report/unbalanced/report.pdf to generated_bias_report/unbalanced/report.pdf\n",
      "download: s3://sagemaker-us-east-1-050272463904/bias/generated_bias_report/unbalanced/report.html to generated_bias_report/unbalanced/report.html\n"
     ]
    }
   ],
   "source": [
    "!aws s3 cp --recursive $bias_report_unbalanced_output_path ./generated_bias_report/unbalanced/"
   ]
  },
  {
   "cell_type": "code",
   "execution_count": 25,
   "metadata": {},
   "outputs": [
    {
     "data": {
      "text/html": [
       "<b>Review <a target=\"blank\" href=\"./generated_bias_report/unbalanced/report.html\">unbalanced bias report</a></b>"
      ],
      "text/plain": [
       "<IPython.core.display.HTML object>"
      ]
     },
     "metadata": {},
     "output_type": "display_data"
    }
   ],
   "source": [
    "from IPython.core.display import display, HTML\n",
    "display(HTML('<b>Review <a target=\"blank\" href=\"./generated_bias_report/unbalanced/report.html\">unbalanced bias report</a></b>'))"
   ]
  },
  {
   "cell_type": "code",
   "execution_count": 26,
   "metadata": {},
   "outputs": [],
   "source": [
    "df_grouped_by = df.groupby(['product_category', 'sentiment'])\n",
    "df_balanced = df_grouped_by.apply(lambda x: x.sample(df_grouped_by.size().min()).reset_index(drop=True))"
   ]
  },
  {
   "cell_type": "code",
   "execution_count": 27,
   "metadata": {},
   "outputs": [
    {
     "data": {
      "text/html": [
       "<div>\n",
       "<style scoped>\n",
       "    .dataframe tbody tr th:only-of-type {\n",
       "        vertical-align: middle;\n",
       "    }\n",
       "\n",
       "    .dataframe tbody tr th {\n",
       "        vertical-align: top;\n",
       "    }\n",
       "\n",
       "    .dataframe thead th {\n",
       "        text-align: right;\n",
       "    }\n",
       "</style>\n",
       "<table border=\"1\" class=\"dataframe\">\n",
       "  <thead>\n",
       "    <tr style=\"text-align: right;\">\n",
       "      <th></th>\n",
       "      <th></th>\n",
       "      <th></th>\n",
       "      <th>sentiment</th>\n",
       "      <th>review_body</th>\n",
       "      <th>product_category</th>\n",
       "    </tr>\n",
       "    <tr>\n",
       "      <th>product_category</th>\n",
       "      <th>sentiment</th>\n",
       "      <th></th>\n",
       "      <th></th>\n",
       "      <th></th>\n",
       "      <th></th>\n",
       "    </tr>\n",
       "  </thead>\n",
       "  <tbody>\n",
       "    <tr>\n",
       "      <th rowspan=\"5\" valign=\"top\">Blouses</th>\n",
       "      <th rowspan=\"5\" valign=\"top\">-1</th>\n",
       "      <th>0</th>\n",
       "      <td>-1</td>\n",
       "      <td>Poor quality. i expected much more from the ma...</td>\n",
       "      <td>Blouses</td>\n",
       "    </tr>\n",
       "    <tr>\n",
       "      <th>1</th>\n",
       "      <td>-1</td>\n",
       "      <td>Material was a tad rough for my liking. the co...</td>\n",
       "      <td>Blouses</td>\n",
       "    </tr>\n",
       "    <tr>\n",
       "      <th>2</th>\n",
       "      <td>-1</td>\n",
       "      <td>Loved this shirt when i saw the picture. unfor...</td>\n",
       "      <td>Blouses</td>\n",
       "    </tr>\n",
       "    <tr>\n",
       "      <th>3</th>\n",
       "      <td>-1</td>\n",
       "      <td>Unfortunately this one is going back. the fit ...</td>\n",
       "      <td>Blouses</td>\n",
       "    </tr>\n",
       "    <tr>\n",
       "      <th>4</th>\n",
       "      <td>-1</td>\n",
       "      <td>The shirt is absolutely cute looking. but that...</td>\n",
       "      <td>Blouses</td>\n",
       "    </tr>\n",
       "    <tr>\n",
       "      <th>...</th>\n",
       "      <th>...</th>\n",
       "      <th>...</th>\n",
       "      <td>...</td>\n",
       "      <td>...</td>\n",
       "      <td>...</td>\n",
       "    </tr>\n",
       "    <tr>\n",
       "      <th rowspan=\"5\" valign=\"top\">Trend</th>\n",
       "      <th rowspan=\"5\" valign=\"top\">1</th>\n",
       "      <th>4</th>\n",
       "      <td>1</td>\n",
       "      <td>You just can't go wrong with a perfect white t...</td>\n",
       "      <td>Trend</td>\n",
       "    </tr>\n",
       "    <tr>\n",
       "      <th>5</th>\n",
       "      <td>1</td>\n",
       "      <td>This lovely skirt absolutely hits the mark for...</td>\n",
       "      <td>Trend</td>\n",
       "    </tr>\n",
       "    <tr>\n",
       "      <th>6</th>\n",
       "      <td>1</td>\n",
       "      <td>This dress runs tts. the fabric is a good qual...</td>\n",
       "      <td>Trend</td>\n",
       "    </tr>\n",
       "    <tr>\n",
       "      <th>7</th>\n",
       "      <td>1</td>\n",
       "      <td>I love this coat! it does run a bit large. i a...</td>\n",
       "      <td>Trend</td>\n",
       "    </tr>\n",
       "    <tr>\n",
       "      <th>8</th>\n",
       "      <td>1</td>\n",
       "      <td>Dress is beautiful in person  light material t...</td>\n",
       "      <td>Trend</td>\n",
       "    </tr>\n",
       "  </tbody>\n",
       "</table>\n",
       "<p>486 rows × 3 columns</p>\n",
       "</div>"
      ],
      "text/plain": [
       "                              sentiment  \\\n",
       "product_category sentiment                \n",
       "Blouses          -1        0         -1   \n",
       "                           1         -1   \n",
       "                           2         -1   \n",
       "                           3         -1   \n",
       "                           4         -1   \n",
       "...                                 ...   \n",
       "Trend             1        4          1   \n",
       "                           5          1   \n",
       "                           6          1   \n",
       "                           7          1   \n",
       "                           8          1   \n",
       "\n",
       "                                                                    review_body  \\\n",
       "product_category sentiment                                                        \n",
       "Blouses          -1        0  Poor quality. i expected much more from the ma...   \n",
       "                           1  Material was a tad rough for my liking. the co...   \n",
       "                           2  Loved this shirt when i saw the picture. unfor...   \n",
       "                           3  Unfortunately this one is going back. the fit ...   \n",
       "                           4  The shirt is absolutely cute looking. but that...   \n",
       "...                                                                         ...   \n",
       "Trend             1        4  You just can't go wrong with a perfect white t...   \n",
       "                           5  This lovely skirt absolutely hits the mark for...   \n",
       "                           6  This dress runs tts. the fabric is a good qual...   \n",
       "                           7  I love this coat! it does run a bit large. i a...   \n",
       "                           8  Dress is beautiful in person  light material t...   \n",
       "\n",
       "                             product_category  \n",
       "product_category sentiment                     \n",
       "Blouses          -1        0          Blouses  \n",
       "                           1          Blouses  \n",
       "                           2          Blouses  \n",
       "                           3          Blouses  \n",
       "                           4          Blouses  \n",
       "...                                       ...  \n",
       "Trend             1        4            Trend  \n",
       "                           5            Trend  \n",
       "                           6            Trend  \n",
       "                           7            Trend  \n",
       "                           8            Trend  \n",
       "\n",
       "[486 rows x 3 columns]"
      ]
     },
     "execution_count": 27,
     "metadata": {},
     "output_type": "execute_result"
    }
   ],
   "source": [
    "df_balanced"
   ]
  },
  {
   "cell_type": "code",
   "execution_count": 28,
   "metadata": {},
   "outputs": [
    {
     "data": {
      "text/plain": [
       "<matplotlib.legend.Legend at 0x7f1f8107e790>"
      ]
     },
     "execution_count": 28,
     "metadata": {},
     "output_type": "execute_result"
    },
    {
     "data": {
      "image/png": "[encoded data removed]",
      "text/plain": [
       "<Figure size 432x288 with 1 Axes>"
      ]
     },
     "metadata": {
      "needs_background": "light"
     },
     "output_type": "display_data"
    }
   ],
   "source": [
    "import seaborn as sns\n",
    "sns.countplot(data=df_balanced, x='sentiment', hue='product_category')\n",
    "plt.legend(loc='upper right',bbox_to_anchor=(1.3, 1.1))"
   ]
  },
  {
   "cell_type": "code",
   "execution_count": 29,
   "metadata": {},
   "outputs": [
    {
     "data": {
      "text/plain": [
       "'s3://sagemaker-us-east-1-050272463904/bias/balanced/womens_clothing_ecommerce_reviews_balanced.csv'"
      ]
     },
     "execution_count": 29,
     "metadata": {},
     "output_type": "execute_result"
    }
   ],
   "source": [
    "path_balanced = './womens_clothing_ecommerce_reviews_balanced.csv'\n",
    "df_balanced.to_csv(path_balanced, index=False, header=True)\n",
    "data_s3_uri_balanced = sess.upload_data(bucket=bucket, key_prefix='bias/balanced', path=path_balanced)\n",
    "data_s3_uri_balanced"
   ]
  },
  {
   "cell_type": "code",
   "execution_count": 30,
   "metadata": {},
   "outputs": [],
   "source": [
    "from sagemaker import clarify\n",
    "bias_report_balanced_output_path = 's3://{}/bias/generated_bias_report/balanced'.format(bucket)\n",
    "data_config_balanced = clarify.DataConfig(\n",
    "    s3_data_input_path=data_s3_uri_balanced, \n",
    "    s3_output_path=bias_report_balanced_output_path, \n",
    "    label='sentiment', \n",
    "    headers=df_balanced.columns.to_list(),\n",
    "    dataset_type='text/csv'\n",
    ")"
   ]
  },
  {
   "cell_type": "code",
   "execution_count": 31,
   "metadata": {},
   "outputs": [],
   "source": [
    "bias_config_balanced = clarify.BiasConfig(\n",
    "    label_values_or_threshold=[1],\n",
    "    facet_name='product_category' \n",
    ")"
   ]
  },
  {
   "cell_type": "code",
   "execution_count": 32,
   "metadata": {},
   "outputs": [],
   "source": [
    "clarify_processor_balanced = clarify.SageMakerClarifyProcessor(role=role,\n",
    "                                                      instance_count=1,\n",
    "                                                      instance_type='ml.m5.large',\n",
    "                                                      sagemaker_session=sess)"
   ]
  },
  {
   "cell_type": "code",
   "execution_count": 33,
   "metadata": {},
   "outputs": [
    {
     "name": "stdout",
     "output_type": "stream",
     "text": [
      "\n",
      "Job Name:  Clarify-Pretraining-Bias-2021-09-04-13-34-52-819\n",
      "Inputs:  [{'InputName': 'dataset', 'AppManaged': False, 'S3Input': {'S3Uri': 's3://sagemaker-us-east-1-050272463904/bias/balanced/womens_clothing_ecommerce_reviews_balanced.csv', 'LocalPath': '/opt/ml/processing/input/data', 'S3DataType': 'S3Prefix', 'S3InputMode': 'File', 'S3DataDistributionType': 'FullyReplicated', 'S3CompressionType': 'None'}}, {'InputName': 'analysis_config', 'AppManaged': False, 'S3Input': {'S3Uri': 's3://sagemaker-us-east-1-050272463904/bias/generated_bias_report/balanced/analysis_config.json', 'LocalPath': '/opt/ml/processing/input/config', 'S3DataType': 'S3Prefix', 'S3InputMode': 'File', 'S3DataDistributionType': 'FullyReplicated', 'S3CompressionType': 'None'}}]\n",
      "Outputs:  [{'OutputName': 'analysis_result', 'AppManaged': False, 'S3Output': {'S3Uri': 's3://sagemaker-us-east-1-050272463904/bias/generated_bias_report/balanced', 'LocalPath': '/opt/ml/processing/output', 'S3UploadMode': 'EndOfJob'}}]\n"
     ]
    }
   ],
   "source": [
    "clarify_processor_balanced.run_pre_training_bias(\n",
    "    data_config=data_config_balanced, \n",
    "    data_bias_config=bias_config_balanced, \n",
    "    methods=[\"CI\", \"DPL\", \"KL\", \"JS\", \"LP\", \"TVD\", \"KS\"],\n",
    "    wait=False,\n",
    "    logs=False\n",
    ")"
   ]
  },
  {
   "cell_type": "code",
   "execution_count": 34,
   "metadata": {},
   "outputs": [
    {
     "name": "stdout",
     "output_type": "stream",
     "text": [
      "Clarify-Pretraining-Bias-2021-09-04-13-34-52-819\n"
     ]
    }
   ],
   "source": [
    "run_balanced_bias_processing_job_name = clarify_processor_balanced.latest_job.job_name\n",
    "print(run_balanced_bias_processing_job_name)"
   ]
  },
  {
   "cell_type": "code",
   "execution_count": 35,
   "metadata": {},
   "outputs": [
    {
     "data": {
      "text/html": [
       "<b>Review <a target=\"blank\" href=\"https://console.aws.amazon.com/sagemaker/home?region=us-east-1#/processing-jobs/Clarify-Pretraining-Bias-2021-09-04-13-34-52-819\">processing job</a></b>"
      ],
      "text/plain": [
       "<IPython.core.display.HTML object>"
      ]
     },
     "metadata": {},
     "output_type": "display_data"
    }
   ],
   "source": [
    "from IPython.core.display import display, HTML\n",
    "display(HTML('<b>Review <a target=\"blank\" href=\"https://console.aws.amazon.com/sagemaker/home?region={}#/processing-jobs/{}\">processing job</a></b>'.format(region, run_balanced_bias_processing_job_name)))"
   ]
  },
  {
   "cell_type": "code",
   "execution_count": null,
   "metadata": {},
   "outputs": [],
   "source": [
    "from IPython.core.display import display, HTML\n",
    "\n",
    "display(HTML('<b>Review <a target=\"blank\" href=\"https://console.aws.amazon.com/cloudwatch/home?region={}#logStream:group=/aws/sagemaker/ProcessingJobs;prefix={};streamFilter=typeLogStreamPrefix\">CloudWatch logs</a> after about 5 minutes</b>'.format(region, run_balanced_bias_processing_job_name)))"
   ]
  },
  {
   "cell_type": "code",
   "execution_count": 36,
   "metadata": {},
   "outputs": [],
   "source": [
    "running_processor = sagemaker.processing.ProcessingJob.from_processing_name(processing_job_name=run_balanced_bias_processing_job_name,\n",
    "                                                                            sagemaker_session=sess)"
   ]
  },
  {
   "cell_type": "code",
   "execution_count": 37,
   "metadata": {},
   "outputs": [
    {
     "name": "stdout",
     "output_type": "stream",
     "text": [
      "...........................................!CPU times: user 167 ms, sys: 27.4 ms, total: 194 ms\n",
      "Wall time: 3min 36s\n"
     ]
    }
   ],
   "source": [
    "%%time\n",
    "running_processor.wait(logs=False)"
   ]
  },
  {
   "cell_type": "code",
   "execution_count": 38,
   "metadata": {},
   "outputs": [
    {
     "name": "stdout",
     "output_type": "stream",
     "text": [
      "download: s3://sagemaker-us-east-1-050272463904/bias/generated_bias_report/balanced/analysis_config.json to generated_bias_report/balanced/analysis_config.json\n",
      "download: s3://sagemaker-us-east-1-050272463904/bias/generated_bias_report/balanced/analysis.json to generated_bias_report/balanced/analysis.json\n",
      "download: s3://sagemaker-us-east-1-050272463904/bias/generated_bias_report/balanced/report.pdf to generated_bias_report/balanced/report.pdf\n",
      "download: s3://sagemaker-us-east-1-050272463904/bias/generated_bias_report/balanced/report.ipynb to generated_bias_report/balanced/report.ipynb\n",
      "download: s3://sagemaker-us-east-1-050272463904/bias/generated_bias_report/balanced/report.html to generated_bias_report/balanced/report.html\n"
     ]
    }
   ],
   "source": [
    "!aws s3 cp --recursive $bias_report_balanced_output_path ./generated_bias_report/balanced/"
   ]
  },
  {
   "cell_type": "code",
   "execution_count": 39,
   "metadata": {},
   "outputs": [
    {
     "name": "stdout",
     "output_type": "stream",
     "text": [
      "download: s3://sagemaker-us-east-1-050272463904/bias/generated_bias_report/balanced/analysis_config.json to generated_bias_report/balanced/analysis_config.json\n",
      "download: s3://sagemaker-us-east-1-050272463904/bias/generated_bias_report/balanced/analysis.json to generated_bias_report/balanced/analysis.json\n",
      "download: s3://sagemaker-us-east-1-050272463904/bias/generated_bias_report/balanced/report.html to generated_bias_report/balanced/report.html\n",
      "download: s3://sagemaker-us-east-1-050272463904/bias/generated_bias_report/balanced/report.ipynb to generated_bias_report/balanced/report.ipynb\n",
      "download: s3://sagemaker-us-east-1-050272463904/bias/generated_bias_report/balanced/report.pdf to generated_bias_report/balanced/report.pdf\n"
     ]
    }
   ],
   "source": [
    "!aws s3 cp --recursive $bias_report_balanced_output_path ./generated_bias_report/balanced/"
   ]
  }
 ],
 "metadata": {
  "instance_type": "ml.t3.medium",
  "kernelspec": {
   "display_name": "Python 3 (Data Science)",
   "language": "python",
   "name": "python3__SAGEMAKER_INTERNAL__arn:aws:sagemaker:us-east-1:081325390199:image/datascience-1.0"
  },
  "language_info": {
   "codemirror_mode": {
    "name": "ipython",
    "version": 3
   },
   "file_extension": ".py",
   "mimetype": "text/x-python",
   "name": "python",
   "nbconvert_exporter": "python",
   "pygments_lexer": "ipython3",
   "version": "3.7.10"
  }
 },
 "nbformat": 4,
 "nbformat_minor": 4
}
